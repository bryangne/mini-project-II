{
 "cells": [
  {
   "cell_type": "markdown",
   "metadata": {
    "cell_style": "center",
    "slideshow": {
     "slide_type": "skip"
    }
   },
   "source": [
    "# Mini-project II\n",
    "The details for the miniproject from Week 2\n",
    "\n",
    "\n",
    "In this miniproject, we will combine and practice topics that we have learned in previous two weeks:\n",
    "- APIs\n",
    "- Databases (SQL)\n",
    "- Pandas\n",
    "- Processing special data types in Python\n",
    "\n",
    "We will work with these APIs:\n",
    "1. [Foursquare](https://developer.foursquare.com/places) - we have already come across this one\n",
    "2. [Yelp](https://www.yelp.com/developers/documentation/v3/get_started) - this API offers similar services as Foursquare.\n",
    "3. (Stretch) [Google Places API](https://developers.google.com/places/web-service/intro) - this google api offers similar service as well.\n",
    "\n",
    "The main goal of the mini-project is to build the database of restaurants, bars and various points of interest (POIs) in the area of your choice and find out which API has better coverage in the selected area. The APIs have limited number of requests for free, so start with the smaller area. The project consists of following tasks:\n",
    "\n",
    "- pull the data about various POIs in the area through API. (Search Yelp for companiees that are in the area using [these instructions](https://www.yelp.com/developers/documentation/v3/business_search)). If you run out of requests for any of the APIs, don't worry, it's ok to use only sample data you already have or the POIs from the Yelp API. It's approach and process that counts, not the actual number of places we were able to get.\n",
    "- create own SQLite database and store the data about the POIs. Think about what will be the best structure of the database. We've used and created sqlite3 databases before in the activity [**SQL in Python**](https://data.compass.lighthouselabs.ca/b9e08cd5-68c6-490c-a32b-a66f01bf53e1).\n",
    "- compare the results using SQL or Pandas (it's up to you:)) and see which API has a better coverage of the area.\n",
    "- choose the top 10 POIs based on the popularity (number of reviews or average rating) ([Yelp](https://www.yelp.com/developers/documentation/v3/business), [Foursquare](https://developer.foursquare.com/docs/api-reference/venues/details/)).\n",
    "- (Stretch) By implementing [travelling salesman problem (TSP)](https://en.wikipedia.org/wiki/Travelling_salesman_problem), how much time would it take to visit all of these places? ([Directions API](https://developers.google.com/maps/documentation/directions/start) from google will be helpful here). We will have to find travel time between all places (top 10). We can use [ortools](https://developers.google.com/optimization/routing/tsp) from Google to effectively implement TSP. These tools are very powerful and [easy to install](https://developers.google.com/optimization/install).\n",
    "\n",
    "We have a lot of work so let's start right away. Enjoy!!\n",
    "\n",
    "\n",
    "> #### Note\n",
    "> Some APIs from Google aren't for free anymore but each account has 200$ credit every month. Therefore we are able to use these services for learning purposes for free.\n"
   ]
  },
  {
   "cell_type": "markdown",
   "metadata": {
    "cell_style": "center",
    "slideshow": {
     "slide_type": "slide"
    }
   },
   "source": [
    "# Best Places to Visit\n",
    "### Using Yelp and Foursquare"
   ]
  },
  {
   "cell_type": "markdown",
   "metadata": {
    "slideshow": {
     "slide_type": "slide"
    }
   },
   "source": [
    "## Which API is better?\n",
    "![Yelp](img/yelp-icon.jpg) ![Foursquare](img/foursquare-icon.jpg)"
   ]
  },
  {
   "cell_type": "markdown",
   "metadata": {
    "slideshow": {
     "slide_type": "slide"
    }
   },
   "source": [
    "## Today's Itinerary\n",
    "1. Getting Data from Yelp and Foursquare\n",
    "2. The Top 10 Places of Interest\n",
    "3. Which is Better?"
   ]
  },
  {
   "cell_type": "code",
   "execution_count": 2,
   "metadata": {
    "slideshow": {
     "slide_type": "skip"
    }
   },
   "outputs": [],
   "source": [
    "import pandas as pd\n",
    "import numpy as np\n",
    "import json\n",
    "import requests as re\n",
    "from api_keys import foursquare, yelp\n",
    "from IPython.display import JSON"
   ]
  },
  {
   "cell_type": "code",
   "execution_count": 3,
   "metadata": {
    "slideshow": {
     "slide_type": "skip"
    }
   },
   "outputs": [],
   "source": [
    "# setup API ids and passwords\n",
    "fs_id = foursquare['id']\n",
    "fs_secret = foursquare['secret']\n",
    "fs_key = foursquare['key']"
   ]
  },
  {
   "cell_type": "code",
   "execution_count": 4,
   "metadata": {
    "slideshow": {
     "slide_type": "skip"
    }
   },
   "outputs": [],
   "source": [
    "il = '49.239971669380836,-122.97203063964844'\n",
    "ver = '20211124'\n",
    "query = 'restaurant'\n",
    "fields = 'fsq_id%2Ccategories%2Cdistance%2Cgeocodes%2Clocation%2Cname%2Ctel%2Crating%2Cstats%2Cpopularity%2Cprice'\n",
    "# url = \"https://api.foursquare.com/v3/places/4abbc832f964a520e08420e3?fields=fsq_id%2Ccategories%2Cdistance%2Cgeocodes%2Clocation%2Cname%2Ctel%2Crating%2Cstats%2Cpopularity%2Cprice\"\n",
    "\n",
    "url = f\"https://api.foursquare.com/v3/places/search?query={query}&ll={il}&fields={fields}&limit=50\"\n",
    "headers = {\n",
    "    \"Accept\": \"application/json\",\n",
    "    \"Authorization\": fs_key\n",
    "}\n",
    "response = re.request(\"GET\", url, headers=headers)"
   ]
  },
  {
   "cell_type": "code",
   "execution_count": 5,
   "metadata": {
    "slideshow": {
     "slide_type": "skip"
    }
   },
   "outputs": [
    {
     "data": {
      "application/json": {
       "context": {
        "geo_bounds": {
         "circle": {
          "center": {
           "latitude": 49.239971669380836,
           "longitude": -122.97203063964844
          },
          "radius": 2951
         }
        }
       },
       "results": [
        {
         "categories": [
          {
           "icon": {
            "prefix": "https://ss3.4sqi.net/img/categories_v2/food/seafood_",
            "suffix": ".png"
           },
           "id": 13338,
           "name": "Seafood Restaurant"
          }
         ],
         "distance": 439,
         "fsq_id": "4c19aa446a21c9b6cffeca97",
         "geocodes": {
          "main": {
           "latitude": 49.238122956289246,
           "longitude": -122.96667646771981
          }
         },
         "location": {
          "address": "6664 Deer Lake Ave",
          "country": "CA",
          "locality": "Burnaby",
          "neighborhood": [
           "Central Burnaby"
          ],
          "postcode": "V5E 4H3",
          "region": "BC"
         },
         "name": "Hart House Restaurant",
         "popularity": 0.9265922415870211,
         "price": 4,
         "rating": 7.3,
         "stats": {
          "total_photos": 83,
          "total_ratings": 28,
          "total_tips": 11
         },
         "tel": "(604) 298-4278"
        },
        {
         "categories": [
          {
           "icon": {
            "prefix": "https://ss3.4sqi.net/img/categories_v2/food/pizza_",
            "suffix": ".png"
           },
           "id": 13064,
           "name": "Pizzeria"
          }
         ],
         "distance": 656,
         "fsq_id": "4ebdcb72b8f7963bcccc2ae9",
         "geocodes": {
          "main": {
           "latitude": 49.23928314768858,
           "longitude": -122.96304751894762
          }
         },
         "location": {
          "address": "5115 Canada Way",
          "country": "CA",
          "cross_street": "",
          "locality": "Burnaby",
          "neighborhood": [
           "Burnaby"
          ],
          "postcode": "V5E 3N1",
          "region": "BC"
         },
         "name": "Viva Sue Pizza",
         "popularity": 0.9445024496024416,
         "price": 1,
         "rating": 7,
         "stats": {
          "total_photos": 3,
          "total_ratings": 9,
          "total_tips": 2
         },
         "tel": "(604) 522-5200"
        },
        {
         "categories": [
          {
           "icon": {
            "prefix": "https://ss3.4sqi.net/img/categories_v2/food/diner_",
            "suffix": ".png"
           },
           "id": 13049,
           "name": "Diner"
          }
         ],
         "distance": 663,
         "fsq_id": "4d2250955acaa35dbd2ad735",
         "geocodes": {
          "main": {
           "latitude": 49.239232,
           "longitude": -122.962959
          }
         },
         "location": {
          "address": "5121 Canada Way",
          "country": "CA",
          "cross_street": "",
          "locality": "Burnaby",
          "neighborhood": [
           "Burnaby"
          ],
          "postcode": "V5E 3N1",
          "region": "BC"
         },
         "name": "Safari Snack House",
         "popularity": 0.8633041522769256,
         "price": 1,
         "rating": 6.8,
         "stats": {
          "total_photos": 6,
          "total_ratings": 8,
          "total_tips": 1
         },
         "tel": "(604) 515-9211"
        },
        {
         "categories": [
          {
           "icon": {
            "prefix": "https://ss3.4sqi.net/img/categories_v2/food/indian_",
            "suffix": ".png"
           },
           "id": 13199,
           "name": "Indian Restaurant"
          }
         ],
         "distance": 600,
         "fsq_id": "5222a5a211d2c8e2151325f7",
         "geocodes": {
          "main": {
           "latitude": 49.239526473078314,
           "longitude": -122.96377752172502
          }
         },
         "location": {
          "address": "5081 Canada Way",
          "country": "CA",
          "cross_street": "",
          "locality": "Burnaby",
          "neighborhood": [
           "Burnaby"
          ],
          "postcode": "V5E 3N1",
          "region": "BC"
         },
         "name": "Chettinad Dosa Palace",
         "popularity": 0.9071560517227532,
         "price": 2,
         "rating": 6.3,
         "stats": {
          "total_photos": 5,
          "total_ratings": 14,
          "total_tips": 6
         },
         "tel": "(604) 544-1561"
        },
        {
         "categories": [
          {
           "icon": {
            "prefix": "https://ss3.4sqi.net/img/categories_v2/food/fastfood_",
            "suffix": ".png"
           },
           "id": 13145,
           "name": "Fast Food Restaurant"
          },
          {
           "icon": {
            "prefix": "https://ss3.4sqi.net/img/categories_v2/food/deli_",
            "suffix": ".png"
           },
           "id": 13039,
           "name": "Deli"
          }
         ],
         "distance": 618,
         "fsq_id": "4c76d5e059a3236a57e3bf18",
         "geocodes": {
          "main": {
           "latitude": 49.23926913499478,
           "longitude": -122.96356860888937
          }
         },
         "location": {
          "address": "5093 Canada Way",
          "country": "CA",
          "cross_street": "",
          "locality": "Burnaby",
          "neighborhood": [
           "Central Burnaby"
          ],
          "postcode": "V5E 3N1",
          "region": "BC"
         },
         "name": "Subway",
         "popularity": 0.9134206087864428,
         "price": 1,
         "rating": 6.2,
         "stats": {
          "total_photos": 1,
          "total_ratings": 2,
          "total_tips": 0
         },
         "tel": "(604) 540-6449"
        },
        {
         "categories": [
          {
           "icon": {
            "prefix": "https://ss3.4sqi.net/img/categories_v2/food/portuguese_",
            "suffix": ".png"
           },
           "id": 13325,
           "name": "Portuguese Restaurant"
          }
         ],
         "distance": 1591,
         "fsq_id": "4bad10acf964a520042a3be3",
         "geocodes": {
          "main": {
           "latitude": 49.225759,
           "longitude": -122.974765
          }
         },
         "location": {
          "address": "4334 Kingsway",
          "country": "CA",
          "cross_street": "Wilson Ave",
          "locality": "Burnaby",
          "postcode": "V5H 2A5",
          "region": "BC"
         },
         "name": "Nando's",
         "popularity": 0.9051481808690065,
         "price": 2,
         "rating": 7.2,
         "stats": {
          "total_photos": 2,
          "total_ratings": 1,
          "total_tips": 0
         }
        },
        {
         "categories": [
          {
           "icon": {
            "prefix": "https://ss3.4sqi.net/img/categories_v2/food/asian_",
            "suffix": ".png"
           },
           "id": 13099,
           "name": "Chinese Restaurant"
          }
         ],
         "distance": 2006,
         "fsq_id": "51abf4dc498e2598c3a7d8ba",
         "geocodes": {
          "main": {
           "latitude": 49.22426134325022,
           "longitude": -122.98567005586398
          }
         },
         "location": {
          "address": "5411 Kingsway",
          "country": "CA",
          "cross_street": "",
          "locality": "Burnaby",
          "neighborhood": [
           "Burnaby"
          ],
          "postcode": "V5H 2G1",
          "region": "BC"
         },
         "name": "Jin Jiang Shanghai Restaurant",
         "popularity": 0.964902417476508,
         "price": 1,
         "rating": 7.7,
         "stats": {
          "total_photos": 42,
          "total_ratings": 34,
          "total_tips": 2
         },
         "tel": "(604) 620-6755"
        },
        {
         "categories": [
          {
           "icon": {
            "prefix": "https://ss3.4sqi.net/img/categories_v2/food/korean_",
            "suffix": ".png"
           },
           "id": 13289,
           "name": "Korean Restaurant"
          }
         ],
         "distance": 2092,
         "fsq_id": "4b5a6fdcf964a52009c528e3",
         "geocodes": {
          "main": {
           "latitude": 49.22194412106472,
           "longitude": -122.98037789874246
          }
         },
         "location": {
          "address": "5740 Imperial St",
          "country": "CA",
          "cross_street": "",
          "locality": "Burnaby",
          "neighborhood": [
           "Metrotown"
          ],
          "postcode": "V5J 1G2",
          "region": "BC"
         },
         "name": "Hanwoori Korean Restaurant Ltd",
         "popularity": 0.9608063609348647,
         "price": 2,
         "rating": 7.7,
         "stats": {
          "total_photos": 59,
          "total_ratings": 52,
          "total_tips": 12
         },
         "tel": "(604) 439-0815"
        },
        {
         "categories": [
          {
           "icon": {
            "prefix": "https://ss3.4sqi.net/img/categories_v2/food/asian_",
            "suffix": ".png"
           },
           "id": 13128,
           "name": "Taiwanese Restaurant"
          }
         ],
         "distance": 2272,
         "fsq_id": "59024cdce185f3577b9cfb49",
         "geocodes": {
          "main": {
           "latitude": 49.21954082906725,
           "longitude": -122.97068904237211
          }
         },
         "location": {
          "address": "6400 Kingsway",
          "address_extended": "# 2",
          "country": "CA",
          "cross_street": "",
          "locality": "Burnaby",
          "neighborhood": [
           "Burnaby"
          ],
          "postcode": "V5E 1C5",
          "region": "BC"
         },
         "name": "Myst Asian Fusion",
         "popularity": 0.9926913500923621,
         "rating": 8.3,
         "stats": {
          "total_photos": 35,
          "total_ratings": 20
         },
         "tel": "(604) 364-6400"
        },
        {
         "categories": [
          {
           "icon": {
            "prefix": "https://ss3.4sqi.net/img/categories_v2/food/cafe_",
            "suffix": ".png"
           },
           "id": 13034,
           "name": "Café"
          },
          {
           "icon": {
            "prefix": "https://ss3.4sqi.net/img/categories_v2/food/coffeeshop_",
            "suffix": ".png"
           },
           "id": 13035,
           "name": "Coffee Shop"
          },
          {
           "icon": {
            "prefix": "https://ss3.4sqi.net/img/categories_v2/food/default_",
            "suffix": ".png"
           },
           "id": 13065,
           "name": "Restaurant"
          }
         ],
         "distance": 2421,
         "fsq_id": "52ead608498e73438547d90c",
         "geocodes": {
          "main": {
           "latitude": 49.2210570838341,
           "longitude": -122.98859074321246
          }
         },
         "location": {
          "address": "6888 Royal Oak Ave",
          "address_extended": "# 103",
          "country": "CA",
          "cross_street": "Royal Oak at Imperial",
          "locality": "Burnaby",
          "neighborhood": [
           "Burnaby"
          ],
          "postcode": "V5J 4J2",
          "region": "BC"
         },
         "name": "Camellia Tea & Coffee",
         "popularity": 0.9173560356597864,
         "price": 2,
         "rating": 8.6,
         "stats": {
          "total_photos": 57,
          "total_ratings": 60,
          "total_tips": 16
         },
         "tel": "(604) 428-6511"
        },
        {
         "categories": [
          {
           "icon": {
            "prefix": "https://ss3.4sqi.net/img/categories_v2/food/burger_",
            "suffix": ".png"
           },
           "id": 13031,
           "name": "Burger Joint"
          },
          {
           "icon": {
            "prefix": "https://ss3.4sqi.net/img/categories_v2/food/fastfood_",
            "suffix": ".png"
           },
           "id": 13145,
           "name": "Fast Food Restaurant"
          }
         ],
         "distance": 2177,
         "fsq_id": "4b5e1460f964a520897c29e3",
         "geocodes": {
          "main": {
           "latitude": 49.22051909676526,
           "longitude": -122.975614723299
          }
         },
         "location": {
          "address": "6038 Kingsway",
          "country": "CA",
          "cross_street": "at Waltham",
          "locality": "Burnaby",
          "neighborhood": [
           "Burnaby South"
          ],
          "postcode": "V5J 1H3",
          "region": "BC"
         },
         "name": "Triple O's",
         "popularity": 0.9755039755842905,
         "price": 1,
         "rating": 7.6,
         "stats": {
          "total_photos": 6,
          "total_ratings": 29,
          "total_tips": 8
         },
         "tel": "(604) 568-4538"
        },
        {
         "categories": [
          {
           "icon": {
            "prefix": "https://ss3.4sqi.net/img/categories_v2/food/friedchicken_",
            "suffix": ".png"
           },
           "id": 13055,
           "name": "Fried Chicken Joint"
          },
          {
           "icon": {
            "prefix": "https://ss3.4sqi.net/img/categories_v2/food/fastfood_",
            "suffix": ".png"
           },
           "id": 13145,
           "name": "Fast Food Restaurant"
          }
         ],
         "distance": 2284,
         "fsq_id": "57673ffe498e990e85e576cc",
         "geocodes": {
          "main": {
           "latitude": 49.21958,
           "longitude": -122.96803
          }
         },
         "location": {
          "address": "6591 Kingsway",
          "address_extended": "# 103",
          "country": "CA",
          "cross_street": "Southoaks Crescent",
          "locality": "Burnaby",
          "neighborhood": [
           "Burnaby"
          ],
          "postcode": "V5E 1E1",
          "region": "BC"
         },
         "name": "Church's Chicken",
         "popularity": 0.9790378282868846,
         "price": 1,
         "rating": 7.9,
         "stats": {
          "total_photos": 2,
          "total_ratings": 9
         },
         "tel": "(778) 379-5100"
        },
        {
         "categories": [
          {
           "icon": {
            "prefix": "https://ss3.4sqi.net/img/categories_v2/food/asian_",
            "suffix": ".png"
           },
           "id": 13196,
           "name": "Hotpot Restaurant"
          }
         ],
         "distance": 2286,
         "fsq_id": "50848ab7e4b0211347c85579",
         "geocodes": {
          "main": {
           "latitude": 49.227937532414664,
           "longitude": -122.99758941469206
          }
         },
         "location": {
          "address": "4755 Kingsway",
          "address_extended": "# 200",
          "country": "CA",
          "cross_street": "",
          "locality": "Burnaby",
          "postcode": "V5H 4W2",
          "region": "BC"
         },
         "name": "Happy Lamb Hot Pot, Burnaby",
         "popularity": 0.9910850534093647,
         "price": 2,
         "rating": 7.9,
         "stats": {
          "total_photos": 91,
          "total_ratings": 56,
          "total_tips": 11
         },
         "tel": "(604) 434-0001"
        },
        {
         "categories": [
          {
           "icon": {
            "prefix": "https://ss3.4sqi.net/img/categories_v2/food/asian_",
            "suffix": ".png"
           },
           "id": 13072,
           "name": "Asian Restaurant"
          },
          {
           "icon": {
            "prefix": "https://ss3.4sqi.net/img/categories_v2/food/asian_",
            "suffix": ".png"
           },
           "id": 13099,
           "name": "Chinese Restaurant"
          },
          {
           "icon": {
            "prefix": "https://ss3.4sqi.net/img/categories_v2/food/indian_",
            "suffix": ".png"
           },
           "id": 13199,
           "name": "Indian Restaurant"
          }
         ],
         "distance": 2060,
         "fsq_id": "528987cb498e747b9a32bd5c",
         "geocodes": {
          "main": {
           "latitude": 49.224839672469436,
           "longitude": -122.98843109350359
          }
         },
         "location": {
          "address": "5212 Kingsway",
          "country": "CA",
          "cross_street": "Royal Oak",
          "locality": "Burnaby",
          "neighborhood": [
           "Burnaby"
          ],
          "postcode": "V5H 2E9",
          "region": "BC"
         },
         "name": "Indian Wok",
         "popularity": 0.7988916552887319,
         "price": 2,
         "rating": 7.3,
         "stats": {
          "total_photos": 12,
          "total_ratings": 8,
          "total_tips": 5
         },
         "tel": "(604) 428-2673"
        },
        {
         "categories": [
          {
           "icon": {
            "prefix": "https://ss3.4sqi.net/img/categories_v2/food/ramen_",
            "suffix": ".png"
           },
           "id": 13315,
           "name": "Noodle Restaurant"
          }
         ],
         "distance": 2114,
         "fsq_id": "51ba8a4d498ed3b82e7efb81",
         "geocodes": {
          "main": {
           "latitude": 49.224432720230205,
           "longitude": -122.98885308960524
          }
         },
         "location": {
          "address": "6514 Royal Oak Ave",
          "country": "CA",
          "cross_street": "Kingsway",
          "locality": "Burnaby",
          "neighborhood": [
           "Burnaby"
          ],
          "postcode": "V5H 3P4",
          "region": "BC"
         },
         "name": "Kamamarui Ramen & Sushi",
         "popularity": 0.9396032447192997,
         "price": 1,
         "rating": 7.3,
         "stats": {
          "total_photos": 66,
          "total_ratings": 60,
          "total_tips": 13
         },
         "tel": "(604) 435-1675"
        },
        {
         "categories": [
          {
           "icon": {
            "prefix": "https://ss3.4sqi.net/img/categories_v2/food/sushi_",
            "suffix": ".png"
           },
           "id": 13276,
           "name": "Sushi Restaurant"
          }
         ],
         "distance": 2097,
         "fsq_id": "4abbc832f964a520e08420e3",
         "geocodes": {
          "main": {
           "latitude": 49.225053661890016,
           "longitude": -122.98974166830997
          }
         },
         "location": {
          "address": "5152 Kingsway",
          "address_extended": "# 2",
          "country": "CA",
          "cross_street": "at Burlington Ave",
          "locality": "Burnaby",
          "neighborhood": [
           "Metrotown"
          ],
          "postcode": "V5H 2E8",
          "region": "BC"
         },
         "name": "Sushi Oyama",
         "popularity": 0.9493213396514336,
         "price": 2,
         "rating": 7.2,
         "stats": {
          "total_photos": 112,
          "total_ratings": 88,
          "total_tips": 35
         },
         "tel": "(604) 568-1012"
        },
        {
         "categories": [
          {
           "icon": {
            "prefix": "https://ss3.4sqi.net/img/categories_v2/food/mexican_",
            "suffix": ".png"
           },
           "id": 13303,
           "name": "Mexican Restaurant"
          }
         ],
         "distance": 2482,
         "fsq_id": "4c002c2692a6c92826c743e2",
         "geocodes": {
          "main": {
           "latitude": 49.24806407433348,
           "longitude": -122.94013746430001
          }
         },
         "location": {
          "address": "7650 Winston St",
          "country": "CA",
          "cross_street": "",
          "locality": "Burnaby",
          "neighborhood": [
           "Burnaby"
          ],
          "postcode": "V5A 2H4",
          "region": "BC"
         },
         "name": "El Comal",
         "popularity": 0.9207292586940808,
         "price": 1,
         "rating": 8.2,
         "stats": {
          "total_photos": 11,
          "total_ratings": 13,
          "total_tips": 2
         },
         "tel": "(604) 420-1327"
        },
        {
         "categories": [
          {
           "icon": {
            "prefix": "https://ss3.4sqi.net/img/categories_v2/food/japanese_",
            "suffix": ".png"
           },
           "id": 13263,
           "name": "Japanese Restaurant"
          }
         ],
         "distance": 2549,
         "fsq_id": "4ab53469f964a5203e7320e3",
         "geocodes": {
          "main": {
           "latitude": 49.21748451803141,
           "longitude": -122.96504869483499
          }
         },
         "location": {
          "address": "6680 Southoaks Cres",
          "country": "CA",
          "cross_street": "at Kingsway",
          "locality": "Burnaby",
          "neighborhood": [
           "Highgate Village"
          ],
          "postcode": "V5E 4N3",
          "region": "BC"
         },
         "name": "Hi Genki Japanese Restaurant",
         "popularity": 0.9310095574652638,
         "price": 2,
         "rating": 8.4,
         "stats": {
          "total_photos": 83,
          "total_ratings": 90,
          "total_tips": 25
         },
         "tel": "(604) 777-0533"
        },
        {
         "categories": [
          {
           "icon": {
            "prefix": "https://ss3.4sqi.net/img/categories_v2/food/sushi_",
            "suffix": ".png"
           },
           "id": 13276,
           "name": "Sushi Restaurant"
          }
         ],
         "distance": 2460,
         "fsq_id": "4b9982f7f964a5206c8035e3",
         "geocodes": {
          "main": {
           "latitude": 49.229963595516075,
           "longitude": -123.00227653363802
          }
         },
         "location": {
          "address": "4609 Kingsway",
          "address_extended": "# 6",
          "country": "CA",
          "cross_street": "MacKay Ave",
          "locality": "Burnaby",
          "neighborhood": [
           "Marlborough"
          ],
          "postcode": "V5H 4L3",
          "region": "BC"
         },
         "name": "Isami Sushi Japanese Restaurant",
         "popularity": 0.9779134206087864,
         "price": 2,
         "rating": 7.9,
         "stats": {
          "total_photos": 21,
          "total_ratings": 35,
          "total_tips": 17
         },
         "tel": "(604) 434-1212"
        },
        {
         "categories": [
          {
           "icon": {
            "prefix": "https://ss3.4sqi.net/img/categories_v2/food/korean_",
            "suffix": ".png"
           },
           "id": 13289,
           "name": "Korean Restaurant"
          }
         ],
         "distance": 2346,
         "fsq_id": "593da393340a5823a193efd1",
         "geocodes": {
          "main": {
           "latitude": 49.218952,
           "longitude": -122.96899
          }
         },
         "location": {
          "address": "6516 Kingsway",
          "country": "CA",
          "cross_street": "",
          "locality": "Burnaby",
          "neighborhood": [
           "Burnaby"
          ],
          "postcode": "V5E 1C5",
          "region": "BC"
         },
         "name": "Masita Korean Cuisine Ltd",
         "popularity": 0.9746205124086419,
         "price": 2,
         "rating": 7.6,
         "stats": {
          "total_photos": 11,
          "total_ratings": 11,
          "total_tips": 3
         },
         "tel": "(604) 553-9938"
        },
        {
         "categories": [
          {
           "icon": {
            "prefix": "https://ss3.4sqi.net/img/categories_v2/food/fastfood_",
            "suffix": ".png"
           },
           "id": 13145,
           "name": "Fast Food Restaurant"
          }
         ],
         "distance": 2440,
         "fsq_id": "4bc66749d35d9c7416c1e23a",
         "geocodes": {
          "main": {
           "latitude": 49.225674249453704,
           "longitude": -122.99756487398298
          }
         },
         "location": {
          "address": "4700 Kingsway",
          "country": "CA",
          "cross_street": "in Metropolis at Metrotown",
          "locality": "Burnaby",
          "postcode": "V5H 4P1",
          "region": "BC"
         },
         "name": "U-Grill",
         "popularity": 0.7886916713516987,
         "price": 1,
         "rating": 7.7,
         "stats": {
          "total_photos": 54,
          "total_ratings": 18,
          "total_tips": 10
         },
         "tel": "(604) 435-2320"
        },
        {
         "categories": [
          {
           "icon": {
            "prefix": "https://ss3.4sqi.net/img/categories_v2/food/sushi_",
            "suffix": ".png"
           },
           "id": 13276,
           "name": "Sushi Restaurant"
          }
         ],
         "distance": 2359,
         "fsq_id": "4f122b93e4b0fd294f3bcda2",
         "geocodes": {
          "main": {
           "latitude": 49.258238839318665,
           "longitude": -122.95543933926403
          }
         },
         "location": {
          "address": "2900 Bainbridge Ave",
          "address_extended": "# 105",
          "country": "CA",
          "cross_street": "at Lougheed Hwy",
          "locality": "Burnaby",
          "neighborhood": [
           "Montecito"
          ],
          "postcode": "V5A 2S8",
          "region": "BC"
         },
         "name": "GAYA Sushi",
         "popularity": 0.9593606939201671,
         "price": 2,
         "rating": 7.4,
         "stats": {
          "total_photos": 25,
          "total_ratings": 26,
          "total_tips": 11
         },
         "tel": "(604) 368-0086"
        },
        {
         "categories": [
          {
           "icon": {
            "prefix": "https://ss3.4sqi.net/img/categories_v2/food/deli_",
            "suffix": ".png"
           },
           "id": 13039,
           "name": "Deli"
          }
         ],
         "distance": 2599,
         "fsq_id": "4cc777db73fd6dcbd8521686",
         "geocodes": {
          "main": {
           "latitude": 49.21683078107824,
           "longitude": -122.96680994758654
          }
         },
         "location": {
          "address": "6616 Beresford St",
          "country": "CA",
          "cross_street": "",
          "locality": "Burnaby",
          "postcode": "V5E 1B8",
          "region": "BC"
         },
         "name": "Kea's Meats",
         "popularity": 0.9335796321580596,
         "price": 1,
         "rating": 8,
         "stats": {
          "total_photos": 4,
          "total_ratings": 12,
          "total_tips": 4
         },
         "tel": "(604) 515-7222"
        },
        {
         "categories": [
          {
           "icon": {
            "prefix": "https://ss3.4sqi.net/img/categories_v2/food/pizza_",
            "suffix": ".png"
           },
           "id": 13064,
           "name": "Pizzeria"
          }
         ],
         "distance": 2638,
         "fsq_id": "4b157283f964a520ffac23e3",
         "geocodes": {
          "main": {
           "latitude": 49.219143548400474,
           "longitude": -122.95458149228163
          }
         },
         "location": {
          "address": "7110 Hall Ave",
          "country": "CA",
          "cross_street": "at Arcola Way",
          "locality": "Burnaby",
          "neighborhood": [
           "Middlegate"
          ],
          "postcode": "V5E 3B1",
          "region": "BC"
         },
         "name": "Me-N-Ed's Pizza Parlor",
         "popularity": 0.9471528391293872,
         "price": 1,
         "rating": 8.2,
         "stats": {
          "total_photos": 20,
          "total_ratings": 40,
          "total_tips": 9
         },
         "tel": "(604) 521-8881"
        },
        {
         "categories": [
          {
           "icon": {
            "prefix": "https://ss3.4sqi.net/img/categories_v2/food/ramen_",
            "suffix": ".png"
           },
           "id": 13272,
           "name": "Ramen Restaurant"
          }
         ],
         "distance": 2680,
         "fsq_id": "59ab49ccaa6c95709b51b5b7",
         "geocodes": {
          "main": {
           "latitude": 49.224079741618816,
           "longitude": -122.99982286116472
          }
         },
         "location": {
          "address": "4575 Central Blvd",
          "country": "CA",
          "cross_street": "",
          "locality": "Burnaby",
          "neighborhood": [
           "Burnaby"
          ],
          "postcode": "V5H 4J5",
          "region": "BC"
         },
         "name": "Jinya Ramen Bar",
         "popularity": 0.792707413059192,
         "rating": 8.3,
         "stats": {
          "total_photos": 42,
          "total_ratings": 28,
          "total_tips": 8
         },
         "tel": "(604) 229-2477"
        },
        {
         "categories": [
          {
           "icon": {
            "prefix": "https://ss3.4sqi.net/img/categories_v2/food/asian_",
            "suffix": ".png"
           },
           "id": 13072,
           "name": "Asian Restaurant"
          }
         ],
         "distance": 2073,
         "fsq_id": "51a0407b498e6dbb36d85e0b",
         "geocodes": {
          "main": {
           "latitude": 49.22448793618899,
           "longitude": -122.98798556466126
          }
         },
         "location": {
          "address": "5276 Kingsway",
          "country": "CA",
          "cross_street": "Royal Oak Av",
          "locality": "Burnaby",
          "neighborhood": [
           "Burnaby"
          ],
          "postcode": "V5H 2E9",
          "region": "BC"
         },
         "name": "Boiling Point",
         "popularity": 0.9337402618263593,
         "price": 2,
         "rating": 6.8,
         "stats": {
          "total_photos": 61,
          "total_ratings": 58,
          "total_tips": 16
         },
         "tel": "(604) 620-9737"
        },
        {
         "categories": [
          {
           "icon": {
            "prefix": "https://ss3.4sqi.net/img/categories_v2/food/korean_",
            "suffix": ".png"
           },
           "id": 13289,
           "name": "Korean Restaurant"
          }
         ],
         "distance": 2022,
         "fsq_id": "4c47bdb189a6c9b674709b88",
         "geocodes": {
          "main": {
           "latitude": 49.22320515693739,
           "longitude": -122.98286458293708
          }
         },
         "location": {
          "address": "5599 Kingsway",
          "country": "CA",
          "cross_street": "",
          "locality": "Burnaby",
          "postcode": "V5H 2G3",
          "region": "BC"
         },
         "name": "Korean BBQ Potter's Garden",
         "popularity": 0.9241024817283753,
         "price": 2,
         "rating": 6.6,
         "stats": {
          "total_photos": 57,
          "total_ratings": 50,
          "total_tips": 9
         },
         "tel": "(604) 431-0208"
        },
        {
         "categories": [
          {
           "icon": {
            "prefix": "https://ss3.4sqi.net/img/categories_v2/food/diner_",
            "suffix": ".png"
           },
           "id": 13049,
           "name": "Diner"
          },
          {
           "icon": {
            "prefix": "https://ss3.4sqi.net/img/categories_v2/food/default_",
            "suffix": ".png"
           },
           "id": 13068,
           "name": "American Restaurant"
          },
          {
           "icon": {
            "prefix": "https://ss3.4sqi.net/img/categories_v2/food/middleeastern_",
            "suffix": ".png"
           },
           "id": 13309,
           "name": "Middle Eastern Restaurant"
          }
         ],
         "distance": 2582,
         "fsq_id": "4b0ddc45f964a5207c5123e3",
         "geocodes": {
          "main": {
           "latitude": 49.21852966800572,
           "longitude": -122.95831221303997
          }
         },
         "location": {
          "address": "7084 Kingsway",
          "country": "CA",
          "cross_street": "at Salisbury Ave.",
          "locality": "Burnaby",
          "neighborhood": [
           "Edmonds Town Centre"
          ],
          "postcode": "V5E 1E7",
          "region": "BC"
         },
         "name": "Anatolia's Gate Restaurant",
         "popularity": 0.9353465585093567,
         "price": 2,
         "rating": 7.9,
         "stats": {
          "total_photos": 54,
          "total_ratings": 35,
          "total_tips": 19
         },
         "tel": "(604) 525-2519"
        },
        {
         "categories": [
          {
           "icon": {
            "prefix": "https://ss3.4sqi.net/img/categories_v2/food/asian_",
            "suffix": ".png"
           },
           "id": 13125,
           "name": "Shanghai Restaurant"
          }
         ],
         "distance": 2549,
         "fsq_id": "5685a0fa498e546e35056331",
         "geocodes": {
          "main": {
           "latitude": 49.23005964645515,
           "longitude": -123.0037110817197
          }
         },
         "location": {
          "address": "4501 Kingsway",
          "address_extended": "# 104",
          "country": "CA",
          "cross_street": "btwn McKay & Willingdon",
          "locality": "Burnaby",
          "neighborhood": [
           "Burnaby"
          ],
          "postcode": "V5H 0E5",
          "region": "BC"
         },
         "name": "Dinesty Dumpling House",
         "popularity": 0.9406473375632479,
         "rating": 7.8,
         "stats": {
          "total_photos": 39,
          "total_ratings": 41,
          "total_tips": 4
         },
         "tel": "(604) 439-0009"
        },
        {
         "categories": [
          {
           "icon": {
            "prefix": "https://ss3.4sqi.net/img/categories_v2/food/asian_",
            "suffix": ".png"
           },
           "id": 13099,
           "name": "Chinese Restaurant"
          }
         ],
         "distance": 2450,
         "fsq_id": "4ada4b3af964a520052121e3",
         "geocodes": {
          "main": {
           "latitude": 49.21855268731793,
           "longitude": -122.96401611710463
          }
         },
         "location": {
          "address": "6731 Kingsway",
          "country": "CA",
          "cross_street": "",
          "locality": "Burnaby",
          "neighborhood": [
           "Burnaby"
          ],
          "postcode": "V5E 1E4",
          "region": "BC"
         },
         "name": "Mr Ho Wonton House",
         "popularity": 0.9529355071881777,
         "price": 4,
         "rating": 7.5,
         "stats": {
          "total_photos": 14,
          "total_ratings": 45,
          "total_tips": 14
         },
         "tel": "(604) 540-6746"
        },
        {
         "categories": [
          {
           "icon": {
            "prefix": "https://ss3.4sqi.net/img/categories_v2/food/default_",
            "suffix": ".png"
           },
           "id": 13065,
           "name": "Restaurant"
          }
         ],
         "distance": 2642,
         "fsq_id": "5d8eedeba1a1e400070bbf6e",
         "geocodes": {
          "main": {
           "latitude": 49.227836,
           "longitude": -123.003352
          }
         },
         "location": {
          "address": "6090 Silver Dr",
          "country": "CA",
          "cross_street": "",
          "locality": "Burnaby",
          "postcode": "V5H 0H5",
          "region": "BC"
         },
         "name": "Cactus Club Cafe Station Square",
         "popularity": 0.9971086659706048,
         "price": 2,
         "rating": 8,
         "stats": {
          "total_photos": 6,
          "total_ratings": 4,
          "total_tips": 1
         },
         "tel": "(604) 291-9339"
        },
        {
         "categories": [
          {
           "icon": {
            "prefix": "https://ss3.4sqi.net/img/categories_v2/food/sushi_",
            "suffix": ".png"
           },
           "id": 13276,
           "name": "Sushi Restaurant"
          }
         ],
         "distance": 2429,
         "fsq_id": "4ab7041df964a520ae7920e3",
         "geocodes": {
          "main": {
           "latitude": 49.229067851710084,
           "longitude": -123.00105693224533
          }
         },
         "location": {
          "address": "4635 Kingsway",
          "country": "CA",
          "cross_street": "",
          "locality": "Burnaby",
          "neighborhood": [
           "Killarney"
          ],
          "postcode": "V5H 2B3",
          "region": "BC"
         },
         "name": "Sushi Garden Japanese Restaurant",
         "popularity": 0.9879527748775199,
         "price": 1,
         "rating": 7.4,
         "stats": {
          "total_photos": 155,
          "total_ratings": 151,
          "total_tips": 50
         },
         "tel": "(604) 436-0104"
        },
        {
         "categories": [
          {
           "icon": {
            "prefix": "https://ss3.4sqi.net/img/categories_v2/food/snacks_",
            "suffix": ".png"
           },
           "id": 13382,
           "name": "Snack Place"
          }
         ],
         "distance": 2480,
         "fsq_id": "4d0133aeffcea143eced3191",
         "geocodes": {
          "main": {
           "latitude": 49.25142430478718,
           "longitude": -123.00138351181936
          }
         },
         "location": {
          "address": "3700 Willingdon Ave",
          "country": "CA",
          "cross_street": "in BCIT SE2",
          "locality": "Burnaby",
          "postcode": "V5G 3H2",
          "region": "BC"
         },
         "name": "BCITSA's Stand Central SE2",
         "popularity": 0.6269375953738655,
         "price": 1,
         "rating": 7.5,
         "stats": {
          "total_photos": 4,
          "total_ratings": 9,
          "total_tips": 4
         },
         "tel": "(604) 432-8600"
        },
        {
         "categories": [
          {
           "icon": {
            "prefix": "https://ss3.4sqi.net/img/categories_v2/food/bakery_",
            "suffix": ".png"
           },
           "id": 13002,
           "name": "Bakery"
          }
         ],
         "distance": 2476,
         "fsq_id": "4ab0225df964a520236620e3",
         "geocodes": {
          "main": {
           "latitude": 49.227325240368046,
           "longitude": -123.00012514823945
          }
         },
         "location": {
          "address": "4700 Kingsway",
          "address_extended": "# 1155",
          "country": "CA",
          "cross_street": "in Metropolis at Metrotown",
          "locality": "Vancouver",
          "neighborhood": [
           "Metrotown"
          ],
          "postcode": "V5H 4M1",
          "region": "BC"
         },
         "name": "Cinnzeo",
         "popularity": 0.9033009396835595,
         "price": 1,
         "rating": 7.5,
         "stats": {
          "total_photos": 7,
          "total_ratings": 10,
          "total_tips": 1
         },
         "tel": "(604) 439-2431"
        },
        {
         "categories": [
          {
           "icon": {
            "prefix": "https://ss3.4sqi.net/img/categories_v2/food/asian_",
            "suffix": ".png"
           },
           "id": 13128,
           "name": "Taiwanese Restaurant"
          }
         ],
         "distance": 2174,
         "fsq_id": "4b980d99f964a5201b2935e3",
         "geocodes": {
          "main": {
           "latitude": 49.22070985357275,
           "longitude": -122.97727551449036
          }
         },
         "location": {
          "address": "5908 Kingsway",
          "country": "CA",
          "cross_street": "at Buller Ave.",
          "locality": "Burnaby",
          "neighborhood": [
           "Burnaby South"
          ],
          "postcode": "V5J 1H2",
          "region": "BC"
         },
         "name": "The One Restaurant",
         "popularity": 0.970926030037748,
         "price": 2,
         "rating": 6.9,
         "stats": {
          "total_photos": 236,
          "total_ratings": 122,
          "total_tips": 39
         },
         "tel": "(604) 569-1866"
        },
        {
         "categories": [
          {
           "icon": {
            "prefix": "https://ss3.4sqi.net/img/categories_v2/food/asian_",
            "suffix": ".png"
           },
           "id": 13099,
           "name": "Chinese Restaurant"
          },
          {
           "icon": {
            "prefix": "https://ss3.4sqi.net/img/categories_v2/food/japanese_",
            "suffix": ".png"
           },
           "id": 13263,
           "name": "Japanese Restaurant"
          }
         ],
         "distance": 2419,
         "fsq_id": "4aef8b02f964a5202ed921e3",
         "geocodes": {
          "main": {
           "latitude": 49.218757851266126,
           "longitude": -122.96454755914293
          }
         },
         "location": {
          "address": "7154 Sperling Ave",
          "country": "CA",
          "cross_street": "at Kingsway",
          "locality": "Burnaby",
          "neighborhood": [
           "Burnaby"
          ],
          "postcode": "V5E 2W5",
          "region": "BC"
         },
         "name": "Pearl Hot Pot",
         "popularity": 0.9825716809894788,
         "price": 1,
         "rating": 7.3,
         "stats": {
          "total_photos": 37,
          "total_ratings": 16,
          "total_tips": 6
         },
         "tel": "(604) 516-0238"
        },
        {
         "categories": [
          {
           "icon": {
            "prefix": "https://ss3.4sqi.net/img/categories_v2/food/bakery_",
            "suffix": ".png"
           },
           "id": 13002,
           "name": "Bakery"
          }
         ],
         "distance": 2864,
         "fsq_id": "5891311cec980f7595653808",
         "geocodes": {
          "main": {
           "latitude": 49.2260787,
           "longitude": -123.0052796
          }
         },
         "location": {
          "address": "4396 Beresford St",
          "country": "CA",
          "cross_street": "",
          "locality": "Burnaby",
          "neighborhood": [
           "Burnaby"
          ],
          "postcode": "V5H 0E7",
          "region": "BC"
         },
         "name": "Mon Paris Patisserie Inc",
         "popularity": 0.9764677535940889,
         "price": 1,
         "rating": 8.6,
         "stats": {
          "total_photos": 21,
          "total_ratings": 19,
          "total_tips": 6
         },
         "tel": "(604) 564-5665"
        },
        {
         "categories": [
          {
           "icon": {
            "prefix": "https://ss3.4sqi.net/img/categories_v2/food/vietnamese_",
            "suffix": ".png"
           },
           "id": 13379,
           "name": "Vietnamese Restaurant"
          }
         ],
         "distance": 2431,
         "fsq_id": "4d0faf6bba378cfae0bb7293",
         "geocodes": {
          "main": {
           "latitude": 49.218635086003005,
           "longitude": -122.96457804908762
          }
         },
         "location": {
          "address": "6701 Kingsway",
          "country": "CA",
          "cross_street": "Sperling",
          "locality": "Burnaby",
          "neighborhood": [
           "Burnaby"
          ],
          "postcode": "V5E 1E4",
          "region": "BC"
         },
         "name": "Pho Century Fine Vietnamese Cuisine",
         "popularity": 0.8753513773994057,
         "price": 2,
         "rating": 7.3,
         "stats": {
          "total_photos": 32,
          "total_ratings": 27,
          "total_tips": 8
         },
         "tel": "(604) 544-5028"
        },
        {
         "categories": [
          {
           "icon": {
            "prefix": "https://ss3.4sqi.net/img/categories_v2/travel/default_",
            "suffix": ".png"
           },
           "id": 19009,
           "name": "Lodging"
          }
         ],
         "distance": 2059,
         "fsq_id": "4b647ff5f964a52068b82ae3",
         "geocodes": {
          "main": {
           "latitude": 49.225538610811974,
           "longitude": -122.98983029311924
          }
         },
         "location": {
          "address": "5137 Kingsway",
          "country": "CA",
          "cross_street": "at Royal Oak Ave",
          "locality": "Burnaby",
          "neighborhood": [
           "Metrotown"
          ],
          "postcode": "V5H 2E6",
          "region": "BC"
         },
         "name": "IHOP",
         "popularity": 0.8302144406071802,
         "price": 2,
         "rating": 6.6,
         "stats": {
          "total_photos": 80,
          "total_ratings": 77,
          "total_tips": 15
         },
         "tel": "(604) 451-5557"
        },
        {
         "categories": [
          {
           "icon": {
            "prefix": "https://ss3.4sqi.net/img/categories_v2/food/asian_",
            "suffix": ".png"
           },
           "id": 13099,
           "name": "Chinese Restaurant"
          },
          {
           "icon": {
            "prefix": "https://ss3.4sqi.net/img/categories_v2/food/ramen_",
            "suffix": ".png"
           },
           "id": 13315,
           "name": "Noodle Restaurant"
          },
          {
           "icon": {
            "prefix": "https://ss3.4sqi.net/img/categories_v2/food/steakhouse_",
            "suffix": ".png"
           },
           "id": 13383,
           "name": "Steakhouse"
          }
         ],
         "distance": 2319,
         "fsq_id": "4ac83a79f964a520f7bb20e3",
         "geocodes": {
          "main": {
           "latitude": 49.24268456068389,
           "longitude": -123.00373081174679
          }
         },
         "location": {
          "address": "4741 Willingdon Ave",
          "country": "CA",
          "cross_street": "at Moscrop St.",
          "locality": "Burnaby",
          "neighborhood": [
           "Forglen"
          ],
          "postcode": "V5G 3H5",
          "region": "BC"
         },
         "name": "No. 1 Beef Noodle House",
         "popularity": 0.9895590715605173,
         "price": 2,
         "rating": 7.1,
         "stats": {
          "total_photos": 91,
          "total_ratings": 61,
          "total_tips": 24
         },
         "tel": "(604) 438-6648"
        },
        {
         "categories": [
          {
           "icon": {
            "prefix": "https://ss3.4sqi.net/img/categories_v2/food/cafe_",
            "suffix": ".png"
           },
           "id": 13034,
           "name": "Café"
          },
          {
           "icon": {
            "prefix": "https://ss3.4sqi.net/img/categories_v2/food/default_",
            "suffix": ".png"
           },
           "id": 13065,
           "name": "Restaurant"
          }
         ],
         "distance": 2556,
         "fsq_id": "4c15acbba1010f47a2764e18",
         "geocodes": {
          "main": {
           "latitude": 49.21933403657967,
           "longitude": -122.95647099836468
          }
         },
         "location": {
          "address": "7139 Arcola Way",
          "country": "CA",
          "cross_street": "at Highgate Village",
          "locality": "Burnaby",
          "neighborhood": [
           "Burnaby"
          ],
          "postcode": "V5E 0A6",
          "region": "BC"
         },
         "name": "Tealips Cafe",
         "popularity": 0.9769496425989881,
         "price": 2,
         "rating": 7.5,
         "stats": {
          "total_photos": 60,
          "total_ratings": 57,
          "total_tips": 15
         },
         "tel": "(778) 397-3972"
        },
        {
         "categories": [
          {
           "icon": {
            "prefix": "https://ss3.4sqi.net/img/categories_v2/food/sushi_",
            "suffix": ".png"
           },
           "id": 13276,
           "name": "Sushi Restaurant"
          }
         ],
         "distance": 2596,
         "fsq_id": "4ae0f532f964a5200c8421e3",
         "geocodes": {
          "main": {
           "latitude": 49.21903984017583,
           "longitude": -122.95613912219491
          }
         },
         "location": {
          "address": "7155 Kingsway",
          "address_extended": "# 221",
          "country": "CA",
          "cross_street": "btwn Hall & Salisbury",
          "locality": "Burnaby",
          "neighborhood": [
           "Burnaby"
          ],
          "postcode": "V5E 2V1",
          "region": "BC"
         },
         "name": "Fresh Box Sushi",
         "popularity": 0.7734318528632238,
         "price": 2,
         "rating": 7.4,
         "stats": {
          "total_photos": 14,
          "total_ratings": 18,
          "total_tips": 10
         },
         "tel": "(604) 540-8646"
        },
        {
         "categories": [
          {
           "icon": {
            "prefix": "https://ss3.4sqi.net/img/categories_v2/food/bakery_",
            "suffix": ".png"
           },
           "id": 13002,
           "name": "Bakery"
          }
         ],
         "distance": 2550,
         "fsq_id": "4ba96973f964a52089253ae3",
         "geocodes": {
          "main": {
           "latitude": 49.225487239534154,
           "longitude": -122.99929563001368
          }
         },
         "location": {
          "address": "4800 Kingsway",
          "address_extended": "# 161",
          "country": "CA",
          "cross_street": "in Metropolis at Metrotown",
          "locality": "Burnaby",
          "neighborhood": [
           "Burnaby"
          ],
          "postcode": "V5H 4J2",
          "region": "BC"
         },
         "name": "Maxim's Bakery in Metrotown",
         "popularity": 0.9408882820656975,
         "price": 1,
         "rating": 7.3,
         "stats": {
          "total_photos": 9,
          "total_ratings": 12,
          "total_tips": 2
         },
         "tel": "(604) 438-2256"
        },
        {
         "categories": [
          {
           "icon": {
            "prefix": "https://ss3.4sqi.net/img/categories_v2/shops/food_gourmet_",
            "suffix": ".png"
           },
           "id": 17063,
           "name": "Coffee Roaster"
          }
         ],
         "distance": 2849,
         "fsq_id": "569188e9498ea42fe92f35ad",
         "geocodes": {
          "main": {
           "latitude": 49.223444,
           "longitude": -122.942015
          }
         },
         "location": {
          "address": "7655 Edmonds St",
          "address_extended": "# 104",
          "country": "CA",
          "cross_street": "",
          "locality": "Burnaby",
          "postcode": "V3N 0C3",
          "region": "BC"
         },
         "name": "Caritas 9 Coffee Roasters",
         "popularity": 0.9264316119187214,
         "price": 1,
         "rating": 8,
         "stats": {
          "total_photos": 3,
          "total_ratings": 9,
          "total_tips": 2
         },
         "tel": "(604) 553-0316"
        },
        {
         "categories": [
          {
           "icon": {
            "prefix": "https://ss3.4sqi.net/img/categories_v2/food/fastfood_",
            "suffix": ".png"
           },
           "id": 13145,
           "name": "Fast Food Restaurant"
          },
          {
           "icon": {
            "prefix": "https://ss3.4sqi.net/img/categories_v2/food/mexican_",
            "suffix": ".png"
           },
           "id": 13303,
           "name": "Mexican Restaurant"
          }
         ],
         "distance": 2505,
         "fsq_id": "54cc1b87498e775a90807af1",
         "geocodes": {
          "main": {
           "latitude": 49.227008,
           "longitude": -123.000288
          }
         },
         "location": {
          "address": "4700 Kingsway",
          "address_extended": "# 2200",
          "country": "CA",
          "cross_street": "Kingsway & McKercher Ave",
          "locality": "Burnaby",
          "neighborhood": [
           "Metrotown"
          ],
          "postcode": "V5H 4M1",
          "region": "BC"
         },
         "name": "Chipotle Mexican Grill",
         "popularity": 0.9934944984338607,
         "price": 1,
         "rating": 7.2,
         "stats": {
          "total_photos": 62,
          "total_ratings": 52,
          "total_tips": 7
         },
         "tel": "(604) 438-4444"
        },
        {
         "categories": [
          {
           "icon": {
            "prefix": "https://ss3.4sqi.net/img/categories_v2/food/bakery_",
            "suffix": ".png"
           },
           "id": 13002,
           "name": "Bakery"
          }
         ],
         "distance": 2415,
         "fsq_id": "4bec60f375b2c9b64467438d",
         "geocodes": {
          "main": {
           "latitude": 49.225631973027205,
           "longitude": -122.99704806874169
          }
         },
         "location": {
          "address": "4820 Kingsway",
          "address_extended": "# 214",
          "country": "CA",
          "locality": "Burnaby",
          "neighborhood": [
           "Marlborough"
          ],
          "postcode": "V5H 4P1",
          "region": "BC"
         },
         "name": "Manzano Europa Bakery Inc",
         "popularity": 0.8343104971488234,
         "price": 1,
         "rating": 6.9,
         "stats": {
          "total_photos": 11,
          "total_ratings": 9,
          "total_tips": 3
         },
         "tel": "(604) 437-1318"
        },
        {
         "categories": [
          {
           "icon": {
            "prefix": "https://ss3.4sqi.net/img/categories_v2/food/default_",
            "suffix": ".png"
           },
           "id": 13065,
           "name": "Restaurant"
          }
         ],
         "distance": 2431,
         "fsq_id": "56eb6ea8498e09fe3ecc38c0",
         "geocodes": {
          "main": {
           "latitude": 49.22568764449983,
           "longitude": -122.99741582605643
          }
         },
         "location": {
          "address": "4820 Kingsway",
          "address_extended": "Unit 314",
          "country": "CA",
          "cross_street": "",
          "locality": "Burnaby",
          "neighborhood": [
           "Metrotown"
          ],
          "postcode": "V5H 4P1",
          "region": "BC"
         },
         "name": "Chachi's Sandwiches",
         "popularity": 0.695124889567103,
         "price": 1,
         "rating": 6.9,
         "stats": {
          "total_photos": 6,
          "total_ratings": 8,
          "total_tips": 3
         },
         "tel": "(604) 566-2447"
        },
        {
         "categories": [
          {
           "icon": {
            "prefix": "https://ss3.4sqi.net/img/categories_v2/food/fastfood_",
            "suffix": ".png"
           },
           "id": 13145,
           "name": "Fast Food Restaurant"
          }
         ],
         "distance": 2428,
         "fsq_id": "4bdb7d673904a59306c44a9e",
         "geocodes": {
          "main": {
           "latitude": 49.22552044710867,
           "longitude": -122.99713355309392
          }
         },
         "location": {
          "address": "4820 Kingsway",
          "address_extended": "# 335",
          "country": "CA",
          "cross_street": "in Metropolis at Metrotown Food Court",
          "locality": "Burnaby",
          "neighborhood": [
           "Marlborough"
          ],
          "postcode": "V5H 4P1",
          "region": "BC"
         },
         "name": "New York Fries",
         "popularity": 0.9262709822504217,
         "price": 2,
         "rating": 6.9,
         "stats": {
          "total_photos": 17,
          "total_ratings": 10,
          "total_tips": 2
         },
         "tel": "(604) 430-4974"
        },
        {
         "categories": [
          {
           "icon": {
            "prefix": "https://ss3.4sqi.net/img/categories_v2/food/asian_",
            "suffix": ".png"
           },
           "id": 13099,
           "name": "Chinese Restaurant"
          }
         ],
         "distance": 2866,
         "fsq_id": "4ce1e90f70bba1cd184f74c4",
         "geocodes": {
          "main": {
           "latitude": 49.26542352986742,
           "longitude": -122.97845974063908
          }
         },
         "location": {
          "address": "5901 Broadway",
          "address_extended": "# 7",
          "country": "CA",
          "cross_street": "",
          "locality": "Burnaby",
          "neighborhood": [
           "Burnaby"
          ],
          "postcode": "V5B 2Y1",
          "region": "BC"
         },
         "name": "Garlic & Chilli Restaurant",
         "popularity": 0.8702915428479641,
         "price": 1,
         "rating": 7.7,
         "stats": {
          "total_photos": 16,
          "total_ratings": 11,
          "total_tips": 5
         },
         "tel": "(604) 298-8361"
        },
        {
         "categories": [
          {
           "icon": {
            "prefix": "https://ss3.4sqi.net/img/categories_v2/food/sushi_",
            "suffix": ".png"
           },
           "id": 13276,
           "name": "Sushi Restaurant"
          }
         ],
         "distance": 2334,
         "fsq_id": "4f81fa79e4b050ced74c37b1",
         "geocodes": {
          "main": {
           "latitude": 49.24261951017471,
           "longitude": -123.00394639262616
          }
         },
         "location": {
          "address": "4739 Willingdon Ave",
          "address_extended": "# 1",
          "country": "CA",
          "cross_street": "at Deer Lake Pkwy",
          "locality": "Burnaby",
          "neighborhood": [
           "Forglen"
          ],
          "postcode": "V5G 3H5",
          "region": "BC"
         },
         "name": "Sushi S Japanese Restaurant",
         "popularity": 0.9034615693518593,
         "price": 2,
         "rating": 6.6,
         "stats": {
          "total_photos": 49,
          "total_ratings": 35,
          "total_tips": 12
         },
         "tel": "(604) 437-9399"
        }
       ]
      },
      "text/plain": [
       "<IPython.core.display.JSON object>"
      ]
     },
     "execution_count": 5,
     "metadata": {
      "application/json": {
       "expanded": false,
       "root": "root"
      }
     },
     "output_type": "execute_result"
    }
   ],
   "source": [
    "JSON(response.json())"
   ]
  },
  {
   "cell_type": "code",
   "execution_count": 6,
   "metadata": {
    "slideshow": {
     "slide_type": "skip"
    }
   },
   "outputs": [
    {
     "data": {
      "application/json": [
       {
        "categories": [
         {
          "icon": {
           "prefix": "https://ss3.4sqi.net/img/categories_v2/food/seafood_",
           "suffix": ".png"
          },
          "id": 13338,
          "name": "Seafood Restaurant"
         }
        ],
        "distance": 439,
        "fsq_id": "4c19aa446a21c9b6cffeca97",
        "geocodes": {
         "main": {
          "latitude": 49.238122956289246,
          "longitude": -122.96667646771981
         }
        },
        "location": {
         "address": "6664 Deer Lake Ave",
         "country": "CA",
         "locality": "Burnaby",
         "neighborhood": [
          "Central Burnaby"
         ],
         "postcode": "V5E 4H3",
         "region": "BC"
        },
        "name": "Hart House Restaurant",
        "popularity": 0.9265922415870211,
        "price": 4,
        "rating": 7.3,
        "stats": {
         "total_photos": 83,
         "total_ratings": 28,
         "total_tips": 11
        },
        "tel": "(604) 298-4278"
       },
       {
        "categories": [
         {
          "icon": {
           "prefix": "https://ss3.4sqi.net/img/categories_v2/food/pizza_",
           "suffix": ".png"
          },
          "id": 13064,
          "name": "Pizzeria"
         }
        ],
        "distance": 656,
        "fsq_id": "4ebdcb72b8f7963bcccc2ae9",
        "geocodes": {
         "main": {
          "latitude": 49.23928314768858,
          "longitude": -122.96304751894762
         }
        },
        "location": {
         "address": "5115 Canada Way",
         "country": "CA",
         "cross_street": "",
         "locality": "Burnaby",
         "neighborhood": [
          "Burnaby"
         ],
         "postcode": "V5E 3N1",
         "region": "BC"
        },
        "name": "Viva Sue Pizza",
        "popularity": 0.9445024496024416,
        "price": 1,
        "rating": 7,
        "stats": {
         "total_photos": 3,
         "total_ratings": 9,
         "total_tips": 2
        },
        "tel": "(604) 522-5200"
       },
       {
        "categories": [
         {
          "icon": {
           "prefix": "https://ss3.4sqi.net/img/categories_v2/food/diner_",
           "suffix": ".png"
          },
          "id": 13049,
          "name": "Diner"
         }
        ],
        "distance": 663,
        "fsq_id": "4d2250955acaa35dbd2ad735",
        "geocodes": {
         "main": {
          "latitude": 49.239232,
          "longitude": -122.962959
         }
        },
        "location": {
         "address": "5121 Canada Way",
         "country": "CA",
         "cross_street": "",
         "locality": "Burnaby",
         "neighborhood": [
          "Burnaby"
         ],
         "postcode": "V5E 3N1",
         "region": "BC"
        },
        "name": "Safari Snack House",
        "popularity": 0.8633041522769256,
        "price": 1,
        "rating": 6.8,
        "stats": {
         "total_photos": 6,
         "total_ratings": 8,
         "total_tips": 1
        },
        "tel": "(604) 515-9211"
       },
       {
        "categories": [
         {
          "icon": {
           "prefix": "https://ss3.4sqi.net/img/categories_v2/food/indian_",
           "suffix": ".png"
          },
          "id": 13199,
          "name": "Indian Restaurant"
         }
        ],
        "distance": 600,
        "fsq_id": "5222a5a211d2c8e2151325f7",
        "geocodes": {
         "main": {
          "latitude": 49.239526473078314,
          "longitude": -122.96377752172502
         }
        },
        "location": {
         "address": "5081 Canada Way",
         "country": "CA",
         "cross_street": "",
         "locality": "Burnaby",
         "neighborhood": [
          "Burnaby"
         ],
         "postcode": "V5E 3N1",
         "region": "BC"
        },
        "name": "Chettinad Dosa Palace",
        "popularity": 0.9071560517227532,
        "price": 2,
        "rating": 6.3,
        "stats": {
         "total_photos": 5,
         "total_ratings": 14,
         "total_tips": 6
        },
        "tel": "(604) 544-1561"
       },
       {
        "categories": [
         {
          "icon": {
           "prefix": "https://ss3.4sqi.net/img/categories_v2/food/fastfood_",
           "suffix": ".png"
          },
          "id": 13145,
          "name": "Fast Food Restaurant"
         },
         {
          "icon": {
           "prefix": "https://ss3.4sqi.net/img/categories_v2/food/deli_",
           "suffix": ".png"
          },
          "id": 13039,
          "name": "Deli"
         }
        ],
        "distance": 618,
        "fsq_id": "4c76d5e059a3236a57e3bf18",
        "geocodes": {
         "main": {
          "latitude": 49.23926913499478,
          "longitude": -122.96356860888937
         }
        },
        "location": {
         "address": "5093 Canada Way",
         "country": "CA",
         "cross_street": "",
         "locality": "Burnaby",
         "neighborhood": [
          "Central Burnaby"
         ],
         "postcode": "V5E 3N1",
         "region": "BC"
        },
        "name": "Subway",
        "popularity": 0.9134206087864428,
        "price": 1,
        "rating": 6.2,
        "stats": {
         "total_photos": 1,
         "total_ratings": 2,
         "total_tips": 0
        },
        "tel": "(604) 540-6449"
       },
       {
        "categories": [
         {
          "icon": {
           "prefix": "https://ss3.4sqi.net/img/categories_v2/food/portuguese_",
           "suffix": ".png"
          },
          "id": 13325,
          "name": "Portuguese Restaurant"
         }
        ],
        "distance": 1591,
        "fsq_id": "4bad10acf964a520042a3be3",
        "geocodes": {
         "main": {
          "latitude": 49.225759,
          "longitude": -122.974765
         }
        },
        "location": {
         "address": "4334 Kingsway",
         "country": "CA",
         "cross_street": "Wilson Ave",
         "locality": "Burnaby",
         "postcode": "V5H 2A5",
         "region": "BC"
        },
        "name": "Nando's",
        "popularity": 0.9051481808690065,
        "price": 2,
        "rating": 7.2,
        "stats": {
         "total_photos": 2,
         "total_ratings": 1,
         "total_tips": 0
        }
       },
       {
        "categories": [
         {
          "icon": {
           "prefix": "https://ss3.4sqi.net/img/categories_v2/food/asian_",
           "suffix": ".png"
          },
          "id": 13099,
          "name": "Chinese Restaurant"
         }
        ],
        "distance": 2006,
        "fsq_id": "51abf4dc498e2598c3a7d8ba",
        "geocodes": {
         "main": {
          "latitude": 49.22426134325022,
          "longitude": -122.98567005586398
         }
        },
        "location": {
         "address": "5411 Kingsway",
         "country": "CA",
         "cross_street": "",
         "locality": "Burnaby",
         "neighborhood": [
          "Burnaby"
         ],
         "postcode": "V5H 2G1",
         "region": "BC"
        },
        "name": "Jin Jiang Shanghai Restaurant",
        "popularity": 0.964902417476508,
        "price": 1,
        "rating": 7.7,
        "stats": {
         "total_photos": 42,
         "total_ratings": 34,
         "total_tips": 2
        },
        "tel": "(604) 620-6755"
       },
       {
        "categories": [
         {
          "icon": {
           "prefix": "https://ss3.4sqi.net/img/categories_v2/food/korean_",
           "suffix": ".png"
          },
          "id": 13289,
          "name": "Korean Restaurant"
         }
        ],
        "distance": 2092,
        "fsq_id": "4b5a6fdcf964a52009c528e3",
        "geocodes": {
         "main": {
          "latitude": 49.22194412106472,
          "longitude": -122.98037789874246
         }
        },
        "location": {
         "address": "5740 Imperial St",
         "country": "CA",
         "cross_street": "",
         "locality": "Burnaby",
         "neighborhood": [
          "Metrotown"
         ],
         "postcode": "V5J 1G2",
         "region": "BC"
        },
        "name": "Hanwoori Korean Restaurant Ltd",
        "popularity": 0.9608063609348647,
        "price": 2,
        "rating": 7.7,
        "stats": {
         "total_photos": 59,
         "total_ratings": 52,
         "total_tips": 12
        },
        "tel": "(604) 439-0815"
       },
       {
        "categories": [
         {
          "icon": {
           "prefix": "https://ss3.4sqi.net/img/categories_v2/food/asian_",
           "suffix": ".png"
          },
          "id": 13128,
          "name": "Taiwanese Restaurant"
         }
        ],
        "distance": 2272,
        "fsq_id": "59024cdce185f3577b9cfb49",
        "geocodes": {
         "main": {
          "latitude": 49.21954082906725,
          "longitude": -122.97068904237211
         }
        },
        "location": {
         "address": "6400 Kingsway",
         "address_extended": "# 2",
         "country": "CA",
         "cross_street": "",
         "locality": "Burnaby",
         "neighborhood": [
          "Burnaby"
         ],
         "postcode": "V5E 1C5",
         "region": "BC"
        },
        "name": "Myst Asian Fusion",
        "popularity": 0.9926913500923621,
        "rating": 8.3,
        "stats": {
         "total_photos": 35,
         "total_ratings": 20
        },
        "tel": "(604) 364-6400"
       },
       {
        "categories": [
         {
          "icon": {
           "prefix": "https://ss3.4sqi.net/img/categories_v2/food/cafe_",
           "suffix": ".png"
          },
          "id": 13034,
          "name": "Café"
         },
         {
          "icon": {
           "prefix": "https://ss3.4sqi.net/img/categories_v2/food/coffeeshop_",
           "suffix": ".png"
          },
          "id": 13035,
          "name": "Coffee Shop"
         },
         {
          "icon": {
           "prefix": "https://ss3.4sqi.net/img/categories_v2/food/default_",
           "suffix": ".png"
          },
          "id": 13065,
          "name": "Restaurant"
         }
        ],
        "distance": 2421,
        "fsq_id": "52ead608498e73438547d90c",
        "geocodes": {
         "main": {
          "latitude": 49.2210570838341,
          "longitude": -122.98859074321246
         }
        },
        "location": {
         "address": "6888 Royal Oak Ave",
         "address_extended": "# 103",
         "country": "CA",
         "cross_street": "Royal Oak at Imperial",
         "locality": "Burnaby",
         "neighborhood": [
          "Burnaby"
         ],
         "postcode": "V5J 4J2",
         "region": "BC"
        },
        "name": "Camellia Tea & Coffee",
        "popularity": 0.9173560356597864,
        "price": 2,
        "rating": 8.6,
        "stats": {
         "total_photos": 57,
         "total_ratings": 60,
         "total_tips": 16
        },
        "tel": "(604) 428-6511"
       },
       {
        "categories": [
         {
          "icon": {
           "prefix": "https://ss3.4sqi.net/img/categories_v2/food/burger_",
           "suffix": ".png"
          },
          "id": 13031,
          "name": "Burger Joint"
         },
         {
          "icon": {
           "prefix": "https://ss3.4sqi.net/img/categories_v2/food/fastfood_",
           "suffix": ".png"
          },
          "id": 13145,
          "name": "Fast Food Restaurant"
         }
        ],
        "distance": 2177,
        "fsq_id": "4b5e1460f964a520897c29e3",
        "geocodes": {
         "main": {
          "latitude": 49.22051909676526,
          "longitude": -122.975614723299
         }
        },
        "location": {
         "address": "6038 Kingsway",
         "country": "CA",
         "cross_street": "at Waltham",
         "locality": "Burnaby",
         "neighborhood": [
          "Burnaby South"
         ],
         "postcode": "V5J 1H3",
         "region": "BC"
        },
        "name": "Triple O's",
        "popularity": 0.9755039755842905,
        "price": 1,
        "rating": 7.6,
        "stats": {
         "total_photos": 6,
         "total_ratings": 29,
         "total_tips": 8
        },
        "tel": "(604) 568-4538"
       },
       {
        "categories": [
         {
          "icon": {
           "prefix": "https://ss3.4sqi.net/img/categories_v2/food/friedchicken_",
           "suffix": ".png"
          },
          "id": 13055,
          "name": "Fried Chicken Joint"
         },
         {
          "icon": {
           "prefix": "https://ss3.4sqi.net/img/categories_v2/food/fastfood_",
           "suffix": ".png"
          },
          "id": 13145,
          "name": "Fast Food Restaurant"
         }
        ],
        "distance": 2284,
        "fsq_id": "57673ffe498e990e85e576cc",
        "geocodes": {
         "main": {
          "latitude": 49.21958,
          "longitude": -122.96803
         }
        },
        "location": {
         "address": "6591 Kingsway",
         "address_extended": "# 103",
         "country": "CA",
         "cross_street": "Southoaks Crescent",
         "locality": "Burnaby",
         "neighborhood": [
          "Burnaby"
         ],
         "postcode": "V5E 1E1",
         "region": "BC"
        },
        "name": "Church's Chicken",
        "popularity": 0.9790378282868846,
        "price": 1,
        "rating": 7.9,
        "stats": {
         "total_photos": 2,
         "total_ratings": 9
        },
        "tel": "(778) 379-5100"
       },
       {
        "categories": [
         {
          "icon": {
           "prefix": "https://ss3.4sqi.net/img/categories_v2/food/asian_",
           "suffix": ".png"
          },
          "id": 13196,
          "name": "Hotpot Restaurant"
         }
        ],
        "distance": 2286,
        "fsq_id": "50848ab7e4b0211347c85579",
        "geocodes": {
         "main": {
          "latitude": 49.227937532414664,
          "longitude": -122.99758941469206
         }
        },
        "location": {
         "address": "4755 Kingsway",
         "address_extended": "# 200",
         "country": "CA",
         "cross_street": "",
         "locality": "Burnaby",
         "postcode": "V5H 4W2",
         "region": "BC"
        },
        "name": "Happy Lamb Hot Pot, Burnaby",
        "popularity": 0.9910850534093647,
        "price": 2,
        "rating": 7.9,
        "stats": {
         "total_photos": 91,
         "total_ratings": 56,
         "total_tips": 11
        },
        "tel": "(604) 434-0001"
       },
       {
        "categories": [
         {
          "icon": {
           "prefix": "https://ss3.4sqi.net/img/categories_v2/food/asian_",
           "suffix": ".png"
          },
          "id": 13072,
          "name": "Asian Restaurant"
         },
         {
          "icon": {
           "prefix": "https://ss3.4sqi.net/img/categories_v2/food/asian_",
           "suffix": ".png"
          },
          "id": 13099,
          "name": "Chinese Restaurant"
         },
         {
          "icon": {
           "prefix": "https://ss3.4sqi.net/img/categories_v2/food/indian_",
           "suffix": ".png"
          },
          "id": 13199,
          "name": "Indian Restaurant"
         }
        ],
        "distance": 2060,
        "fsq_id": "528987cb498e747b9a32bd5c",
        "geocodes": {
         "main": {
          "latitude": 49.224839672469436,
          "longitude": -122.98843109350359
         }
        },
        "location": {
         "address": "5212 Kingsway",
         "country": "CA",
         "cross_street": "Royal Oak",
         "locality": "Burnaby",
         "neighborhood": [
          "Burnaby"
         ],
         "postcode": "V5H 2E9",
         "region": "BC"
        },
        "name": "Indian Wok",
        "popularity": 0.7988916552887319,
        "price": 2,
        "rating": 7.3,
        "stats": {
         "total_photos": 12,
         "total_ratings": 8,
         "total_tips": 5
        },
        "tel": "(604) 428-2673"
       },
       {
        "categories": [
         {
          "icon": {
           "prefix": "https://ss3.4sqi.net/img/categories_v2/food/ramen_",
           "suffix": ".png"
          },
          "id": 13315,
          "name": "Noodle Restaurant"
         }
        ],
        "distance": 2114,
        "fsq_id": "51ba8a4d498ed3b82e7efb81",
        "geocodes": {
         "main": {
          "latitude": 49.224432720230205,
          "longitude": -122.98885308960524
         }
        },
        "location": {
         "address": "6514 Royal Oak Ave",
         "country": "CA",
         "cross_street": "Kingsway",
         "locality": "Burnaby",
         "neighborhood": [
          "Burnaby"
         ],
         "postcode": "V5H 3P4",
         "region": "BC"
        },
        "name": "Kamamarui Ramen & Sushi",
        "popularity": 0.9396032447192997,
        "price": 1,
        "rating": 7.3,
        "stats": {
         "total_photos": 66,
         "total_ratings": 60,
         "total_tips": 13
        },
        "tel": "(604) 435-1675"
       },
       {
        "categories": [
         {
          "icon": {
           "prefix": "https://ss3.4sqi.net/img/categories_v2/food/sushi_",
           "suffix": ".png"
          },
          "id": 13276,
          "name": "Sushi Restaurant"
         }
        ],
        "distance": 2097,
        "fsq_id": "4abbc832f964a520e08420e3",
        "geocodes": {
         "main": {
          "latitude": 49.225053661890016,
          "longitude": -122.98974166830997
         }
        },
        "location": {
         "address": "5152 Kingsway",
         "address_extended": "# 2",
         "country": "CA",
         "cross_street": "at Burlington Ave",
         "locality": "Burnaby",
         "neighborhood": [
          "Metrotown"
         ],
         "postcode": "V5H 2E8",
         "region": "BC"
        },
        "name": "Sushi Oyama",
        "popularity": 0.9493213396514336,
        "price": 2,
        "rating": 7.2,
        "stats": {
         "total_photos": 112,
         "total_ratings": 88,
         "total_tips": 35
        },
        "tel": "(604) 568-1012"
       },
       {
        "categories": [
         {
          "icon": {
           "prefix": "https://ss3.4sqi.net/img/categories_v2/food/mexican_",
           "suffix": ".png"
          },
          "id": 13303,
          "name": "Mexican Restaurant"
         }
        ],
        "distance": 2482,
        "fsq_id": "4c002c2692a6c92826c743e2",
        "geocodes": {
         "main": {
          "latitude": 49.24806407433348,
          "longitude": -122.94013746430001
         }
        },
        "location": {
         "address": "7650 Winston St",
         "country": "CA",
         "cross_street": "",
         "locality": "Burnaby",
         "neighborhood": [
          "Burnaby"
         ],
         "postcode": "V5A 2H4",
         "region": "BC"
        },
        "name": "El Comal",
        "popularity": 0.9207292586940808,
        "price": 1,
        "rating": 8.2,
        "stats": {
         "total_photos": 11,
         "total_ratings": 13,
         "total_tips": 2
        },
        "tel": "(604) 420-1327"
       },
       {
        "categories": [
         {
          "icon": {
           "prefix": "https://ss3.4sqi.net/img/categories_v2/food/japanese_",
           "suffix": ".png"
          },
          "id": 13263,
          "name": "Japanese Restaurant"
         }
        ],
        "distance": 2549,
        "fsq_id": "4ab53469f964a5203e7320e3",
        "geocodes": {
         "main": {
          "latitude": 49.21748451803141,
          "longitude": -122.96504869483499
         }
        },
        "location": {
         "address": "6680 Southoaks Cres",
         "country": "CA",
         "cross_street": "at Kingsway",
         "locality": "Burnaby",
         "neighborhood": [
          "Highgate Village"
         ],
         "postcode": "V5E 4N3",
         "region": "BC"
        },
        "name": "Hi Genki Japanese Restaurant",
        "popularity": 0.9310095574652638,
        "price": 2,
        "rating": 8.4,
        "stats": {
         "total_photos": 83,
         "total_ratings": 90,
         "total_tips": 25
        },
        "tel": "(604) 777-0533"
       },
       {
        "categories": [
         {
          "icon": {
           "prefix": "https://ss3.4sqi.net/img/categories_v2/food/sushi_",
           "suffix": ".png"
          },
          "id": 13276,
          "name": "Sushi Restaurant"
         }
        ],
        "distance": 2460,
        "fsq_id": "4b9982f7f964a5206c8035e3",
        "geocodes": {
         "main": {
          "latitude": 49.229963595516075,
          "longitude": -123.00227653363802
         }
        },
        "location": {
         "address": "4609 Kingsway",
         "address_extended": "# 6",
         "country": "CA",
         "cross_street": "MacKay Ave",
         "locality": "Burnaby",
         "neighborhood": [
          "Marlborough"
         ],
         "postcode": "V5H 4L3",
         "region": "BC"
        },
        "name": "Isami Sushi Japanese Restaurant",
        "popularity": 0.9779134206087864,
        "price": 2,
        "rating": 7.9,
        "stats": {
         "total_photos": 21,
         "total_ratings": 35,
         "total_tips": 17
        },
        "tel": "(604) 434-1212"
       },
       {
        "categories": [
         {
          "icon": {
           "prefix": "https://ss3.4sqi.net/img/categories_v2/food/korean_",
           "suffix": ".png"
          },
          "id": 13289,
          "name": "Korean Restaurant"
         }
        ],
        "distance": 2346,
        "fsq_id": "593da393340a5823a193efd1",
        "geocodes": {
         "main": {
          "latitude": 49.218952,
          "longitude": -122.96899
         }
        },
        "location": {
         "address": "6516 Kingsway",
         "country": "CA",
         "cross_street": "",
         "locality": "Burnaby",
         "neighborhood": [
          "Burnaby"
         ],
         "postcode": "V5E 1C5",
         "region": "BC"
        },
        "name": "Masita Korean Cuisine Ltd",
        "popularity": 0.9746205124086419,
        "price": 2,
        "rating": 7.6,
        "stats": {
         "total_photos": 11,
         "total_ratings": 11,
         "total_tips": 3
        },
        "tel": "(604) 553-9938"
       },
       {
        "categories": [
         {
          "icon": {
           "prefix": "https://ss3.4sqi.net/img/categories_v2/food/fastfood_",
           "suffix": ".png"
          },
          "id": 13145,
          "name": "Fast Food Restaurant"
         }
        ],
        "distance": 2440,
        "fsq_id": "4bc66749d35d9c7416c1e23a",
        "geocodes": {
         "main": {
          "latitude": 49.225674249453704,
          "longitude": -122.99756487398298
         }
        },
        "location": {
         "address": "4700 Kingsway",
         "country": "CA",
         "cross_street": "in Metropolis at Metrotown",
         "locality": "Burnaby",
         "postcode": "V5H 4P1",
         "region": "BC"
        },
        "name": "U-Grill",
        "popularity": 0.7886916713516987,
        "price": 1,
        "rating": 7.7,
        "stats": {
         "total_photos": 54,
         "total_ratings": 18,
         "total_tips": 10
        },
        "tel": "(604) 435-2320"
       },
       {
        "categories": [
         {
          "icon": {
           "prefix": "https://ss3.4sqi.net/img/categories_v2/food/sushi_",
           "suffix": ".png"
          },
          "id": 13276,
          "name": "Sushi Restaurant"
         }
        ],
        "distance": 2359,
        "fsq_id": "4f122b93e4b0fd294f3bcda2",
        "geocodes": {
         "main": {
          "latitude": 49.258238839318665,
          "longitude": -122.95543933926403
         }
        },
        "location": {
         "address": "2900 Bainbridge Ave",
         "address_extended": "# 105",
         "country": "CA",
         "cross_street": "at Lougheed Hwy",
         "locality": "Burnaby",
         "neighborhood": [
          "Montecito"
         ],
         "postcode": "V5A 2S8",
         "region": "BC"
        },
        "name": "GAYA Sushi",
        "popularity": 0.9593606939201671,
        "price": 2,
        "rating": 7.4,
        "stats": {
         "total_photos": 25,
         "total_ratings": 26,
         "total_tips": 11
        },
        "tel": "(604) 368-0086"
       },
       {
        "categories": [
         {
          "icon": {
           "prefix": "https://ss3.4sqi.net/img/categories_v2/food/deli_",
           "suffix": ".png"
          },
          "id": 13039,
          "name": "Deli"
         }
        ],
        "distance": 2599,
        "fsq_id": "4cc777db73fd6dcbd8521686",
        "geocodes": {
         "main": {
          "latitude": 49.21683078107824,
          "longitude": -122.96680994758654
         }
        },
        "location": {
         "address": "6616 Beresford St",
         "country": "CA",
         "cross_street": "",
         "locality": "Burnaby",
         "postcode": "V5E 1B8",
         "region": "BC"
        },
        "name": "Kea's Meats",
        "popularity": 0.9335796321580596,
        "price": 1,
        "rating": 8,
        "stats": {
         "total_photos": 4,
         "total_ratings": 12,
         "total_tips": 4
        },
        "tel": "(604) 515-7222"
       },
       {
        "categories": [
         {
          "icon": {
           "prefix": "https://ss3.4sqi.net/img/categories_v2/food/pizza_",
           "suffix": ".png"
          },
          "id": 13064,
          "name": "Pizzeria"
         }
        ],
        "distance": 2638,
        "fsq_id": "4b157283f964a520ffac23e3",
        "geocodes": {
         "main": {
          "latitude": 49.219143548400474,
          "longitude": -122.95458149228163
         }
        },
        "location": {
         "address": "7110 Hall Ave",
         "country": "CA",
         "cross_street": "at Arcola Way",
         "locality": "Burnaby",
         "neighborhood": [
          "Middlegate"
         ],
         "postcode": "V5E 3B1",
         "region": "BC"
        },
        "name": "Me-N-Ed's Pizza Parlor",
        "popularity": 0.9471528391293872,
        "price": 1,
        "rating": 8.2,
        "stats": {
         "total_photos": 20,
         "total_ratings": 40,
         "total_tips": 9
        },
        "tel": "(604) 521-8881"
       },
       {
        "categories": [
         {
          "icon": {
           "prefix": "https://ss3.4sqi.net/img/categories_v2/food/ramen_",
           "suffix": ".png"
          },
          "id": 13272,
          "name": "Ramen Restaurant"
         }
        ],
        "distance": 2680,
        "fsq_id": "59ab49ccaa6c95709b51b5b7",
        "geocodes": {
         "main": {
          "latitude": 49.224079741618816,
          "longitude": -122.99982286116472
         }
        },
        "location": {
         "address": "4575 Central Blvd",
         "country": "CA",
         "cross_street": "",
         "locality": "Burnaby",
         "neighborhood": [
          "Burnaby"
         ],
         "postcode": "V5H 4J5",
         "region": "BC"
        },
        "name": "Jinya Ramen Bar",
        "popularity": 0.792707413059192,
        "rating": 8.3,
        "stats": {
         "total_photos": 42,
         "total_ratings": 28,
         "total_tips": 8
        },
        "tel": "(604) 229-2477"
       },
       {
        "categories": [
         {
          "icon": {
           "prefix": "https://ss3.4sqi.net/img/categories_v2/food/asian_",
           "suffix": ".png"
          },
          "id": 13072,
          "name": "Asian Restaurant"
         }
        ],
        "distance": 2073,
        "fsq_id": "51a0407b498e6dbb36d85e0b",
        "geocodes": {
         "main": {
          "latitude": 49.22448793618899,
          "longitude": -122.98798556466126
         }
        },
        "location": {
         "address": "5276 Kingsway",
         "country": "CA",
         "cross_street": "Royal Oak Av",
         "locality": "Burnaby",
         "neighborhood": [
          "Burnaby"
         ],
         "postcode": "V5H 2E9",
         "region": "BC"
        },
        "name": "Boiling Point",
        "popularity": 0.9337402618263593,
        "price": 2,
        "rating": 6.8,
        "stats": {
         "total_photos": 61,
         "total_ratings": 58,
         "total_tips": 16
        },
        "tel": "(604) 620-9737"
       },
       {
        "categories": [
         {
          "icon": {
           "prefix": "https://ss3.4sqi.net/img/categories_v2/food/korean_",
           "suffix": ".png"
          },
          "id": 13289,
          "name": "Korean Restaurant"
         }
        ],
        "distance": 2022,
        "fsq_id": "4c47bdb189a6c9b674709b88",
        "geocodes": {
         "main": {
          "latitude": 49.22320515693739,
          "longitude": -122.98286458293708
         }
        },
        "location": {
         "address": "5599 Kingsway",
         "country": "CA",
         "cross_street": "",
         "locality": "Burnaby",
         "postcode": "V5H 2G3",
         "region": "BC"
        },
        "name": "Korean BBQ Potter's Garden",
        "popularity": 0.9241024817283753,
        "price": 2,
        "rating": 6.6,
        "stats": {
         "total_photos": 57,
         "total_ratings": 50,
         "total_tips": 9
        },
        "tel": "(604) 431-0208"
       },
       {
        "categories": [
         {
          "icon": {
           "prefix": "https://ss3.4sqi.net/img/categories_v2/food/diner_",
           "suffix": ".png"
          },
          "id": 13049,
          "name": "Diner"
         },
         {
          "icon": {
           "prefix": "https://ss3.4sqi.net/img/categories_v2/food/default_",
           "suffix": ".png"
          },
          "id": 13068,
          "name": "American Restaurant"
         },
         {
          "icon": {
           "prefix": "https://ss3.4sqi.net/img/categories_v2/food/middleeastern_",
           "suffix": ".png"
          },
          "id": 13309,
          "name": "Middle Eastern Restaurant"
         }
        ],
        "distance": 2582,
        "fsq_id": "4b0ddc45f964a5207c5123e3",
        "geocodes": {
         "main": {
          "latitude": 49.21852966800572,
          "longitude": -122.95831221303997
         }
        },
        "location": {
         "address": "7084 Kingsway",
         "country": "CA",
         "cross_street": "at Salisbury Ave.",
         "locality": "Burnaby",
         "neighborhood": [
          "Edmonds Town Centre"
         ],
         "postcode": "V5E 1E7",
         "region": "BC"
        },
        "name": "Anatolia's Gate Restaurant",
        "popularity": 0.9353465585093567,
        "price": 2,
        "rating": 7.9,
        "stats": {
         "total_photos": 54,
         "total_ratings": 35,
         "total_tips": 19
        },
        "tel": "(604) 525-2519"
       },
       {
        "categories": [
         {
          "icon": {
           "prefix": "https://ss3.4sqi.net/img/categories_v2/food/asian_",
           "suffix": ".png"
          },
          "id": 13125,
          "name": "Shanghai Restaurant"
         }
        ],
        "distance": 2549,
        "fsq_id": "5685a0fa498e546e35056331",
        "geocodes": {
         "main": {
          "latitude": 49.23005964645515,
          "longitude": -123.0037110817197
         }
        },
        "location": {
         "address": "4501 Kingsway",
         "address_extended": "# 104",
         "country": "CA",
         "cross_street": "btwn McKay & Willingdon",
         "locality": "Burnaby",
         "neighborhood": [
          "Burnaby"
         ],
         "postcode": "V5H 0E5",
         "region": "BC"
        },
        "name": "Dinesty Dumpling House",
        "popularity": 0.9406473375632479,
        "rating": 7.8,
        "stats": {
         "total_photos": 39,
         "total_ratings": 41,
         "total_tips": 4
        },
        "tel": "(604) 439-0009"
       },
       {
        "categories": [
         {
          "icon": {
           "prefix": "https://ss3.4sqi.net/img/categories_v2/food/asian_",
           "suffix": ".png"
          },
          "id": 13099,
          "name": "Chinese Restaurant"
         }
        ],
        "distance": 2450,
        "fsq_id": "4ada4b3af964a520052121e3",
        "geocodes": {
         "main": {
          "latitude": 49.21855268731793,
          "longitude": -122.96401611710463
         }
        },
        "location": {
         "address": "6731 Kingsway",
         "country": "CA",
         "cross_street": "",
         "locality": "Burnaby",
         "neighborhood": [
          "Burnaby"
         ],
         "postcode": "V5E 1E4",
         "region": "BC"
        },
        "name": "Mr Ho Wonton House",
        "popularity": 0.9529355071881777,
        "price": 4,
        "rating": 7.5,
        "stats": {
         "total_photos": 14,
         "total_ratings": 45,
         "total_tips": 14
        },
        "tel": "(604) 540-6746"
       },
       {
        "categories": [
         {
          "icon": {
           "prefix": "https://ss3.4sqi.net/img/categories_v2/food/default_",
           "suffix": ".png"
          },
          "id": 13065,
          "name": "Restaurant"
         }
        ],
        "distance": 2642,
        "fsq_id": "5d8eedeba1a1e400070bbf6e",
        "geocodes": {
         "main": {
          "latitude": 49.227836,
          "longitude": -123.003352
         }
        },
        "location": {
         "address": "6090 Silver Dr",
         "country": "CA",
         "cross_street": "",
         "locality": "Burnaby",
         "postcode": "V5H 0H5",
         "region": "BC"
        },
        "name": "Cactus Club Cafe Station Square",
        "popularity": 0.9971086659706048,
        "price": 2,
        "rating": 8,
        "stats": {
         "total_photos": 6,
         "total_ratings": 4,
         "total_tips": 1
        },
        "tel": "(604) 291-9339"
       },
       {
        "categories": [
         {
          "icon": {
           "prefix": "https://ss3.4sqi.net/img/categories_v2/food/sushi_",
           "suffix": ".png"
          },
          "id": 13276,
          "name": "Sushi Restaurant"
         }
        ],
        "distance": 2429,
        "fsq_id": "4ab7041df964a520ae7920e3",
        "geocodes": {
         "main": {
          "latitude": 49.229067851710084,
          "longitude": -123.00105693224533
         }
        },
        "location": {
         "address": "4635 Kingsway",
         "country": "CA",
         "cross_street": "",
         "locality": "Burnaby",
         "neighborhood": [
          "Killarney"
         ],
         "postcode": "V5H 2B3",
         "region": "BC"
        },
        "name": "Sushi Garden Japanese Restaurant",
        "popularity": 0.9879527748775199,
        "price": 1,
        "rating": 7.4,
        "stats": {
         "total_photos": 155,
         "total_ratings": 151,
         "total_tips": 50
        },
        "tel": "(604) 436-0104"
       },
       {
        "categories": [
         {
          "icon": {
           "prefix": "https://ss3.4sqi.net/img/categories_v2/food/snacks_",
           "suffix": ".png"
          },
          "id": 13382,
          "name": "Snack Place"
         }
        ],
        "distance": 2480,
        "fsq_id": "4d0133aeffcea143eced3191",
        "geocodes": {
         "main": {
          "latitude": 49.25142430478718,
          "longitude": -123.00138351181936
         }
        },
        "location": {
         "address": "3700 Willingdon Ave",
         "country": "CA",
         "cross_street": "in BCIT SE2",
         "locality": "Burnaby",
         "postcode": "V5G 3H2",
         "region": "BC"
        },
        "name": "BCITSA's Stand Central SE2",
        "popularity": 0.6269375953738655,
        "price": 1,
        "rating": 7.5,
        "stats": {
         "total_photos": 4,
         "total_ratings": 9,
         "total_tips": 4
        },
        "tel": "(604) 432-8600"
       },
       {
        "categories": [
         {
          "icon": {
           "prefix": "https://ss3.4sqi.net/img/categories_v2/food/bakery_",
           "suffix": ".png"
          },
          "id": 13002,
          "name": "Bakery"
         }
        ],
        "distance": 2476,
        "fsq_id": "4ab0225df964a520236620e3",
        "geocodes": {
         "main": {
          "latitude": 49.227325240368046,
          "longitude": -123.00012514823945
         }
        },
        "location": {
         "address": "4700 Kingsway",
         "address_extended": "# 1155",
         "country": "CA",
         "cross_street": "in Metropolis at Metrotown",
         "locality": "Vancouver",
         "neighborhood": [
          "Metrotown"
         ],
         "postcode": "V5H 4M1",
         "region": "BC"
        },
        "name": "Cinnzeo",
        "popularity": 0.9033009396835595,
        "price": 1,
        "rating": 7.5,
        "stats": {
         "total_photos": 7,
         "total_ratings": 10,
         "total_tips": 1
        },
        "tel": "(604) 439-2431"
       },
       {
        "categories": [
         {
          "icon": {
           "prefix": "https://ss3.4sqi.net/img/categories_v2/food/asian_",
           "suffix": ".png"
          },
          "id": 13128,
          "name": "Taiwanese Restaurant"
         }
        ],
        "distance": 2174,
        "fsq_id": "4b980d99f964a5201b2935e3",
        "geocodes": {
         "main": {
          "latitude": 49.22070985357275,
          "longitude": -122.97727551449036
         }
        },
        "location": {
         "address": "5908 Kingsway",
         "country": "CA",
         "cross_street": "at Buller Ave.",
         "locality": "Burnaby",
         "neighborhood": [
          "Burnaby South"
         ],
         "postcode": "V5J 1H2",
         "region": "BC"
        },
        "name": "The One Restaurant",
        "popularity": 0.970926030037748,
        "price": 2,
        "rating": 6.9,
        "stats": {
         "total_photos": 236,
         "total_ratings": 122,
         "total_tips": 39
        },
        "tel": "(604) 569-1866"
       },
       {
        "categories": [
         {
          "icon": {
           "prefix": "https://ss3.4sqi.net/img/categories_v2/food/asian_",
           "suffix": ".png"
          },
          "id": 13099,
          "name": "Chinese Restaurant"
         },
         {
          "icon": {
           "prefix": "https://ss3.4sqi.net/img/categories_v2/food/japanese_",
           "suffix": ".png"
          },
          "id": 13263,
          "name": "Japanese Restaurant"
         }
        ],
        "distance": 2419,
        "fsq_id": "4aef8b02f964a5202ed921e3",
        "geocodes": {
         "main": {
          "latitude": 49.218757851266126,
          "longitude": -122.96454755914293
         }
        },
        "location": {
         "address": "7154 Sperling Ave",
         "country": "CA",
         "cross_street": "at Kingsway",
         "locality": "Burnaby",
         "neighborhood": [
          "Burnaby"
         ],
         "postcode": "V5E 2W5",
         "region": "BC"
        },
        "name": "Pearl Hot Pot",
        "popularity": 0.9825716809894788,
        "price": 1,
        "rating": 7.3,
        "stats": {
         "total_photos": 37,
         "total_ratings": 16,
         "total_tips": 6
        },
        "tel": "(604) 516-0238"
       },
       {
        "categories": [
         {
          "icon": {
           "prefix": "https://ss3.4sqi.net/img/categories_v2/food/bakery_",
           "suffix": ".png"
          },
          "id": 13002,
          "name": "Bakery"
         }
        ],
        "distance": 2864,
        "fsq_id": "5891311cec980f7595653808",
        "geocodes": {
         "main": {
          "latitude": 49.2260787,
          "longitude": -123.0052796
         }
        },
        "location": {
         "address": "4396 Beresford St",
         "country": "CA",
         "cross_street": "",
         "locality": "Burnaby",
         "neighborhood": [
          "Burnaby"
         ],
         "postcode": "V5H 0E7",
         "region": "BC"
        },
        "name": "Mon Paris Patisserie Inc",
        "popularity": 0.9764677535940889,
        "price": 1,
        "rating": 8.6,
        "stats": {
         "total_photos": 21,
         "total_ratings": 19,
         "total_tips": 6
        },
        "tel": "(604) 564-5665"
       },
       {
        "categories": [
         {
          "icon": {
           "prefix": "https://ss3.4sqi.net/img/categories_v2/food/vietnamese_",
           "suffix": ".png"
          },
          "id": 13379,
          "name": "Vietnamese Restaurant"
         }
        ],
        "distance": 2431,
        "fsq_id": "4d0faf6bba378cfae0bb7293",
        "geocodes": {
         "main": {
          "latitude": 49.218635086003005,
          "longitude": -122.96457804908762
         }
        },
        "location": {
         "address": "6701 Kingsway",
         "country": "CA",
         "cross_street": "Sperling",
         "locality": "Burnaby",
         "neighborhood": [
          "Burnaby"
         ],
         "postcode": "V5E 1E4",
         "region": "BC"
        },
        "name": "Pho Century Fine Vietnamese Cuisine",
        "popularity": 0.8753513773994057,
        "price": 2,
        "rating": 7.3,
        "stats": {
         "total_photos": 32,
         "total_ratings": 27,
         "total_tips": 8
        },
        "tel": "(604) 544-5028"
       },
       {
        "categories": [
         {
          "icon": {
           "prefix": "https://ss3.4sqi.net/img/categories_v2/travel/default_",
           "suffix": ".png"
          },
          "id": 19009,
          "name": "Lodging"
         }
        ],
        "distance": 2059,
        "fsq_id": "4b647ff5f964a52068b82ae3",
        "geocodes": {
         "main": {
          "latitude": 49.225538610811974,
          "longitude": -122.98983029311924
         }
        },
        "location": {
         "address": "5137 Kingsway",
         "country": "CA",
         "cross_street": "at Royal Oak Ave",
         "locality": "Burnaby",
         "neighborhood": [
          "Metrotown"
         ],
         "postcode": "V5H 2E6",
         "region": "BC"
        },
        "name": "IHOP",
        "popularity": 0.8302144406071802,
        "price": 2,
        "rating": 6.6,
        "stats": {
         "total_photos": 80,
         "total_ratings": 77,
         "total_tips": 15
        },
        "tel": "(604) 451-5557"
       },
       {
        "categories": [
         {
          "icon": {
           "prefix": "https://ss3.4sqi.net/img/categories_v2/food/asian_",
           "suffix": ".png"
          },
          "id": 13099,
          "name": "Chinese Restaurant"
         },
         {
          "icon": {
           "prefix": "https://ss3.4sqi.net/img/categories_v2/food/ramen_",
           "suffix": ".png"
          },
          "id": 13315,
          "name": "Noodle Restaurant"
         },
         {
          "icon": {
           "prefix": "https://ss3.4sqi.net/img/categories_v2/food/steakhouse_",
           "suffix": ".png"
          },
          "id": 13383,
          "name": "Steakhouse"
         }
        ],
        "distance": 2319,
        "fsq_id": "4ac83a79f964a520f7bb20e3",
        "geocodes": {
         "main": {
          "latitude": 49.24268456068389,
          "longitude": -123.00373081174679
         }
        },
        "location": {
         "address": "4741 Willingdon Ave",
         "country": "CA",
         "cross_street": "at Moscrop St.",
         "locality": "Burnaby",
         "neighborhood": [
          "Forglen"
         ],
         "postcode": "V5G 3H5",
         "region": "BC"
        },
        "name": "No. 1 Beef Noodle House",
        "popularity": 0.9895590715605173,
        "price": 2,
        "rating": 7.1,
        "stats": {
         "total_photos": 91,
         "total_ratings": 61,
         "total_tips": 24
        },
        "tel": "(604) 438-6648"
       },
       {
        "categories": [
         {
          "icon": {
           "prefix": "https://ss3.4sqi.net/img/categories_v2/food/cafe_",
           "suffix": ".png"
          },
          "id": 13034,
          "name": "Café"
         },
         {
          "icon": {
           "prefix": "https://ss3.4sqi.net/img/categories_v2/food/default_",
           "suffix": ".png"
          },
          "id": 13065,
          "name": "Restaurant"
         }
        ],
        "distance": 2556,
        "fsq_id": "4c15acbba1010f47a2764e18",
        "geocodes": {
         "main": {
          "latitude": 49.21933403657967,
          "longitude": -122.95647099836468
         }
        },
        "location": {
         "address": "7139 Arcola Way",
         "country": "CA",
         "cross_street": "at Highgate Village",
         "locality": "Burnaby",
         "neighborhood": [
          "Burnaby"
         ],
         "postcode": "V5E 0A6",
         "region": "BC"
        },
        "name": "Tealips Cafe",
        "popularity": 0.9769496425989881,
        "price": 2,
        "rating": 7.5,
        "stats": {
         "total_photos": 60,
         "total_ratings": 57,
         "total_tips": 15
        },
        "tel": "(778) 397-3972"
       },
       {
        "categories": [
         {
          "icon": {
           "prefix": "https://ss3.4sqi.net/img/categories_v2/food/sushi_",
           "suffix": ".png"
          },
          "id": 13276,
          "name": "Sushi Restaurant"
         }
        ],
        "distance": 2596,
        "fsq_id": "4ae0f532f964a5200c8421e3",
        "geocodes": {
         "main": {
          "latitude": 49.21903984017583,
          "longitude": -122.95613912219491
         }
        },
        "location": {
         "address": "7155 Kingsway",
         "address_extended": "# 221",
         "country": "CA",
         "cross_street": "btwn Hall & Salisbury",
         "locality": "Burnaby",
         "neighborhood": [
          "Burnaby"
         ],
         "postcode": "V5E 2V1",
         "region": "BC"
        },
        "name": "Fresh Box Sushi",
        "popularity": 0.7734318528632238,
        "price": 2,
        "rating": 7.4,
        "stats": {
         "total_photos": 14,
         "total_ratings": 18,
         "total_tips": 10
        },
        "tel": "(604) 540-8646"
       },
       {
        "categories": [
         {
          "icon": {
           "prefix": "https://ss3.4sqi.net/img/categories_v2/food/bakery_",
           "suffix": ".png"
          },
          "id": 13002,
          "name": "Bakery"
         }
        ],
        "distance": 2550,
        "fsq_id": "4ba96973f964a52089253ae3",
        "geocodes": {
         "main": {
          "latitude": 49.225487239534154,
          "longitude": -122.99929563001368
         }
        },
        "location": {
         "address": "4800 Kingsway",
         "address_extended": "# 161",
         "country": "CA",
         "cross_street": "in Metropolis at Metrotown",
         "locality": "Burnaby",
         "neighborhood": [
          "Burnaby"
         ],
         "postcode": "V5H 4J2",
         "region": "BC"
        },
        "name": "Maxim's Bakery in Metrotown",
        "popularity": 0.9408882820656975,
        "price": 1,
        "rating": 7.3,
        "stats": {
         "total_photos": 9,
         "total_ratings": 12,
         "total_tips": 2
        },
        "tel": "(604) 438-2256"
       },
       {
        "categories": [
         {
          "icon": {
           "prefix": "https://ss3.4sqi.net/img/categories_v2/shops/food_gourmet_",
           "suffix": ".png"
          },
          "id": 17063,
          "name": "Coffee Roaster"
         }
        ],
        "distance": 2849,
        "fsq_id": "569188e9498ea42fe92f35ad",
        "geocodes": {
         "main": {
          "latitude": 49.223444,
          "longitude": -122.942015
         }
        },
        "location": {
         "address": "7655 Edmonds St",
         "address_extended": "# 104",
         "country": "CA",
         "cross_street": "",
         "locality": "Burnaby",
         "postcode": "V3N 0C3",
         "region": "BC"
        },
        "name": "Caritas 9 Coffee Roasters",
        "popularity": 0.9264316119187214,
        "price": 1,
        "rating": 8,
        "stats": {
         "total_photos": 3,
         "total_ratings": 9,
         "total_tips": 2
        },
        "tel": "(604) 553-0316"
       },
       {
        "categories": [
         {
          "icon": {
           "prefix": "https://ss3.4sqi.net/img/categories_v2/food/fastfood_",
           "suffix": ".png"
          },
          "id": 13145,
          "name": "Fast Food Restaurant"
         },
         {
          "icon": {
           "prefix": "https://ss3.4sqi.net/img/categories_v2/food/mexican_",
           "suffix": ".png"
          },
          "id": 13303,
          "name": "Mexican Restaurant"
         }
        ],
        "distance": 2505,
        "fsq_id": "54cc1b87498e775a90807af1",
        "geocodes": {
         "main": {
          "latitude": 49.227008,
          "longitude": -123.000288
         }
        },
        "location": {
         "address": "4700 Kingsway",
         "address_extended": "# 2200",
         "country": "CA",
         "cross_street": "Kingsway & McKercher Ave",
         "locality": "Burnaby",
         "neighborhood": [
          "Metrotown"
         ],
         "postcode": "V5H 4M1",
         "region": "BC"
        },
        "name": "Chipotle Mexican Grill",
        "popularity": 0.9934944984338607,
        "price": 1,
        "rating": 7.2,
        "stats": {
         "total_photos": 62,
         "total_ratings": 52,
         "total_tips": 7
        },
        "tel": "(604) 438-4444"
       },
       {
        "categories": [
         {
          "icon": {
           "prefix": "https://ss3.4sqi.net/img/categories_v2/food/bakery_",
           "suffix": ".png"
          },
          "id": 13002,
          "name": "Bakery"
         }
        ],
        "distance": 2415,
        "fsq_id": "4bec60f375b2c9b64467438d",
        "geocodes": {
         "main": {
          "latitude": 49.225631973027205,
          "longitude": -122.99704806874169
         }
        },
        "location": {
         "address": "4820 Kingsway",
         "address_extended": "# 214",
         "country": "CA",
         "locality": "Burnaby",
         "neighborhood": [
          "Marlborough"
         ],
         "postcode": "V5H 4P1",
         "region": "BC"
        },
        "name": "Manzano Europa Bakery Inc",
        "popularity": 0.8343104971488234,
        "price": 1,
        "rating": 6.9,
        "stats": {
         "total_photos": 11,
         "total_ratings": 9,
         "total_tips": 3
        },
        "tel": "(604) 437-1318"
       },
       {
        "categories": [
         {
          "icon": {
           "prefix": "https://ss3.4sqi.net/img/categories_v2/food/default_",
           "suffix": ".png"
          },
          "id": 13065,
          "name": "Restaurant"
         }
        ],
        "distance": 2431,
        "fsq_id": "56eb6ea8498e09fe3ecc38c0",
        "geocodes": {
         "main": {
          "latitude": 49.22568764449983,
          "longitude": -122.99741582605643
         }
        },
        "location": {
         "address": "4820 Kingsway",
         "address_extended": "Unit 314",
         "country": "CA",
         "cross_street": "",
         "locality": "Burnaby",
         "neighborhood": [
          "Metrotown"
         ],
         "postcode": "V5H 4P1",
         "region": "BC"
        },
        "name": "Chachi's Sandwiches",
        "popularity": 0.695124889567103,
        "price": 1,
        "rating": 6.9,
        "stats": {
         "total_photos": 6,
         "total_ratings": 8,
         "total_tips": 3
        },
        "tel": "(604) 566-2447"
       },
       {
        "categories": [
         {
          "icon": {
           "prefix": "https://ss3.4sqi.net/img/categories_v2/food/fastfood_",
           "suffix": ".png"
          },
          "id": 13145,
          "name": "Fast Food Restaurant"
         }
        ],
        "distance": 2428,
        "fsq_id": "4bdb7d673904a59306c44a9e",
        "geocodes": {
         "main": {
          "latitude": 49.22552044710867,
          "longitude": -122.99713355309392
         }
        },
        "location": {
         "address": "4820 Kingsway",
         "address_extended": "# 335",
         "country": "CA",
         "cross_street": "in Metropolis at Metrotown Food Court",
         "locality": "Burnaby",
         "neighborhood": [
          "Marlborough"
         ],
         "postcode": "V5H 4P1",
         "region": "BC"
        },
        "name": "New York Fries",
        "popularity": 0.9262709822504217,
        "price": 2,
        "rating": 6.9,
        "stats": {
         "total_photos": 17,
         "total_ratings": 10,
         "total_tips": 2
        },
        "tel": "(604) 430-4974"
       },
       {
        "categories": [
         {
          "icon": {
           "prefix": "https://ss3.4sqi.net/img/categories_v2/food/asian_",
           "suffix": ".png"
          },
          "id": 13099,
          "name": "Chinese Restaurant"
         }
        ],
        "distance": 2866,
        "fsq_id": "4ce1e90f70bba1cd184f74c4",
        "geocodes": {
         "main": {
          "latitude": 49.26542352986742,
          "longitude": -122.97845974063908
         }
        },
        "location": {
         "address": "5901 Broadway",
         "address_extended": "# 7",
         "country": "CA",
         "cross_street": "",
         "locality": "Burnaby",
         "neighborhood": [
          "Burnaby"
         ],
         "postcode": "V5B 2Y1",
         "region": "BC"
        },
        "name": "Garlic & Chilli Restaurant",
        "popularity": 0.8702915428479641,
        "price": 1,
        "rating": 7.7,
        "stats": {
         "total_photos": 16,
         "total_ratings": 11,
         "total_tips": 5
        },
        "tel": "(604) 298-8361"
       },
       {
        "categories": [
         {
          "icon": {
           "prefix": "https://ss3.4sqi.net/img/categories_v2/food/sushi_",
           "suffix": ".png"
          },
          "id": 13276,
          "name": "Sushi Restaurant"
         }
        ],
        "distance": 2334,
        "fsq_id": "4f81fa79e4b050ced74c37b1",
        "geocodes": {
         "main": {
          "latitude": 49.24261951017471,
          "longitude": -123.00394639262616
         }
        },
        "location": {
         "address": "4739 Willingdon Ave",
         "address_extended": "# 1",
         "country": "CA",
         "cross_street": "at Deer Lake Pkwy",
         "locality": "Burnaby",
         "neighborhood": [
          "Forglen"
         ],
         "postcode": "V5G 3H5",
         "region": "BC"
        },
        "name": "Sushi S Japanese Restaurant",
        "popularity": 0.9034615693518593,
        "price": 2,
        "rating": 6.6,
        "stats": {
         "total_photos": 49,
         "total_ratings": 35,
         "total_tips": 12
        },
        "tel": "(604) 437-9399"
       }
      ],
      "text/plain": [
       "<IPython.core.display.JSON object>"
      ]
     },
     "execution_count": 6,
     "metadata": {
      "application/json": {
       "expanded": false,
       "root": "root"
      }
     },
     "output_type": "execute_result"
    }
   ],
   "source": [
    "results = response.json()['results']\n",
    "JSON(results)"
   ]
  },
  {
   "cell_type": "code",
   "execution_count": 7,
   "metadata": {
    "slideshow": {
     "slide_type": "skip"
    }
   },
   "outputs": [],
   "source": [
    "fs_locations = pd.DataFrame()\n",
    "fs_categories = pd.DataFrame()\n",
    "# locations = pd.DataFrame(columns=['id', 'distance', 'long', 'lat', 'address', 'country', 'cross_street', 'locality', 'region', 'name'])"
   ]
  },
  {
   "cell_type": "code",
   "execution_count": 8,
   "metadata": {
    "slideshow": {
     "slide_type": "skip"
    }
   },
   "outputs": [
    {
     "name": "stdout",
     "output_type": "stream",
     "text": [
      "cross_street missing\n",
      "telephone missing\n",
      "price missing\n",
      "price missing\n",
      "price missing\n",
      "cross_street missing\n"
     ]
    }
   ],
   "source": [
    "# for each result, grab all the relevant data\n",
    "# in the case of the categories, a new dataframe is needed.\n",
    "# grab the data from each category, along with the fsr_id as a key\n",
    "# and push to another dataframe\n",
    "for i in results:\n",
    "    lon = i['geocodes']['main']['longitude']\n",
    "    lat = i['geocodes']['main']['latitude']\n",
    "    addr = i['location']['address']\n",
    "    cont = i['location']['country']\n",
    "    cros = ''\n",
    "    try:\n",
    "        cros = i['location']['cross_street']\n",
    "    except:\n",
    "        print('cross_street missing')\n",
    "    locality = i['location']['locality']\n",
    "    region = i['location']['region']\n",
    "    popularity = i['popularity']\n",
    "#     try:\n",
    "#         popularity = i['popularity']\n",
    "#     except:\n",
    "#         print('popularity missing')\n",
    "    price = ''\n",
    "    try:\n",
    "        price = i['price']\n",
    "    except:\n",
    "        print('price missing')\n",
    "    rating = ''\n",
    "    try:\n",
    "        rating = i['rating']\n",
    "    except:\n",
    "        print('rating missing')\n",
    "    rating_count = ''\n",
    "    try:\n",
    "        rating_count = i['stats']['total_ratings']\n",
    "    except:\n",
    "        print('stats missing')\n",
    "    tel = ''\n",
    "    try:\n",
    "        tel = i['tel']\n",
    "    except:\n",
    "        print('telephone missing')\n",
    "    fs_locations = fs_locations.append({'fsq_id': i['fsq_id'], 'distance': i['distance'], 'long': lon, 'lat': lat, \n",
    "                            'address': addr, 'country': cont, 'cross_street': cros, 'locality': locality,\n",
    "                            'region': region, 'name': i['name'], 'popularity': popularity,\n",
    "                            'price': price, 'rating': rating, 'rating_count': rating_count,\n",
    "                            'telephone': tel}, ignore_index=True)\n",
    "    for category in i['categories']:\n",
    "        fs_categories = fs_categories.append({'cat_id': category['id'], 'cat_name': category['name'], 'fsq_id': i['fsq_id']},\n",
    "                     ignore_index=True)"
   ]
  },
  {
   "cell_type": "code",
   "execution_count": 9,
   "metadata": {
    "slideshow": {
     "slide_type": "skip"
    }
   },
   "outputs": [],
   "source": [
    "fs_locations = fs_locations.drop_duplicates()"
   ]
  },
  {
   "cell_type": "code",
   "execution_count": 10,
   "metadata": {
    "slideshow": {
     "slide_type": "skip"
    }
   },
   "outputs": [],
   "source": [
    "# store the data into the sql database\n",
    "# import sqlite3\n",
    "# import sqlalchemy\n",
    "# engine = sqlalchemy.create_engine('sqlite:///poi_database.db')"
   ]
  },
  {
   "cell_type": "code",
   "execution_count": 11,
   "metadata": {
    "slideshow": {
     "slide_type": "skip"
    }
   },
   "outputs": [],
   "source": [
    "# locations.to_sql('foursquare_locations', engine)\n",
    "# categories.to_sql('foursquare_categories', engine)"
   ]
  },
  {
   "cell_type": "markdown",
   "metadata": {
    "slideshow": {
     "slide_type": "skip"
    }
   },
   "source": [
    "### Yelp API"
   ]
  },
  {
   "cell_type": "code",
   "execution_count": 12,
   "metadata": {
    "slideshow": {
     "slide_type": "skip"
    }
   },
   "outputs": [],
   "source": [
    "yelp_id = yelp['id']\n",
    "yelp_key = yelp['key']"
   ]
  },
  {
   "cell_type": "code",
   "execution_count": 13,
   "metadata": {
    "slideshow": {
     "slide_type": "skip"
    }
   },
   "outputs": [],
   "source": [
    "# Loading the data\n",
    "headers = {'Authorization': f'Bearer {yelp_key}'}\n",
    "url = 'https://api.yelp.com/v3/businesses/search'\n",
    "lat = 49.28193507156773\n",
    "lon = -123.00004885392272\n",
    "params = {'term':'restaurant', 'location': 'Burnaby', 'limit': 50}\n",
    "yelp_req = re.get(url, params=params, headers=headers)"
   ]
  },
  {
   "cell_type": "code",
   "execution_count": 14,
   "metadata": {
    "slideshow": {
     "slide_type": "skip"
    }
   },
   "outputs": [
    {
     "data": {
      "application/json": {
       "businesses": [
        {
         "alias": "tendon-kohaku-burnaby",
         "categories": [
          {
           "alias": "japanese",
           "title": "Japanese"
          }
         ],
         "coordinates": {
          "latitude": 49.2673143,
          "longitude": -123.0062065
         },
         "display_phone": "",
         "distance": 3895.822165055653,
         "id": "kq2x8X8LBIafFCOD8nvFwQ",
         "image_url": "https://s3-media2.fl.yelpcdn.com/bphoto/Q9vZVOhs28YAvBEUcIo4Cw/o.jpg",
         "is_closed": false,
         "location": {
          "address1": "106-1901 Rosser Avenue",
          "address2": "",
          "address3": null,
          "city": "Burnaby",
          "country": "CA",
          "display_address": [
           "106-1901 Rosser Avenue",
           "Burnaby, BC V5C 6R6",
           "Canada"
          ],
          "state": "BC",
          "zip_code": "V5C 6R6"
         },
         "name": "Tendon Kohaku",
         "phone": "",
         "price": "$$",
         "rating": 4,
         "review_count": 38,
         "transactions": [],
         "url": "https://www.yelp.com/biz/tendon-kohaku-burnaby?adjust_creative=er8VerEY7YoTpPqoX4VVvg&utm_campaign=yelp_api_v3&utm_medium=api_v3_business_search&utm_source=er8VerEY7YoTpPqoX4VVvg"
        },
        {
         "alias": "little-minhs-burnaby-2",
         "categories": [
          {
           "alias": "vietnamese",
           "title": "Vietnamese"
          }
         ],
         "coordinates": {
          "latitude": 49.1990675,
          "longitude": -122.9799962
         },
         "display_phone": "+1 778-928-6668",
         "distance": 4625.330500853739,
         "id": "IApa8s-StZo2QcXOyu35tg",
         "image_url": "https://s3-media2.fl.yelpcdn.com/bphoto/AXJ_m7j0xSySIFPAtrZoQQ/o.jpg",
         "is_closed": false,
         "location": {
          "address1": "7533 Market Crossing",
          "address2": null,
          "address3": "",
          "city": "Burnaby",
          "country": "CA",
          "display_address": [
           "7533 Market Crossing",
           "Burnaby, BC V5J 0A3",
           "Canada"
          ],
          "state": "BC",
          "zip_code": "V5J 0A3"
         },
         "name": "Little Minh's",
         "phone": "+17789286668",
         "price": "$$",
         "rating": 4.5,
         "review_count": 101,
         "transactions": [
          "restaurant_reservation"
         ],
         "url": "https://www.yelp.com/biz/little-minhs-burnaby-2?adjust_creative=er8VerEY7YoTpPqoX4VVvg&utm_campaign=yelp_api_v3&utm_medium=api_v3_business_search&utm_source=er8VerEY7YoTpPqoX4VVvg"
        },
        {
         "alias": "oeb-breakfast-burnaby-2",
         "categories": [
          {
           "alias": "breakfast_brunch",
           "title": "Breakfast & Brunch"
          }
         ],
         "coordinates": {
          "latitude": 49.266624703302874,
          "longitude": -123.0008029756644
         },
         "display_phone": "+1 604-566-3447",
         "distance": 3625.494409152619,
         "id": "TXlxmfFmw7gePQdnLSdjaw",
         "image_url": "https://s3-media2.fl.yelpcdn.com/bphoto/NFNYmUTBmoeW3af9iVXGVw/o.jpg",
         "is_closed": false,
         "location": {
          "address1": "4525 Lougheed Highway",
          "address2": "Unit 2306",
          "address3": "",
          "city": "Burnaby",
          "country": "CA",
          "display_address": [
           "4525 Lougheed Highway",
           "Unit 2306",
           "Burnaby, BC V5C 3Z6",
           "Canada"
          ],
          "state": "BC",
          "zip_code": "V5C 3Z6"
         },
         "name": "OEB Breakfast",
         "phone": "+16045663447",
         "price": "$$",
         "rating": 4,
         "review_count": 68,
         "transactions": [],
         "url": "https://www.yelp.com/biz/oeb-breakfast-burnaby-2?adjust_creative=er8VerEY7YoTpPqoX4VVvg&utm_campaign=yelp_api_v3&utm_medium=api_v3_business_search&utm_source=er8VerEY7YoTpPqoX4VVvg"
        },
        {
         "alias": "bibiks-burnaby",
         "categories": [
          {
           "alias": "singaporean",
           "title": "Singaporean"
          },
          {
           "alias": "popuprestaurants",
           "title": "Pop-Up Restaurants"
          }
         ],
         "coordinates": {
          "latitude": 49.2609854933874,
          "longitude": -122.988188937306
         },
         "display_phone": "",
         "distance": 2614.445227437563,
         "id": "jYRKJeyL1JKpjz7TCzzH3w",
         "image_url": "https://s3-media2.fl.yelpcdn.com/bphoto/HY-_ClZS-UHEBit8KVFajg/o.jpg",
         "is_closed": false,
         "location": {
          "address1": "5279 Still Creek Ave",
          "address2": "",
          "address3": null,
          "city": "Burnaby",
          "country": "CA",
          "display_address": [
           "5279 Still Creek Ave",
           "Burnaby, BC V5C 5V1",
           "Canada"
          ],
          "state": "BC",
          "zip_code": "V5C 5V1"
         },
         "name": "bibik's",
         "phone": "",
         "rating": 4.5,
         "review_count": 3,
         "transactions": [],
         "url": "https://www.yelp.com/biz/bibiks-burnaby?adjust_creative=er8VerEY7YoTpPqoX4VVvg&utm_campaign=yelp_api_v3&utm_medium=api_v3_business_search&utm_source=er8VerEY7YoTpPqoX4VVvg"
        },
        {
         "alias": "burnaby-mountain-clubhouse-burnaby",
         "categories": [
          {
           "alias": "lounges",
           "title": "Lounges"
          },
          {
           "alias": "newcanadian",
           "title": "Canadian (New)"
          }
         ],
         "coordinates": {
          "latitude": 49.265138,
          "longitude": -122.943048
         },
         "display_phone": "+1 604-297-4888",
         "distance": 3500.825576421935,
         "id": "BtGVORkfP1EsGcbqHDlUVQ",
         "image_url": "https://s3-media2.fl.yelpcdn.com/bphoto/9DLGBtKiSgFd2Uf4gNGWAg/o.jpg",
         "is_closed": false,
         "location": {
          "address1": "7600 Halifax Street",
          "address2": "",
          "address3": "",
          "city": "Burnaby",
          "country": "CA",
          "display_address": [
           "7600 Halifax Street",
           "Burnaby, BC V5A 4M8",
           "Canada"
          ],
          "state": "BC",
          "zip_code": "V5A 4M8"
         },
         "name": "Burnaby Mountain Clubhouse",
         "phone": "+16042974888",
         "price": "$$",
         "rating": 4,
         "review_count": 53,
         "transactions": [],
         "url": "https://www.yelp.com/biz/burnaby-mountain-clubhouse-burnaby?adjust_creative=er8VerEY7YoTpPqoX4VVvg&utm_campaign=yelp_api_v3&utm_medium=api_v3_business_search&utm_source=er8VerEY7YoTpPqoX4VVvg"
        },
        {
         "alias": "na-re-korean-kitchen-burnaby",
         "categories": [
          {
           "alias": "korean",
           "title": "Korean"
          }
         ],
         "coordinates": {
          "latitude": 49.220323,
          "longitude": -122.9484265
         },
         "display_phone": "+1 604-522-7009",
         "distance": 2776.8938802571106,
         "id": "KGj2fuxpW6sgMOiUQk2UsA",
         "image_url": "https://s3-media2.fl.yelpcdn.com/bphoto/bRN-efv6-Cw_lyRkjENoxw/o.jpg",
         "is_closed": false,
         "location": {
          "address1": "7413 Edmonds Street",
          "address2": null,
          "address3": "",
          "city": "Burnaby",
          "country": "CA",
          "display_address": [
           "7413 Edmonds Street",
           "Burnaby, BC V3N 1B1",
           "Canada"
          ],
          "state": "BC",
          "zip_code": "V3N 1B1"
         },
         "name": "Na-Re Korean Kitchen",
         "phone": "+16045227009",
         "rating": 4.5,
         "review_count": 38,
         "transactions": [],
         "url": "https://www.yelp.com/biz/na-re-korean-kitchen-burnaby?adjust_creative=er8VerEY7YoTpPqoX4VVvg&utm_campaign=yelp_api_v3&utm_medium=api_v3_business_search&utm_source=er8VerEY7YoTpPqoX4VVvg"
        },
        {
         "alias": "masita-korean-cuisine-burnaby",
         "categories": [
          {
           "alias": "korean",
           "title": "Korean"
          }
         ],
         "coordinates": {
          "latitude": 49.218978345984,
          "longitude": -122.969008660356
         },
         "display_phone": "+1 604-553-9938",
         "distance": 2344.639705886011,
         "id": "91SOnUvy6wqLwCOAFTTz3w",
         "image_url": "https://s3-media3.fl.yelpcdn.com/bphoto/LLrUUgE6UfsvuqlZlhf9NQ/o.jpg",
         "is_closed": false,
         "location": {
          "address1": "6516 Kingsway",
          "address2": "",
          "address3": null,
          "city": "Burnaby",
          "country": "CA",
          "display_address": [
           "6516 Kingsway",
           "Burnaby, BC V5E 1C5",
           "Canada"
          ],
          "state": "BC",
          "zip_code": "V5E 1C5"
         },
         "name": "Masita Korean Cuisine",
         "phone": "+16045539938",
         "price": "$$",
         "rating": 4,
         "review_count": 143,
         "transactions": [],
         "url": "https://www.yelp.com/biz/masita-korean-cuisine-burnaby?adjust_creative=er8VerEY7YoTpPqoX4VVvg&utm_campaign=yelp_api_v3&utm_medium=api_v3_business_search&utm_source=er8VerEY7YoTpPqoX4VVvg"
        },
        {
         "alias": "stem-japanese-eatery-burnaby",
         "categories": [
          {
           "alias": "japanese",
           "title": "Japanese"
          }
         ],
         "coordinates": {
          "latitude": 49.2149649,
          "longitude": -122.9882104
         },
         "display_phone": "+1 604-434-0250",
         "distance": 3016.5070844247994,
         "id": "WCyc2DPB3WnF1amV12aPIQ",
         "image_url": "https://s3-media2.fl.yelpcdn.com/bphoto/NpnSl2prS-B1AVoJNqee3w/o.jpg",
         "is_closed": false,
         "location": {
          "address1": "5205 Rumble Street",
          "address2": "",
          "address3": null,
          "city": "Burnaby",
          "country": "CA",
          "display_address": [
           "5205 Rumble Street",
           "Burnaby, BC V5J 2B7",
           "Canada"
          ],
          "state": "BC",
          "zip_code": "V5J 2B7"
         },
         "name": "STEM Japanese Eatery",
         "phone": "+16044340250",
         "price": "$$",
         "rating": 4,
         "review_count": 93,
         "transactions": [],
         "url": "https://www.yelp.com/biz/stem-japanese-eatery-burnaby?adjust_creative=er8VerEY7YoTpPqoX4VVvg&utm_campaign=yelp_api_v3&utm_medium=api_v3_business_search&utm_source=er8VerEY7YoTpPqoX4VVvg"
        },
        {
         "alias": "sooda-korean-bbq-burnaby",
         "categories": [
          {
           "alias": "korean",
           "title": "Korean"
          },
          {
           "alias": "bbq",
           "title": "Barbeque"
          }
         ],
         "coordinates": {
          "latitude": 49.2666661,
          "longitude": -123.0044281
         },
         "display_phone": "+1 604-428-9227",
         "distance": 3805.5428142162546,
         "id": "ioS3wf6oIvVQlrTfOM56EQ",
         "image_url": "https://s3-media1.fl.yelpcdn.com/bphoto/Z1TGw0f6rFuOQErG51nLig/o.jpg",
         "is_closed": false,
         "location": {
          "address1": "4455 Lougheed Highway",
          "address2": "",
          "address3": null,
          "city": "Burnaby",
          "country": "CA",
          "display_address": [
           "4455 Lougheed Highway",
           "Burnaby, BC V5C 3Z2",
           "Canada"
          ],
          "state": "BC",
          "zip_code": "V5C 3Z2"
         },
         "name": "Sooda Korean BBQ",
         "phone": "+16044289227",
         "price": "$$",
         "rating": 4,
         "review_count": 70,
         "transactions": [],
         "url": "https://www.yelp.com/biz/sooda-korean-bbq-burnaby?adjust_creative=er8VerEY7YoTpPqoX4VVvg&utm_campaign=yelp_api_v3&utm_medium=api_v3_business_search&utm_source=er8VerEY7YoTpPqoX4VVvg"
        },
        {
         "alias": "88-palpal-noodle-house-burnaby",
         "categories": [
          {
           "alias": "korean",
           "title": "Korean"
          },
          {
           "alias": "chinese",
           "title": "Chinese"
          },
          {
           "alias": "asianfusion",
           "title": "Asian Fusion"
          }
         ],
         "coordinates": {
          "latitude": 49.22646,
          "longitude": -122.99195
         },
         "display_phone": "+1 604-558-4668",
         "distance": 2087.7594340663045,
         "id": "9sntXcjmEcujpXSnW18QpA",
         "image_url": "https://s3-media2.fl.yelpcdn.com/bphoto/wPf_z9tUtEn23JnvlRjeVw/o.jpg",
         "is_closed": false,
         "location": {
          "address1": "5021 Kingsway",
          "address2": "",
          "address3": null,
          "city": "Burnaby",
          "country": "CA",
          "display_address": [
           "5021 Kingsway",
           "Burnaby, BC V5H 4A5",
           "Canada"
          ],
          "state": "BC",
          "zip_code": "V5H 4A5"
         },
         "name": "88 PalPal Noodle House",
         "phone": "+16045584668",
         "price": "$$",
         "rating": 4.5,
         "review_count": 17,
         "transactions": [],
         "url": "https://www.yelp.com/biz/88-palpal-noodle-house-burnaby?adjust_creative=er8VerEY7YoTpPqoX4VVvg&utm_campaign=yelp_api_v3&utm_medium=api_v3_business_search&utm_source=er8VerEY7YoTpPqoX4VVvg"
        },
        {
         "alias": "chicko-chicken-korean-style-burnaby",
         "categories": [
          {
           "alias": "korean",
           "title": "Korean"
          },
          {
           "alias": "chickenshop",
           "title": "Chicken Shop"
          }
         ],
         "coordinates": {
          "latitude": 49.2191861,
          "longitude": -122.9505083
         },
         "display_phone": "+1 604-553-6144",
         "distance": 2766.9953090281856,
         "id": "D_TfocCVCmMKm0xPjk3Z4Q",
         "image_url": "https://s3-media1.fl.yelpcdn.com/bphoto/_yBtv6gfmr1pYDQvPMRPfA/o.jpg",
         "is_closed": false,
         "location": {
          "address1": "7343 Edmonds St",
          "address2": "",
          "address3": null,
          "city": "Burnaby",
          "country": "CA",
          "display_address": [
           "7343 Edmonds St",
           "Burnaby, BC V3N 4P2",
           "Canada"
          ],
          "state": "BC",
          "zip_code": "V3N 4P2"
         },
         "name": "Chicko Chicken Korean Style",
         "phone": "+16045536144",
         "rating": 4.5,
         "review_count": 40,
         "transactions": [],
         "url": "https://www.yelp.com/biz/chicko-chicken-korean-style-burnaby?adjust_creative=er8VerEY7YoTpPqoX4VVvg&utm_campaign=yelp_api_v3&utm_medium=api_v3_business_search&utm_source=er8VerEY7YoTpPqoX4VVvg"
        },
        {
         "alias": "aroma-eatery-burnaby",
         "categories": [
          {
           "alias": "taiwanese",
           "title": "Taiwanese"
          },
          {
           "alias": "chinese",
           "title": "Chinese"
          }
         ],
         "coordinates": {
          "latitude": 49.228417734136464,
          "longitude": -123.00491628393937
         },
         "display_phone": "+1 604-558-3958",
         "distance": 2711.411509873019,
         "id": "wZR7OxJJ3y6VDRm8iEu9_w",
         "image_url": "https://s3-media3.fl.yelpcdn.com/bphoto/NwWpfBBppofd3-9RUzJxrA/o.jpg",
         "is_closed": false,
         "location": {
          "address1": "1011-4500 Kingsway",
          "address2": "",
          "address3": null,
          "city": "Burnaby",
          "country": "CA",
          "display_address": [
           "1011-4500 Kingsway",
           "Burnaby, BC V5H 2A9",
           "Canada"
          ],
          "state": "BC",
          "zip_code": "V5H 2A9"
         },
         "name": "Aroma Eatery",
         "phone": "+16045583958",
         "rating": 4.5,
         "review_count": 11,
         "transactions": [],
         "url": "https://www.yelp.com/biz/aroma-eatery-burnaby?adjust_creative=er8VerEY7YoTpPqoX4VVvg&utm_campaign=yelp_api_v3&utm_medium=api_v3_business_search&utm_source=er8VerEY7YoTpPqoX4VVvg"
        },
        {
         "alias": "pearl-house-burnaby-burnaby",
         "categories": [
          {
           "alias": "taiwanese",
           "title": "Taiwanese"
          }
         ],
         "coordinates": {
          "latitude": 49.2234081267721,
          "longitude": -122.942928826824
         },
         "display_phone": "+1 604-553-3177",
         "distance": 2803.0913792496135,
         "id": "u-q3wex6rjHT9WH9LejTsg",
         "image_url": "https://s3-media4.fl.yelpcdn.com/bphoto/yWt3sUltkVRiTAwS2blC5w/o.jpg",
         "is_closed": false,
         "location": {
          "address1": "7625 Edmonds Street",
          "address2": "",
          "address3": null,
          "city": "Burnaby",
          "country": "CA",
          "display_address": [
           "7625 Edmonds Street",
           "Burnaby, BC V3N 1B6",
           "Canada"
          ],
          "state": "BC",
          "zip_code": "V3N 1B6"
         },
         "name": "Pearl House Burnaby",
         "phone": "+16045533177",
         "rating": 4.5,
         "review_count": 11,
         "transactions": [],
         "url": "https://www.yelp.com/biz/pearl-house-burnaby-burnaby?adjust_creative=er8VerEY7YoTpPqoX4VVvg&utm_campaign=yelp_api_v3&utm_medium=api_v3_business_search&utm_source=er8VerEY7YoTpPqoX4VVvg"
        },
        {
         "alias": "takara-sushi-burnaby-3",
         "categories": [
          {
           "alias": "sushi",
           "title": "Sushi Bars"
          },
          {
           "alias": "japanese",
           "title": "Japanese"
          }
         ],
         "coordinates": {
          "latitude": 49.2545851,
          "longitude": -123.0220016
         },
         "display_phone": "+1 604-439-0026",
         "distance": 4006.5307719315906,
         "id": "Znye-DqtLoBzeuM4A5n3jg",
         "image_url": "https://s3-media3.fl.yelpcdn.com/bphoto/mNNvsS5LcJdA2a-7DVVVZw/o.jpg",
         "is_closed": false,
         "location": {
          "address1": "3726 Canada Way",
          "address2": null,
          "address3": "",
          "city": "Burnaby",
          "country": "CA",
          "display_address": [
           "3726 Canada Way",
           "Burnaby, BC V5G 1G4",
           "Canada"
          ],
          "state": "BC",
          "zip_code": "V5G 1G4"
         },
         "name": "Takara Sushi",
         "phone": "+16044390026",
         "price": "$$",
         "rating": 4.5,
         "review_count": 66,
         "transactions": [],
         "url": "https://www.yelp.com/biz/takara-sushi-burnaby-3?adjust_creative=er8VerEY7YoTpPqoX4VVvg&utm_campaign=yelp_api_v3&utm_medium=api_v3_business_search&utm_source=er8VerEY7YoTpPqoX4VVvg"
        },
        {
         "alias": "wild-thyme-new-westminster",
         "categories": [
          {
           "alias": "lebanese",
           "title": "Lebanese"
          }
         ],
         "coordinates": {
          "latitude": 49.2092291,
          "longitude": -122.932308
         },
         "display_phone": "+1 604-276-8010",
         "distance": 4478.243369352014,
         "id": "rmGsHhx-Dn7z9i59VkIkjg",
         "image_url": "https://s3-media2.fl.yelpcdn.com/bphoto/pJouL7XlCQi_M0bJPFE4qQ/o.jpg",
         "is_closed": false,
         "location": {
          "address1": "705 12th Street",
          "address2": "",
          "address3": null,
          "city": "New Westminster",
          "country": "CA",
          "display_address": [
           "705 12th Street",
           "New Westminster, BC V3M 4J7",
           "Canada"
          ],
          "state": "BC",
          "zip_code": "V3M 4J7"
         },
         "name": "Wild Thyme",
         "phone": "+16042768010",
         "price": "$$",
         "rating": 4.5,
         "review_count": 311,
         "transactions": [],
         "url": "https://www.yelp.com/biz/wild-thyme-new-westminster?adjust_creative=er8VerEY7YoTpPqoX4VVvg&utm_campaign=yelp_api_v3&utm_medium=api_v3_business_search&utm_source=er8VerEY7YoTpPqoX4VVvg"
        },
        {
         "alias": "the-viet-noodle-guy-burnaby",
         "categories": [
          {
           "alias": "vietnamese",
           "title": "Vietnamese"
          }
         ],
         "coordinates": {
          "latitude": 49.267235948997,
          "longitude": -123.0057932809
         },
         "display_phone": "+1 604-336-4888",
         "distance": 3898.1396455489444,
         "id": "24gPFeyphGmg_pxiMT3eGA",
         "image_url": "https://s3-media1.fl.yelpcdn.com/bphoto/ZhZvyQcKCqvCNC4dn2WbKA/o.jpg",
         "is_closed": false,
         "location": {
          "address1": "1902 Rosser Avenue",
          "address2": "",
          "address3": null,
          "city": "Burnaby",
          "country": "CA",
          "display_address": [
           "1902 Rosser Avenue",
           "Burnaby, BC V5C 3Z2",
           "Canada"
          ],
          "state": "BC",
          "zip_code": "V5C 3Z2"
         },
         "name": "The Viet Noodle Guy",
         "phone": "+16043364888",
         "price": "$$",
         "rating": 4,
         "review_count": 150,
         "transactions": [],
         "url": "https://www.yelp.com/biz/the-viet-noodle-guy-burnaby?adjust_creative=er8VerEY7YoTpPqoX4VVvg&utm_campaign=yelp_api_v3&utm_medium=api_v3_business_search&utm_source=er8VerEY7YoTpPqoX4VVvg"
        },
        {
         "alias": "henrys-kitchen-pasta-and-grill-port-moody-2",
         "categories": [
          {
           "alias": "italian",
           "title": "Italian"
          },
          {
           "alias": "french",
           "title": "French"
          }
         ],
         "coordinates": {
          "latitude": 49.27694,
          "longitude": -122.85777
         },
         "display_phone": "+1 778-355-8787",
         "distance": 9255.706662646235,
         "id": "EC4hb3ie0NBoyw7zgrsnmA",
         "image_url": "https://s3-media1.fl.yelpcdn.com/bphoto/6CWquGPECvg-tory3XhYyg/o.jpg",
         "is_closed": false,
         "location": {
          "address1": "2410 Saint Johns Street",
          "address2": "",
          "address3": null,
          "city": "Port Moody",
          "country": "CA",
          "display_address": [
           "2410 Saint Johns Street",
           "Port Moody, BC V3H 2B1",
           "Canada"
          ],
          "state": "BC",
          "zip_code": "V3H 2B1"
         },
         "name": "Henry's Kitchen Pasta & Grill",
         "phone": "+17783558787",
         "price": "$$",
         "rating": 5,
         "review_count": 46,
         "transactions": [],
         "url": "https://www.yelp.com/biz/henrys-kitchen-pasta-and-grill-port-moody-2?adjust_creative=er8VerEY7YoTpPqoX4VVvg&utm_campaign=yelp_api_v3&utm_medium=api_v3_business_search&utm_source=er8VerEY7YoTpPqoX4VVvg"
        },
        {
         "alias": "atlas-steak-fish-burnaby",
         "categories": [
          {
           "alias": "steak",
           "title": "Steakhouses"
          },
          {
           "alias": "seafood",
           "title": "Seafood"
          },
          {
           "alias": "bars",
           "title": "Bars"
          }
         ],
         "coordinates": {
          "latitude": 49.2566565,
          "longitude": -123.0069826
         },
         "display_phone": "+1 604-453-0776",
         "distance": 3143.007127863199,
         "id": "C3u20h3WCXp5Ebkx70unQA",
         "image_url": "https://s3-media2.fl.yelpcdn.com/bphoto/KOYyqgsPxVVMdQArdveXWg/o.jpg",
         "is_closed": false,
         "location": {
          "address1": "4331 Dominion Street",
          "address2": null,
          "address3": "",
          "city": "Burnaby",
          "country": "CA",
          "display_address": [
           "4331 Dominion Street",
           "Burnaby, BC V5G 1C7",
           "Canada"
          ],
          "state": "BC",
          "zip_code": "V5G 1C7"
         },
         "name": "Atlas Steak + Fish",
         "phone": "+16044530776",
         "price": "$$$",
         "rating": 4,
         "review_count": 127,
         "transactions": [],
         "url": "https://www.yelp.com/biz/atlas-steak-fish-burnaby?adjust_creative=er8VerEY7YoTpPqoX4VVvg&utm_campaign=yelp_api_v3&utm_medium=api_v3_business_search&utm_source=er8VerEY7YoTpPqoX4VVvg"
        },
        {
         "alias": "marutama-ramen-burnaby",
         "categories": [
          {
           "alias": "ramen",
           "title": "Ramen"
          }
         ],
         "coordinates": {
          "latitude": 49.2244919,
          "longitude": -122.9878563
         },
         "display_phone": "+1 604-340-3343",
         "distance": 2072.8923863284467,
         "id": "Aft--QYr3Ba5Ceudg147mQ",
         "image_url": "https://s3-media2.fl.yelpcdn.com/bphoto/v8ZQG6DW34EyKonQzatNOQ/o.jpg",
         "is_closed": false,
         "location": {
          "address1": "5278 Kingsway",
          "address2": "",
          "address3": null,
          "city": "Burnaby",
          "country": "CA",
          "display_address": [
           "5278 Kingsway",
           "Burnaby, BC V5H 2E9",
           "Canada"
          ],
          "state": "BC",
          "zip_code": "V5H 2E9"
         },
         "name": "Marutama Ramen",
         "phone": "+16043403343",
         "price": "$$",
         "rating": 4,
         "review_count": 74,
         "transactions": [],
         "url": "https://www.yelp.com/biz/marutama-ramen-burnaby?adjust_creative=er8VerEY7YoTpPqoX4VVvg&utm_campaign=yelp_api_v3&utm_medium=api_v3_business_search&utm_source=er8VerEY7YoTpPqoX4VVvg"
        },
        {
         "alias": "time-and-place-burnaby",
         "categories": [
          {
           "alias": "bars",
           "title": "Bars"
          },
          {
           "alias": "newcanadian",
           "title": "Canadian (New)"
          }
         ],
         "coordinates": {
          "latitude": 49.22869,
          "longitude": -123.004102
         },
         "display_phone": "+1 604-639-3756",
         "distance": 2671.060149574304,
         "id": "wbowOyRiuWPNk2c47pXJCw",
         "image_url": "https://s3-media4.fl.yelpcdn.com/bphoto/2vOJ0zX0Op-rN_coiMr7sA/o.jpg",
         "is_closed": false,
         "location": {
          "address1": "6083 McKay Avenue",
          "address2": null,
          "address3": "",
          "city": "Burnaby",
          "country": "CA",
          "display_address": [
           "6083 McKay Avenue",
           "Burnaby, BC V5H 2W7",
           "Canada"
          ],
          "state": "BC",
          "zip_code": "V5H 2W7"
         },
         "name": "Time & Place",
         "phone": "+16046393756",
         "rating": 4,
         "review_count": 3,
         "transactions": [],
         "url": "https://www.yelp.com/biz/time-and-place-burnaby?adjust_creative=er8VerEY7YoTpPqoX4VVvg&utm_campaign=yelp_api_v3&utm_medium=api_v3_business_search&utm_source=er8VerEY7YoTpPqoX4VVvg"
        },
        {
         "alias": "hi-genki-burnaby",
         "categories": [
          {
           "alias": "japanese",
           "title": "Japanese"
          },
          {
           "alias": "asianfusion",
           "title": "Asian Fusion"
          }
         ],
         "coordinates": {
          "latitude": 49.21755,
          "longitude": -122.96512
         },
         "display_phone": "+1 604-777-0533",
         "distance": 2557.8282335721556,
         "id": "iUUwWMK-yqM2J3Nput5CAw",
         "image_url": "https://s3-media3.fl.yelpcdn.com/bphoto/dvuLOyxNrhKhdXDV3GuwDQ/o.jpg",
         "is_closed": false,
         "location": {
          "address1": "6680 Southoaks Crescent",
          "address2": "",
          "address3": "",
          "city": "Burnaby",
          "country": "CA",
          "display_address": [
           "6680 Southoaks Crescent",
           "Burnaby, BC V5E 4N3",
           "Canada"
          ],
          "state": "BC",
          "zip_code": "V5E 4N3"
         },
         "name": "Hi Genki",
         "phone": "+16047770533",
         "price": "$$",
         "rating": 4,
         "review_count": 178,
         "transactions": [],
         "url": "https://www.yelp.com/biz/hi-genki-burnaby?adjust_creative=er8VerEY7YoTpPqoX4VVvg&utm_campaign=yelp_api_v3&utm_medium=api_v3_business_search&utm_source=er8VerEY7YoTpPqoX4VVvg"
        },
        {
         "alias": "green-leaf-cafe-burnaby-5",
         "categories": [
          {
           "alias": "sushi",
           "title": "Sushi Bars"
          }
         ],
         "coordinates": {
          "latitude": 49.2533051,
          "longitude": -122.8982928
         },
         "display_phone": "+1 604-444-9802",
         "distance": 5545.683896717747,
         "id": "i7nUiW7bxJXV0XS7R-RahQ",
         "image_url": "https://s3-media2.fl.yelpcdn.com/bphoto/3GveXHR1YHlxfhhF7c-Z9A/o.jpg",
         "is_closed": false,
         "location": {
          "address1": "9604 Cameron Street",
          "address2": null,
          "address3": "",
          "city": "Burnaby",
          "country": "CA",
          "display_address": [
           "9604 Cameron Street",
           "Burnaby, BC V3J 1M2",
           "Canada"
          ],
          "state": "BC",
          "zip_code": "V3J 1M2"
         },
         "name": "Green Leaf Cafe",
         "phone": "+16044449802",
         "price": "$$",
         "rating": 4,
         "review_count": 194,
         "transactions": [],
         "url": "https://www.yelp.com/biz/green-leaf-cafe-burnaby-5?adjust_creative=er8VerEY7YoTpPqoX4VVvg&utm_campaign=yelp_api_v3&utm_medium=api_v3_business_search&utm_source=er8VerEY7YoTpPqoX4VVvg"
        },
        {
         "alias": "wonderffle-burnaby-3",
         "categories": [
          {
           "alias": "waffles",
           "title": "Waffles"
          },
          {
           "alias": "desserts",
           "title": "Desserts"
          },
          {
           "alias": "coffee",
           "title": "Coffee & Tea"
          }
         ],
         "coordinates": {
          "latitude": 49.265790329385325,
          "longitude": -122.98951088662658
         },
         "display_phone": "+1 778-899-4719",
         "distance": 3138.738523296878,
         "id": "QpFwCt9536fXHIz2FMv9Lw",
         "image_url": "https://s3-media4.fl.yelpcdn.com/bphoto/q0dkx2L0dRPxmBoqOXFnkA/o.jpg",
         "is_closed": false,
         "location": {
          "address1": "5063 Anola Drive",
          "address2": "",
          "address3": "",
          "city": "Burnaby",
          "country": "CA",
          "display_address": [
           "5063 Anola Drive",
           "Burnaby, BC V5B 4V7",
           "Canada"
          ],
          "state": "BC",
          "zip_code": "V5B 4V7"
         },
         "name": "Wonderffle",
         "phone": "+17788994719",
         "rating": 5,
         "review_count": 8,
         "transactions": [],
         "url": "https://www.yelp.com/biz/wonderffle-burnaby-3?adjust_creative=er8VerEY7YoTpPqoX4VVvg&utm_campaign=yelp_api_v3&utm_medium=api_v3_business_search&utm_source=er8VerEY7YoTpPqoX4VVvg"
        },
        {
         "alias": "gokudo-shabu-shabu-burnaby-burnaby",
         "categories": [
          {
           "alias": "hotpot",
           "title": "Hot Pot"
          }
         ],
         "coordinates": {
          "latitude": 49.23136,
          "longitude": -123.00955
         },
         "display_phone": "+1 604-438-5598",
         "distance": 2875.511601086771,
         "id": "VbUqjduasaOGjudjmc_dQw",
         "image_url": "https://s3-media2.fl.yelpcdn.com/bphoto/2SQSN5y7eq5jE8m_ngGV8A/o.jpg",
         "is_closed": false,
         "location": {
          "address1": "5-4250 Kingsway",
          "address2": null,
          "address3": "",
          "city": "Burnaby",
          "country": "CA",
          "display_address": [
           "5-4250 Kingsway",
           "Burnaby, BC V5H 4T7",
           "Canada"
          ],
          "state": "BC",
          "zip_code": "V5H 4T7"
         },
         "name": "Gokudo Shabu Shabu-Burnaby",
         "phone": "+16044385598",
         "rating": 4,
         "review_count": 44,
         "transactions": [],
         "url": "https://www.yelp.com/biz/gokudo-shabu-shabu-burnaby-burnaby?adjust_creative=er8VerEY7YoTpPqoX4VVvg&utm_campaign=yelp_api_v3&utm_medium=api_v3_business_search&utm_source=er8VerEY7YoTpPqoX4VVvg"
        },
        {
         "alias": "shanghai-dimsum-house-burnaby-2",
         "categories": [
          {
           "alias": "dimsum",
           "title": "Dim Sum"
          },
          {
           "alias": "dumplings",
           "title": "Dumplings"
          }
         ],
         "coordinates": {
          "latitude": 49.2294464,
          "longitude": -123.0044077
         },
         "display_phone": "+1 604-909-6688",
         "distance": 2625.9933310823612,
         "id": "Tdld3HghFd_PwivyA7OYSg",
         "image_url": "https://s3-media1.fl.yelpcdn.com/bphoto/gg-UjYRBWNH8o8yk9v5OFg/o.jpg",
         "is_closed": false,
         "location": {
          "address1": "4500 Kingsway",
          "address2": "",
          "address3": "",
          "city": "Burnaby",
          "country": "CA",
          "display_address": [
           "4500 Kingsway",
           "Burnaby, BC V5H 4V2",
           "Canada"
          ],
          "state": "BC",
          "zip_code": "V5H 4V2"
         },
         "name": "Shanghai Dimsum House",
         "phone": "+16049096688",
         "price": "$",
         "rating": 4,
         "review_count": 119,
         "transactions": [],
         "url": "https://www.yelp.com/biz/shanghai-dimsum-house-burnaby-2?adjust_creative=er8VerEY7YoTpPqoX4VVvg&utm_campaign=yelp_api_v3&utm_medium=api_v3_business_search&utm_source=er8VerEY7YoTpPqoX4VVvg"
        },
        {
         "alias": "the-gray-olive-cafeteria-burnaby",
         "categories": [
          {
           "alias": "breakfast_brunch",
           "title": "Breakfast & Brunch"
          },
          {
           "alias": "coffee",
           "title": "Coffee & Tea"
          },
          {
           "alias": "sandwiches",
           "title": "Sandwiches"
          }
         ],
         "coordinates": {
          "latitude": 49.2807699,
          "longitude": -123.01164
         },
         "display_phone": "+1 604-566-9664",
         "distance": 5385.7896185722375,
         "id": "vRzIRuOmxoqz0uSIDSYdfw",
         "image_url": "https://s3-media3.fl.yelpcdn.com/bphoto/dWNM6Nf7k8AS9gaIMcTz3A/o.jpg",
         "is_closed": false,
         "location": {
          "address1": "4190 Hastings Street",
          "address2": null,
          "address3": "",
          "city": "Burnaby",
          "country": "CA",
          "display_address": [
           "4190 Hastings Street",
           "Burnaby, BC V5C 2J4",
           "Canada"
          ],
          "state": "BC",
          "zip_code": "V5C 2J4"
         },
         "name": "The Gray Olive Cafeteria",
         "phone": "+16045669664",
         "price": "$$",
         "rating": 4,
         "review_count": 189,
         "transactions": [],
         "url": "https://www.yelp.com/biz/the-gray-olive-cafeteria-burnaby?adjust_creative=er8VerEY7YoTpPqoX4VVvg&utm_campaign=yelp_api_v3&utm_medium=api_v3_business_search&utm_source=er8VerEY7YoTpPqoX4VVvg"
        },
        {
         "alias": "fat-boy-kitchen-vancouver",
         "categories": [
          {
           "alias": "hkcafe",
           "title": "Hong Kong Style Cafe"
          }
         ],
         "coordinates": {
          "latitude": 49.2209419,
          "longitude": -123.0662599
         },
         "display_phone": "+1 604-321-8006",
         "distance": 7161.916026080693,
         "id": "lbWbqHHEXqWjb8mTVAN8WA",
         "image_url": "https://s3-media3.fl.yelpcdn.com/bphoto/yu5_pRvWe9RzqpDecJNT-Q/o.jpg",
         "is_closed": false,
         "location": {
          "address1": "6943 Victoria Drive",
          "address2": "",
          "address3": null,
          "city": "Vancouver",
          "country": "CA",
          "display_address": [
           "6943 Victoria Drive",
           "Vancouver, BC V5P 3Y7",
           "Canada"
          ],
          "state": "BC",
          "zip_code": "V5P 3Y7"
         },
         "name": "Fat Boy Kitchen",
         "phone": "+16043218006",
         "rating": 4.5,
         "review_count": 10,
         "transactions": [],
         "url": "https://www.yelp.com/biz/fat-boy-kitchen-vancouver?adjust_creative=er8VerEY7YoTpPqoX4VVvg&utm_campaign=yelp_api_v3&utm_medium=api_v3_business_search&utm_source=er8VerEY7YoTpPqoX4VVvg"
        },
        {
         "alias": "la-forchetta-burnaby",
         "categories": [
          {
           "alias": "italian",
           "title": "Italian"
          }
         ],
         "coordinates": {
          "latitude": 49.2804691698666,
          "longitude": -122.982101999223
         },
         "display_phone": "+1 604-294-1121",
         "distance": 4562.036262236531,
         "id": "t68Y5XIHYFyaAgBDzJ884A",
         "image_url": "https://s3-media1.fl.yelpcdn.com/bphoto/osf9MJeTFOoZRMcsU5GeCg/o.jpg",
         "is_closed": false,
         "location": {
          "address1": "5601 Hastings Street",
          "address2": "",
          "address3": null,
          "city": "Burnaby",
          "country": "CA",
          "display_address": [
           "5601 Hastings Street",
           "Burnaby, BC V5B 1R5",
           "Canada"
          ],
          "state": "BC",
          "zip_code": "V5B 1R5"
         },
         "name": "La Forchetta",
         "phone": "+16042941121",
         "rating": 4,
         "review_count": 17,
         "transactions": [],
         "url": "https://www.yelp.com/biz/la-forchetta-burnaby?adjust_creative=er8VerEY7YoTpPqoX4VVvg&utm_campaign=yelp_api_v3&utm_medium=api_v3_business_search&utm_source=er8VerEY7YoTpPqoX4VVvg"
        },
        {
         "alias": "don-oso-burnaby",
         "categories": [
          {
           "alias": "mexican",
           "title": "Mexican"
          }
         ],
         "coordinates": {
          "latitude": 49.281306,
          "longitude": -123.0051109
         },
         "display_phone": "+1 604-423-5525",
         "distance": 5175.123425767905,
         "id": "VCzzjdi1FU7gPOQsSReSXw",
         "image_url": "https://s3-media3.fl.yelpcdn.com/bphoto/xEXKHY4p0FwGY6oQ3OVqbw/o.jpg",
         "is_closed": false,
         "location": {
          "address1": "4421 Hastings St",
          "address2": "",
          "address3": null,
          "city": "Burnaby",
          "country": "CA",
          "display_address": [
           "4421 Hastings St",
           "Burnaby, BC V5C 2K1",
           "Canada"
          ],
          "state": "BC",
          "zip_code": "V5C 2K1"
         },
         "name": "Don Oso",
         "phone": "+16044235525",
         "rating": 4.5,
         "review_count": 14,
         "transactions": [],
         "url": "https://www.yelp.com/biz/don-oso-burnaby?adjust_creative=er8VerEY7YoTpPqoX4VVvg&utm_campaign=yelp_api_v3&utm_medium=api_v3_business_search&utm_source=er8VerEY7YoTpPqoX4VVvg"
        },
        {
         "alias": "white-lotus-cafe-burnaby",
         "categories": [
          {
           "alias": "vietnamese",
           "title": "Vietnamese"
          }
         ],
         "coordinates": {
          "latitude": 49.2656111504516,
          "longitude": -122.97883607144
         },
         "display_phone": "+1 604-428-7522",
         "distance": 2893.4479463104844,
         "id": "O2WwMsEgDpD8VYmUri3DPQ",
         "image_url": "https://s3-media1.fl.yelpcdn.com/bphoto/8lSIJ25YEwI0p6xMjQxsGQ/o.jpg",
         "is_closed": false,
         "location": {
          "address1": "1-5901 Broadway",
          "address2": "",
          "address3": null,
          "city": "Burnaby",
          "country": "CA",
          "display_address": [
           "1-5901 Broadway",
           "Burnaby, BC V5B 2Y1",
           "Canada"
          ],
          "state": "BC",
          "zip_code": "V5B 2Y1"
         },
         "name": "White Lotus Cafe",
         "phone": "+16044287522",
         "price": "$$",
         "rating": 4.5,
         "review_count": 70,
         "transactions": [],
         "url": "https://www.yelp.com/biz/white-lotus-cafe-burnaby?adjust_creative=er8VerEY7YoTpPqoX4VVvg&utm_campaign=yelp_api_v3&utm_medium=api_v3_business_search&utm_source=er8VerEY7YoTpPqoX4VVvg"
        },
        {
         "alias": "acqua-restaurant-and-bar-burnaby-2",
         "categories": [
          {
           "alias": "newcanadian",
           "title": "Canadian (New)"
          },
          {
           "alias": "bars",
           "title": "Bars"
          },
          {
           "alias": "seafood",
           "title": "Seafood"
          }
         ],
         "coordinates": {
          "latitude": 49.2665315,
          "longitude": -123.0105296
         },
         "display_phone": "+1 604-297-2118",
         "distance": 4160.826618316775,
         "id": "WyXO9hkBnh6oRjOlDAVxQw",
         "image_url": "https://s3-media2.fl.yelpcdn.com/bphoto/qBBTnDN0tIgaAVP03osgAg/o.jpg",
         "is_closed": false,
         "location": {
          "address1": "4201 Lougheed Hwy",
          "address2": "",
          "address3": null,
          "city": "Burnaby",
          "country": "CA",
          "display_address": [
           "4201 Lougheed Hwy",
           "Burnaby, BC V5C 3Y6",
           "Canada"
          ],
          "state": "BC",
          "zip_code": "V5C 3Y6"
         },
         "name": "Acqua Restaurant & Bar",
         "phone": "+16042972118",
         "rating": 4,
         "review_count": 10,
         "transactions": [],
         "url": "https://www.yelp.com/biz/acqua-restaurant-and-bar-burnaby-2?adjust_creative=er8VerEY7YoTpPqoX4VVvg&utm_campaign=yelp_api_v3&utm_medium=api_v3_business_search&utm_source=er8VerEY7YoTpPqoX4VVvg"
        },
        {
         "alias": "tenen-burnaby",
         "categories": [
          {
           "alias": "bbq",
           "title": "Barbeque"
          },
          {
           "alias": "modern_european",
           "title": "Modern European"
          },
          {
           "alias": "soup",
           "title": "Soup"
          }
         ],
         "coordinates": {
          "latitude": 49.21549,
          "longitude": -122.98895
         },
         "display_phone": "+1 604-336-6665",
         "distance": 2993.655621558843,
         "id": "c-WPBWkQ82pcO7eTkj-5MA",
         "image_url": "https://s3-media3.fl.yelpcdn.com/bphoto/PHZg1rsYsCeAOBAMY-1SWw/o.jpg",
         "is_closed": false,
         "location": {
          "address1": "7569 Royal Oak Avenue",
          "address2": "",
          "address3": "",
          "city": "Burnaby",
          "country": "CA",
          "display_address": [
           "7569 Royal Oak Avenue",
           "Burnaby, BC V5J 4J8",
           "Canada"
          ],
          "state": "BC",
          "zip_code": "V5J 4J8"
         },
         "name": "Tenen",
         "phone": "+16043366665",
         "price": "$$",
         "rating": 4,
         "review_count": 56,
         "transactions": [],
         "url": "https://www.yelp.com/biz/tenen-burnaby?adjust_creative=er8VerEY7YoTpPqoX4VVvg&utm_campaign=yelp_api_v3&utm_medium=api_v3_business_search&utm_source=er8VerEY7YoTpPqoX4VVvg"
        },
        {
         "alias": "the-dolar-shop-burnaby-burnaby-4",
         "categories": [
          {
           "alias": "hotpot",
           "title": "Hot Pot"
          },
          {
           "alias": "chinese",
           "title": "Chinese"
          },
          {
           "alias": "asianfusion",
           "title": "Asian Fusion"
          }
         ],
         "coordinates": {
          "latitude": 49.2277884925998,
          "longitude": -123.00316795158997
         },
         "display_phone": "+1 604-558-1606",
         "distance": 2635.6046103046265,
         "id": "eYuaH9z_bCDt5Kx7jGEacQ",
         "image_url": "https://s3-media4.fl.yelpcdn.com/bphoto/I9QEG6_2AH4ZoGs_AMZcNg/o.jpg",
         "is_closed": false,
         "location": {
          "address1": "6078 Silver Dr",
          "address2": null,
          "address3": "",
          "city": "Burnaby",
          "country": "CA",
          "display_address": [
           "6078 Silver Dr",
           "Burnaby, BC V5H 0H5",
           "Canada"
          ],
          "state": "BC",
          "zip_code": "V5H 0H5"
         },
         "name": "The Dolar Shop - Burnaby",
         "phone": "+16045581606",
         "price": "$$$$",
         "rating": 4,
         "review_count": 24,
         "transactions": [
          "restaurant_reservation"
         ],
         "url": "https://www.yelp.com/biz/the-dolar-shop-burnaby-burnaby-4?adjust_creative=er8VerEY7YoTpPqoX4VVvg&utm_campaign=yelp_api_v3&utm_medium=api_v3_business_search&utm_source=er8VerEY7YoTpPqoX4VVvg"
        },
        {
         "alias": "siam-le-bien-burnaby-3",
         "categories": [
          {
           "alias": "thai",
           "title": "Thai"
          }
         ],
         "coordinates": {
          "latitude": 49.2813,
          "longitude": -123.01068
         },
         "display_phone": "+1 604-293-1343",
         "distance": 5375.04496633772,
         "id": "i0RzLURwKzvNeac1X9ZN5w",
         "image_url": "https://s3-media1.fl.yelpcdn.com/bphoto/ACYJ63qfUGvZG6SWqireAg/o.jpg",
         "is_closed": false,
         "location": {
          "address1": "4217 Hastings St",
          "address2": "",
          "address3": null,
          "city": "Burnaby",
          "country": "CA",
          "display_address": [
           "4217 Hastings St",
           "Burnaby, BC V5C 2J5",
           "Canada"
          ],
          "state": "BC",
          "zip_code": "V5C 2J5"
         },
         "name": "Siam Le Bien",
         "phone": "+16042931343",
         "price": "$$",
         "rating": 4.5,
         "review_count": 47,
         "transactions": [],
         "url": "https://www.yelp.com/biz/siam-le-bien-burnaby-3?adjust_creative=er8VerEY7YoTpPqoX4VVvg&utm_campaign=yelp_api_v3&utm_medium=api_v3_business_search&utm_source=er8VerEY7YoTpPqoX4VVvg"
        },
        {
         "alias": "lhy-thai-restaurant-burnaby",
         "categories": [
          {
           "alias": "thai",
           "title": "Thai"
          }
         ],
         "coordinates": {
          "latitude": 49.2194941,
          "longitude": -122.9499264
         },
         "display_phone": "+1 604-526-8085",
         "distance": 2785.8629457305265,
         "id": "-3ZdiZIoGLrWvv3NK8-tsg",
         "image_url": "https://s3-media3.fl.yelpcdn.com/bphoto/nL6M20k736r_TqMZjhiu6Q/o.jpg",
         "is_closed": false,
         "location": {
          "address1": "7357 Edmonds Street",
          "address2": "",
          "address3": "",
          "city": "Burnaby",
          "country": "CA",
          "display_address": [
           "7357 Edmonds Street",
           "Burnaby, BC V3N 1A9",
           "Canada"
          ],
          "state": "BC",
          "zip_code": "V3N 1A9"
         },
         "name": "Lhy Thai Restaurant",
         "phone": "+16045268085",
         "price": "$$",
         "rating": 4,
         "review_count": 53,
         "transactions": [],
         "url": "https://www.yelp.com/biz/lhy-thai-restaurant-burnaby?adjust_creative=er8VerEY7YoTpPqoX4VVvg&utm_campaign=yelp_api_v3&utm_medium=api_v3_business_search&utm_source=er8VerEY7YoTpPqoX4VVvg"
        },
        {
         "alias": "bun-rieu-phuong-nam-burnaby-2",
         "categories": [
          {
           "alias": "vietnamese",
           "title": "Vietnamese"
          }
         ],
         "coordinates": {
          "latitude": 49.220189320893724,
          "longitude": -122.94861696660519
         },
         "display_phone": "+1 604-522-0500",
         "distance": 2780.1264396303086,
         "id": "AAuSMdq1IYtrR3gtg0GA-g",
         "image_url": "https://s3-media4.fl.yelpcdn.com/bphoto/IlZXwxa-jdXPTjBLzqDGaQ/o.jpg",
         "is_closed": false,
         "location": {
          "address1": "7405 Edmonds Street",
          "address2": null,
          "address3": null,
          "city": "Burnaby",
          "country": "CA",
          "display_address": [
           "7405 Edmonds Street",
           "Burnaby, BC V3N 1B1",
           "Canada"
          ],
          "state": "BC",
          "zip_code": "V3N 1B1"
         },
         "name": "Bun Rieu Phuong Nam",
         "phone": "+16045220500",
         "price": "$$",
         "rating": 4,
         "review_count": 12,
         "transactions": [],
         "url": "https://www.yelp.com/biz/bun-rieu-phuong-nam-burnaby-2?adjust_creative=er8VerEY7YoTpPqoX4VVvg&utm_campaign=yelp_api_v3&utm_medium=api_v3_business_search&utm_source=er8VerEY7YoTpPqoX4VVvg"
        },
        {
         "alias": "astros-kitchen-burnaby",
         "categories": [
          {
           "alias": "burgers",
           "title": "Burgers"
          }
         ],
         "coordinates": {
          "latitude": 49.25883,
          "longitude": -122.982748
         },
         "display_phone": "+1 604-299-6077",
         "distance": 2236.591350086072,
         "id": "NFfe18IdC24H0ILkDinfLg",
         "image_url": "https://s3-media2.fl.yelpcdn.com/bphoto/4eTqrMkbDP3W7pBcbrS5QQ/o.jpg",
         "is_closed": false,
         "location": {
          "address1": "2830 Douglas Road",
          "address2": "",
          "address3": "",
          "city": "Burnaby",
          "country": "CA",
          "display_address": [
           "2830 Douglas Road",
           "Burnaby, BC V5C 5B7",
           "Canada"
          ],
          "state": "BC",
          "zip_code": "V5C 5B7"
         },
         "name": "Astro's Kitchen",
         "phone": "+16042996077",
         "price": "$",
         "rating": 4.5,
         "review_count": 6,
         "transactions": [],
         "url": "https://www.yelp.com/biz/astros-kitchen-burnaby?adjust_creative=er8VerEY7YoTpPqoX4VVvg&utm_campaign=yelp_api_v3&utm_medium=api_v3_business_search&utm_source=er8VerEY7YoTpPqoX4VVvg"
        },
        {
         "alias": "el-comal-burnaby",
         "categories": [
          {
           "alias": "mexican",
           "title": "Mexican"
          }
         ],
         "coordinates": {
          "latitude": 49.247876818077,
          "longitude": -122.940112248954
         },
         "display_phone": "+1 604-420-1327",
         "distance": 2478.165580963046,
         "id": "mz7ngABxQqH2rYZb3_tQDQ",
         "image_url": "https://s3-media1.fl.yelpcdn.com/bphoto/JTeCIuOj6UPfwb8BYPFi3Q/o.jpg",
         "is_closed": false,
         "location": {
          "address1": "7650 Winston Street",
          "address2": "",
          "address3": "",
          "city": "Burnaby",
          "country": "CA",
          "display_address": [
           "7650 Winston Street",
           "Burnaby, BC V5A 2H4",
           "Canada"
          ],
          "state": "BC",
          "zip_code": "V5A 2H4"
         },
         "name": "El Comal",
         "phone": "+16044201327",
         "price": "$",
         "rating": 4,
         "review_count": 48,
         "transactions": [],
         "url": "https://www.yelp.com/biz/el-comal-burnaby?adjust_creative=er8VerEY7YoTpPqoX4VVvg&utm_campaign=yelp_api_v3&utm_medium=api_v3_business_search&utm_source=er8VerEY7YoTpPqoX4VVvg"
        },
        {
         "alias": "joojak-restaurant-vancouver",
         "categories": [
          {
           "alias": "chinese",
           "title": "Chinese"
          }
         ],
         "coordinates": {
          "latitude": 49.2334900680365,
          "longitude": -123.034767160936
         },
         "display_phone": "+1 604-563-8816",
         "distance": 4611.5271223456,
         "id": "ba7QMdfLHj2ayzssvKJ6-A",
         "image_url": "https://s3-media3.fl.yelpcdn.com/bphoto/1UQVOcdK9lsQukQiW4zFyA/o.jpg",
         "is_closed": false,
         "location": {
          "address1": "3337 Kingsway",
          "address2": "",
          "address3": "",
          "city": "Vancouver",
          "country": "CA",
          "display_address": [
           "3337 Kingsway",
           "Vancouver, BC V5R 5K6",
           "Canada"
          ],
          "state": "BC",
          "zip_code": "V5R 5K6"
         },
         "name": "Joojak Restaurant",
         "phone": "+16045638816",
         "price": "$$",
         "rating": 4.5,
         "review_count": 123,
         "transactions": [],
         "url": "https://www.yelp.com/biz/joojak-restaurant-vancouver?adjust_creative=er8VerEY7YoTpPqoX4VVvg&utm_campaign=yelp_api_v3&utm_medium=api_v3_business_search&utm_source=er8VerEY7YoTpPqoX4VVvg"
        },
        {
         "alias": "sushi-modo-burnaby-3",
         "categories": [
          {
           "alias": "sushi",
           "title": "Sushi Bars"
          },
          {
           "alias": "japanese",
           "title": "Japanese"
          }
         ],
         "coordinates": {
          "latitude": 49.225836,
          "longitude": -122.937422
         },
         "display_phone": "+1 604-553-0142",
         "distance": 2970.420328176069,
         "id": "epEzCF-8lFBScD2bH2JQAA",
         "image_url": "https://s3-media2.fl.yelpcdn.com/bphoto/cLIi_D1tFfgbhXKnHqS6yg/o.jpg",
         "is_closed": false,
         "location": {
          "address1": "7874 Edmonds Street",
          "address2": null,
          "address3": "",
          "city": "Burnaby",
          "country": "CA",
          "display_address": [
           "7874 Edmonds Street",
           "Burnaby, BC V3N 1B8",
           "Canada"
          ],
          "state": "BC",
          "zip_code": "V3N 1B8"
         },
         "name": "Sushi Modo",
         "phone": "+16045530142",
         "price": "$$",
         "rating": 4,
         "review_count": 88,
         "transactions": [],
         "url": "https://www.yelp.com/biz/sushi-modo-burnaby-3?adjust_creative=er8VerEY7YoTpPqoX4VVvg&utm_campaign=yelp_api_v3&utm_medium=api_v3_business_search&utm_source=er8VerEY7YoTpPqoX4VVvg"
        },
        {
         "alias": "it-char-burger-new-westminster-2",
         "categories": [
          {
           "alias": "burgers",
           "title": "Burgers"
          },
          {
           "alias": "breakfast_brunch",
           "title": "Breakfast & Brunch"
          }
         ],
         "coordinates": {
          "latitude": 49.2229148,
          "longitude": -122.9142552
         },
         "display_phone": "+1 604-521-8783",
         "distance": 4603.938416914975,
         "id": "1Ka2vC_502vd2lAs3eq3tw",
         "image_url": "https://s3-media4.fl.yelpcdn.com/bphoto/fEONfQhy1YZ8-Ec4KGMy3A/o.jpg",
         "is_closed": false,
         "location": {
          "address1": "800 McBride Boulevard",
          "address2": "Unit 29",
          "address3": "",
          "city": "New Westminster",
          "country": "CA",
          "display_address": [
           "800 McBride Boulevard",
           "Unit 29",
           "New Westminster, BC V3L 2B8",
           "Canada"
          ],
          "state": "BC",
          "zip_code": "V3L 2B8"
         },
         "name": "IT Char Burger",
         "phone": "+16045218783",
         "price": "$",
         "rating": 4.5,
         "review_count": 62,
         "transactions": [],
         "url": "https://www.yelp.com/biz/it-char-burger-new-westminster-2?adjust_creative=er8VerEY7YoTpPqoX4VVvg&utm_campaign=yelp_api_v3&utm_medium=api_v3_business_search&utm_source=er8VerEY7YoTpPqoX4VVvg"
        },
        {
         "alias": "morak-korean-restaurant-burnaby",
         "categories": [
          {
           "alias": "korean",
           "title": "Korean"
          }
         ],
         "coordinates": {
          "latitude": 49.2271215,
          "longitude": -122.9943107
         },
         "display_phone": "+1 604-437-8839",
         "distance": 2158.3882475569253,
         "id": "2oiG1VJq53D3-p3WqNCpow",
         "image_url": "https://s3-media3.fl.yelpcdn.com/bphoto/MDeg9odBbJeHr4RNkDUaoA/o.jpg",
         "is_closed": false,
         "location": {
          "address1": "6285 Nelson Avenue",
          "address2": "",
          "address3": "",
          "city": "Burnaby",
          "country": "CA",
          "display_address": [
           "6285 Nelson Avenue",
           "Burnaby, BC V5H 4T3",
           "Canada"
          ],
          "state": "BC",
          "zip_code": "V5H 4T3"
         },
         "name": "Morak Korean Restaurant",
         "phone": "+16044378839",
         "price": "$$",
         "rating": 3.5,
         "review_count": 112,
         "transactions": [],
         "url": "https://www.yelp.com/biz/morak-korean-restaurant-burnaby?adjust_creative=er8VerEY7YoTpPqoX4VVvg&utm_campaign=yelp_api_v3&utm_medium=api_v3_business_search&utm_source=er8VerEY7YoTpPqoX4VVvg"
        },
        {
         "alias": "dooboo-burnaby-2",
         "categories": [
          {
           "alias": "korean",
           "title": "Korean"
          }
         ],
         "coordinates": {
          "latitude": 49.2185949,
          "longitude": -122.9607043
         },
         "display_phone": "+1 604-522-9969",
         "distance": 2496.215648847343,
         "id": "F6kMlWj6EVo8PkxF0Iq4Gw",
         "image_url": "https://s3-media4.fl.yelpcdn.com/bphoto/qTfBFWItDmLEMXt2mp6qGw/o.jpg",
         "is_closed": false,
         "location": {
          "address1": "6907 Kingsway",
          "address2": "",
          "address3": null,
          "city": "Burnaby",
          "country": "CA",
          "display_address": [
           "6907 Kingsway",
           "Burnaby, BC V5E 1E5",
           "Canada"
          ],
          "state": "BC",
          "zip_code": "V5E 1E5"
         },
         "name": "DooBoo",
         "phone": "+16045229969",
         "rating": 4,
         "review_count": 52,
         "transactions": [],
         "url": "https://www.yelp.com/biz/dooboo-burnaby-2?adjust_creative=er8VerEY7YoTpPqoX4VVvg&utm_campaign=yelp_api_v3&utm_medium=api_v3_business_search&utm_source=er8VerEY7YoTpPqoX4VVvg"
        },
        {
         "alias": "olove-greek-kitchen-burnaby",
         "categories": [
          {
           "alias": "greek",
           "title": "Greek"
          }
         ],
         "coordinates": {
          "latitude": 49.2804849,
          "longitude": -122.9779067
         },
         "display_phone": "+1 604-620-3414",
         "distance": 4531.714089102211,
         "id": "_ZTIWy4L8cn7hwq4Kq_UGA",
         "image_url": "https://s3-media2.fl.yelpcdn.com/bphoto/6lI2KiRsYDliw9LRwY8V7Q/o.jpg",
         "is_closed": false,
         "location": {
          "address1": "5931 Hastings Street",
          "address2": null,
          "address3": "",
          "city": "Burnaby",
          "country": "CA",
          "display_address": [
           "5931 Hastings Street",
           "Burnaby, BC V5B 1R7",
           "Canada"
          ],
          "state": "BC",
          "zip_code": "V5B 1R7"
         },
         "name": "Olove Greek Kitchen",
         "phone": "+16046203414",
         "rating": 4,
         "review_count": 33,
         "transactions": [],
         "url": "https://www.yelp.com/biz/olove-greek-kitchen-burnaby?adjust_creative=er8VerEY7YoTpPqoX4VVvg&utm_campaign=yelp_api_v3&utm_medium=api_v3_business_search&utm_source=er8VerEY7YoTpPqoX4VVvg"
        },
        {
         "alias": "motonobu-udon-vancouver-3",
         "categories": [
          {
           "alias": "japanese",
           "title": "Japanese"
          },
          {
           "alias": "noodles",
           "title": "Noodles"
          }
         ],
         "coordinates": {
          "latitude": 49.2813968,
          "longitude": -123.0280718
         },
         "display_phone": "+1 604-293-1889",
         "distance": 6133.687676960909,
         "id": "CU4UQS9VG7J8joFTp_ZzCw",
         "image_url": "https://s3-media2.fl.yelpcdn.com/bphoto/rrpFUZx5vKrKttw2a71ZUw/o.jpg",
         "is_closed": false,
         "location": {
          "address1": "3501 E Hastings St",
          "address2": "",
          "address3": null,
          "city": "Vancouver",
          "country": "CA",
          "display_address": [
           "3501 E Hastings St",
           "Vancouver, BC V5K 5A6",
           "Canada"
          ],
          "state": "BC",
          "zip_code": "V5K 5A6"
         },
         "name": "Motonobu Udon",
         "phone": "+16042931889",
         "rating": 4,
         "review_count": 44,
         "transactions": [],
         "url": "https://www.yelp.com/biz/motonobu-udon-vancouver-3?adjust_creative=er8VerEY7YoTpPqoX4VVvg&utm_campaign=yelp_api_v3&utm_medium=api_v3_business_search&utm_source=er8VerEY7YoTpPqoX4VVvg"
        },
        {
         "alias": "linh-cafe-vancouver-2",
         "categories": [
          {
           "alias": "french",
           "title": "French"
          },
          {
           "alias": "vietnamese",
           "title": "Vietnamese"
          },
          {
           "alias": "bistros",
           "title": "Bistros"
          }
         ],
         "coordinates": {
          "latitude": 49.27463178413716,
          "longitude": -123.12970397622125
         },
         "display_phone": "+1 604-564-9668",
         "distance": 12074.388224114564,
         "id": "sDyUJf9TU0eMuW0jyPjR9Q",
         "image_url": "https://s3-media1.fl.yelpcdn.com/bphoto/poBFf2B7Ns2p_M7r1uamKA/o.jpg",
         "is_closed": false,
         "location": {
          "address1": "1428 Granville Street",
          "address2": "",
          "address3": null,
          "city": "Vancouver",
          "country": "CA",
          "display_address": [
           "1428 Granville Street",
           "Vancouver, BC V6K 1R2",
           "Canada"
          ],
          "state": "BC",
          "zip_code": "V6K 1R2"
         },
         "name": "Linh Cafe",
         "phone": "+16045649668",
         "rating": 4.5,
         "review_count": 11,
         "transactions": [],
         "url": "https://www.yelp.com/biz/linh-cafe-vancouver-2?adjust_creative=er8VerEY7YoTpPqoX4VVvg&utm_campaign=yelp_api_v3&utm_medium=api_v3_business_search&utm_source=er8VerEY7YoTpPqoX4VVvg"
        },
        {
         "alias": "onggi-korean-cusine-burnaby",
         "categories": [
          {
           "alias": "korean",
           "title": "Korean"
          },
          {
           "alias": "bbq",
           "title": "Barbeque"
          },
          {
           "alias": "hotpot",
           "title": "Hot Pot"
          }
         ],
         "coordinates": {
          "latitude": 49.24377273960674,
          "longitude": -122.8933061286807
         },
         "display_phone": "",
         "distance": 5730.648040913401,
         "id": "0VRQWXjPoIwxsCdMMF8QxA",
         "image_url": "https://s3-media2.fl.yelpcdn.com/bphoto/4FEpTUhwp-OHX5NzfGwdIg/o.jpg",
         "is_closed": false,
         "location": {
          "address1": "103 - 4501 North Road",
          "address2": "",
          "address3": null,
          "city": "Burnaby",
          "country": "CA",
          "display_address": [
           "103 - 4501 North Road",
           "Burnaby, BC V3N 4R7",
           "Canada"
          ],
          "state": "BC",
          "zip_code": "V3N 4R7"
         },
         "name": "Onggi Korean Cusine",
         "phone": "",
         "rating": 4.5,
         "review_count": 6,
         "transactions": [],
         "url": "https://www.yelp.com/biz/onggi-korean-cusine-burnaby?adjust_creative=er8VerEY7YoTpPqoX4VVvg&utm_campaign=yelp_api_v3&utm_medium=api_v3_business_search&utm_source=er8VerEY7YoTpPqoX4VVvg"
        },
        {
         "alias": "katsuya-coquitlam",
         "categories": [
          {
           "alias": "japanese",
           "title": "Japanese"
          }
         ],
         "coordinates": {
          "latitude": 49.26175,
          "longitude": -122.89038
         },
         "display_phone": "+1 604-931-4006",
         "distance": 6398.788329990458,
         "id": "JyLWxozP9PXSCa2Lo8Ubkw",
         "image_url": "https://s3-media2.fl.yelpcdn.com/bphoto/zkq7BdU7T-mBoWPN23jN7A/o.jpg",
         "is_closed": false,
         "location": {
          "address1": "555 Clarke Road",
          "address2": "Suite 8",
          "address3": null,
          "city": "Coquitlam",
          "country": "CA",
          "display_address": [
           "555 Clarke Road",
           "Suite 8",
           "Coquitlam, BC V3J 3X4",
           "Canada"
          ],
          "state": "BC",
          "zip_code": "V3J 3X4"
         },
         "name": "Katsuya",
         "phone": "+16049314006",
         "price": "$$",
         "rating": 4.5,
         "review_count": 105,
         "transactions": [],
         "url": "https://www.yelp.com/biz/katsuya-coquitlam?adjust_creative=er8VerEY7YoTpPqoX4VVvg&utm_campaign=yelp_api_v3&utm_medium=api_v3_business_search&utm_source=er8VerEY7YoTpPqoX4VVvg"
        },
        {
         "alias": "la-forêt-burnaby-3",
         "categories": [
          {
           "alias": "coffee",
           "title": "Coffee & Tea"
          },
          {
           "alias": "bakeries",
           "title": "Bakeries"
          },
          {
           "alias": "breakfast_brunch",
           "title": "Breakfast & Brunch"
          }
         ],
         "coordinates": {
          "latitude": 49.2212819390063,
          "longitude": -122.995836958493
         },
         "display_phone": "+1 604-428-8155",
         "distance": 2703.1571916811727,
         "id": "-8LdHGN1xVpmvfy0efwzqg",
         "image_url": "https://s3-media2.fl.yelpcdn.com/bphoto/_yS1d4CLVzBS1v6hmQ9yzQ/o.jpg",
         "is_closed": false,
         "location": {
          "address1": "6848 Jubilee Avenue",
          "address2": "",
          "address3": null,
          "city": "Burnaby",
          "country": "CA",
          "display_address": [
           "6848 Jubilee Avenue",
           "Burnaby, BC V5J 4B3",
           "Canada"
          ],
          "state": "BC",
          "zip_code": "V5J 4B3"
         },
         "name": "La Forêt",
         "phone": "+16044288155",
         "price": "$$",
         "rating": 3.5,
         "review_count": 417,
         "transactions": [],
         "url": "https://www.yelp.com/biz/la-for%C3%AAt-burnaby-3?adjust_creative=er8VerEY7YoTpPqoX4VVvg&utm_campaign=yelp_api_v3&utm_medium=api_v3_business_search&utm_source=er8VerEY7YoTpPqoX4VVvg"
        },
        {
         "alias": "viet-mama-cafe-vancouver",
         "categories": [
          {
           "alias": "vietnamese",
           "title": "Vietnamese"
          },
          {
           "alias": "noodles",
           "title": "Noodles"
          }
         ],
         "coordinates": {
          "latitude": 49.2379348,
          "longitude": -123.0652077
         },
         "display_phone": "+1 778-988-9257",
         "distance": 6768.985102167764,
         "id": "0ZQEW-RbbA35ZH6AdCu7zg",
         "image_url": "https://s3-media1.fl.yelpcdn.com/bphoto/S7XpRbkLxLG8svfN3vJ1fg/o.jpg",
         "is_closed": false,
         "location": {
          "address1": "5118 Victoria Drive",
          "address2": "",
          "address3": null,
          "city": "Vancouver",
          "country": "CA",
          "display_address": [
           "5118 Victoria Drive",
           "Vancouver, BC V5P 3V2",
           "Canada"
          ],
          "state": "BC",
          "zip_code": "V5P 3V2"
         },
         "name": "Viet Mama Cafe",
         "phone": "+17789889257",
         "rating": 4.5,
         "review_count": 48,
         "transactions": [],
         "url": "https://www.yelp.com/biz/viet-mama-cafe-vancouver?adjust_creative=er8VerEY7YoTpPqoX4VVvg&utm_campaign=yelp_api_v3&utm_medium=api_v3_business_search&utm_source=er8VerEY7YoTpPqoX4VVvg"
        }
       ],
       "region": {
        "center": {
         "latitude": 49.239971669380836,
         "longitude": -122.97203063964844
        }
       },
       "total": 240
      },
      "text/plain": [
       "<IPython.core.display.JSON object>"
      ]
     },
     "execution_count": 14,
     "metadata": {
      "application/json": {
       "expanded": false,
       "root": "root"
      }
     },
     "output_type": "execute_result"
    }
   ],
   "source": [
    "JSON(yelp_req.json())"
   ]
  },
  {
   "cell_type": "code",
   "execution_count": 15,
   "metadata": {
    "slideshow": {
     "slide_type": "skip"
    }
   },
   "outputs": [],
   "source": [
    "yelp_req = yelp_req.json()['businesses']"
   ]
  },
  {
   "cell_type": "code",
   "execution_count": 16,
   "metadata": {
    "slideshow": {
     "slide_type": "skip"
    }
   },
   "outputs": [
    {
     "data": {
      "application/json": [
       {
        "alias": "tendon-kohaku-burnaby",
        "categories": [
         {
          "alias": "japanese",
          "title": "Japanese"
         }
        ],
        "coordinates": {
         "latitude": 49.2673143,
         "longitude": -123.0062065
        },
        "display_phone": "",
        "distance": 3895.822165055653,
        "id": "kq2x8X8LBIafFCOD8nvFwQ",
        "image_url": "https://s3-media2.fl.yelpcdn.com/bphoto/Q9vZVOhs28YAvBEUcIo4Cw/o.jpg",
        "is_closed": false,
        "location": {
         "address1": "106-1901 Rosser Avenue",
         "address2": "",
         "address3": null,
         "city": "Burnaby",
         "country": "CA",
         "display_address": [
          "106-1901 Rosser Avenue",
          "Burnaby, BC V5C 6R6",
          "Canada"
         ],
         "state": "BC",
         "zip_code": "V5C 6R6"
        },
        "name": "Tendon Kohaku",
        "phone": "",
        "price": "$$",
        "rating": 4,
        "review_count": 38,
        "transactions": [],
        "url": "https://www.yelp.com/biz/tendon-kohaku-burnaby?adjust_creative=er8VerEY7YoTpPqoX4VVvg&utm_campaign=yelp_api_v3&utm_medium=api_v3_business_search&utm_source=er8VerEY7YoTpPqoX4VVvg"
       },
       {
        "alias": "little-minhs-burnaby-2",
        "categories": [
         {
          "alias": "vietnamese",
          "title": "Vietnamese"
         }
        ],
        "coordinates": {
         "latitude": 49.1990675,
         "longitude": -122.9799962
        },
        "display_phone": "+1 778-928-6668",
        "distance": 4625.330500853739,
        "id": "IApa8s-StZo2QcXOyu35tg",
        "image_url": "https://s3-media2.fl.yelpcdn.com/bphoto/AXJ_m7j0xSySIFPAtrZoQQ/o.jpg",
        "is_closed": false,
        "location": {
         "address1": "7533 Market Crossing",
         "address2": null,
         "address3": "",
         "city": "Burnaby",
         "country": "CA",
         "display_address": [
          "7533 Market Crossing",
          "Burnaby, BC V5J 0A3",
          "Canada"
         ],
         "state": "BC",
         "zip_code": "V5J 0A3"
        },
        "name": "Little Minh's",
        "phone": "+17789286668",
        "price": "$$",
        "rating": 4.5,
        "review_count": 101,
        "transactions": [
         "restaurant_reservation"
        ],
        "url": "https://www.yelp.com/biz/little-minhs-burnaby-2?adjust_creative=er8VerEY7YoTpPqoX4VVvg&utm_campaign=yelp_api_v3&utm_medium=api_v3_business_search&utm_source=er8VerEY7YoTpPqoX4VVvg"
       },
       {
        "alias": "oeb-breakfast-burnaby-2",
        "categories": [
         {
          "alias": "breakfast_brunch",
          "title": "Breakfast & Brunch"
         }
        ],
        "coordinates": {
         "latitude": 49.266624703302874,
         "longitude": -123.0008029756644
        },
        "display_phone": "+1 604-566-3447",
        "distance": 3625.494409152619,
        "id": "TXlxmfFmw7gePQdnLSdjaw",
        "image_url": "https://s3-media2.fl.yelpcdn.com/bphoto/NFNYmUTBmoeW3af9iVXGVw/o.jpg",
        "is_closed": false,
        "location": {
         "address1": "4525 Lougheed Highway",
         "address2": "Unit 2306",
         "address3": "",
         "city": "Burnaby",
         "country": "CA",
         "display_address": [
          "4525 Lougheed Highway",
          "Unit 2306",
          "Burnaby, BC V5C 3Z6",
          "Canada"
         ],
         "state": "BC",
         "zip_code": "V5C 3Z6"
        },
        "name": "OEB Breakfast",
        "phone": "+16045663447",
        "price": "$$",
        "rating": 4,
        "review_count": 68,
        "transactions": [],
        "url": "https://www.yelp.com/biz/oeb-breakfast-burnaby-2?adjust_creative=er8VerEY7YoTpPqoX4VVvg&utm_campaign=yelp_api_v3&utm_medium=api_v3_business_search&utm_source=er8VerEY7YoTpPqoX4VVvg"
       },
       {
        "alias": "bibiks-burnaby",
        "categories": [
         {
          "alias": "singaporean",
          "title": "Singaporean"
         },
         {
          "alias": "popuprestaurants",
          "title": "Pop-Up Restaurants"
         }
        ],
        "coordinates": {
         "latitude": 49.2609854933874,
         "longitude": -122.988188937306
        },
        "display_phone": "",
        "distance": 2614.445227437563,
        "id": "jYRKJeyL1JKpjz7TCzzH3w",
        "image_url": "https://s3-media2.fl.yelpcdn.com/bphoto/HY-_ClZS-UHEBit8KVFajg/o.jpg",
        "is_closed": false,
        "location": {
         "address1": "5279 Still Creek Ave",
         "address2": "",
         "address3": null,
         "city": "Burnaby",
         "country": "CA",
         "display_address": [
          "5279 Still Creek Ave",
          "Burnaby, BC V5C 5V1",
          "Canada"
         ],
         "state": "BC",
         "zip_code": "V5C 5V1"
        },
        "name": "bibik's",
        "phone": "",
        "rating": 4.5,
        "review_count": 3,
        "transactions": [],
        "url": "https://www.yelp.com/biz/bibiks-burnaby?adjust_creative=er8VerEY7YoTpPqoX4VVvg&utm_campaign=yelp_api_v3&utm_medium=api_v3_business_search&utm_source=er8VerEY7YoTpPqoX4VVvg"
       },
       {
        "alias": "burnaby-mountain-clubhouse-burnaby",
        "categories": [
         {
          "alias": "lounges",
          "title": "Lounges"
         },
         {
          "alias": "newcanadian",
          "title": "Canadian (New)"
         }
        ],
        "coordinates": {
         "latitude": 49.265138,
         "longitude": -122.943048
        },
        "display_phone": "+1 604-297-4888",
        "distance": 3500.825576421935,
        "id": "BtGVORkfP1EsGcbqHDlUVQ",
        "image_url": "https://s3-media2.fl.yelpcdn.com/bphoto/9DLGBtKiSgFd2Uf4gNGWAg/o.jpg",
        "is_closed": false,
        "location": {
         "address1": "7600 Halifax Street",
         "address2": "",
         "address3": "",
         "city": "Burnaby",
         "country": "CA",
         "display_address": [
          "7600 Halifax Street",
          "Burnaby, BC V5A 4M8",
          "Canada"
         ],
         "state": "BC",
         "zip_code": "V5A 4M8"
        },
        "name": "Burnaby Mountain Clubhouse",
        "phone": "+16042974888",
        "price": "$$",
        "rating": 4,
        "review_count": 53,
        "transactions": [],
        "url": "https://www.yelp.com/biz/burnaby-mountain-clubhouse-burnaby?adjust_creative=er8VerEY7YoTpPqoX4VVvg&utm_campaign=yelp_api_v3&utm_medium=api_v3_business_search&utm_source=er8VerEY7YoTpPqoX4VVvg"
       },
       {
        "alias": "na-re-korean-kitchen-burnaby",
        "categories": [
         {
          "alias": "korean",
          "title": "Korean"
         }
        ],
        "coordinates": {
         "latitude": 49.220323,
         "longitude": -122.9484265
        },
        "display_phone": "+1 604-522-7009",
        "distance": 2776.8938802571106,
        "id": "KGj2fuxpW6sgMOiUQk2UsA",
        "image_url": "https://s3-media2.fl.yelpcdn.com/bphoto/bRN-efv6-Cw_lyRkjENoxw/o.jpg",
        "is_closed": false,
        "location": {
         "address1": "7413 Edmonds Street",
         "address2": null,
         "address3": "",
         "city": "Burnaby",
         "country": "CA",
         "display_address": [
          "7413 Edmonds Street",
          "Burnaby, BC V3N 1B1",
          "Canada"
         ],
         "state": "BC",
         "zip_code": "V3N 1B1"
        },
        "name": "Na-Re Korean Kitchen",
        "phone": "+16045227009",
        "rating": 4.5,
        "review_count": 38,
        "transactions": [],
        "url": "https://www.yelp.com/biz/na-re-korean-kitchen-burnaby?adjust_creative=er8VerEY7YoTpPqoX4VVvg&utm_campaign=yelp_api_v3&utm_medium=api_v3_business_search&utm_source=er8VerEY7YoTpPqoX4VVvg"
       },
       {
        "alias": "masita-korean-cuisine-burnaby",
        "categories": [
         {
          "alias": "korean",
          "title": "Korean"
         }
        ],
        "coordinates": {
         "latitude": 49.218978345984,
         "longitude": -122.969008660356
        },
        "display_phone": "+1 604-553-9938",
        "distance": 2344.639705886011,
        "id": "91SOnUvy6wqLwCOAFTTz3w",
        "image_url": "https://s3-media3.fl.yelpcdn.com/bphoto/LLrUUgE6UfsvuqlZlhf9NQ/o.jpg",
        "is_closed": false,
        "location": {
         "address1": "6516 Kingsway",
         "address2": "",
         "address3": null,
         "city": "Burnaby",
         "country": "CA",
         "display_address": [
          "6516 Kingsway",
          "Burnaby, BC V5E 1C5",
          "Canada"
         ],
         "state": "BC",
         "zip_code": "V5E 1C5"
        },
        "name": "Masita Korean Cuisine",
        "phone": "+16045539938",
        "price": "$$",
        "rating": 4,
        "review_count": 143,
        "transactions": [],
        "url": "https://www.yelp.com/biz/masita-korean-cuisine-burnaby?adjust_creative=er8VerEY7YoTpPqoX4VVvg&utm_campaign=yelp_api_v3&utm_medium=api_v3_business_search&utm_source=er8VerEY7YoTpPqoX4VVvg"
       },
       {
        "alias": "stem-japanese-eatery-burnaby",
        "categories": [
         {
          "alias": "japanese",
          "title": "Japanese"
         }
        ],
        "coordinates": {
         "latitude": 49.2149649,
         "longitude": -122.9882104
        },
        "display_phone": "+1 604-434-0250",
        "distance": 3016.5070844247994,
        "id": "WCyc2DPB3WnF1amV12aPIQ",
        "image_url": "https://s3-media2.fl.yelpcdn.com/bphoto/NpnSl2prS-B1AVoJNqee3w/o.jpg",
        "is_closed": false,
        "location": {
         "address1": "5205 Rumble Street",
         "address2": "",
         "address3": null,
         "city": "Burnaby",
         "country": "CA",
         "display_address": [
          "5205 Rumble Street",
          "Burnaby, BC V5J 2B7",
          "Canada"
         ],
         "state": "BC",
         "zip_code": "V5J 2B7"
        },
        "name": "STEM Japanese Eatery",
        "phone": "+16044340250",
        "price": "$$",
        "rating": 4,
        "review_count": 93,
        "transactions": [],
        "url": "https://www.yelp.com/biz/stem-japanese-eatery-burnaby?adjust_creative=er8VerEY7YoTpPqoX4VVvg&utm_campaign=yelp_api_v3&utm_medium=api_v3_business_search&utm_source=er8VerEY7YoTpPqoX4VVvg"
       },
       {
        "alias": "sooda-korean-bbq-burnaby",
        "categories": [
         {
          "alias": "korean",
          "title": "Korean"
         },
         {
          "alias": "bbq",
          "title": "Barbeque"
         }
        ],
        "coordinates": {
         "latitude": 49.2666661,
         "longitude": -123.0044281
        },
        "display_phone": "+1 604-428-9227",
        "distance": 3805.5428142162546,
        "id": "ioS3wf6oIvVQlrTfOM56EQ",
        "image_url": "https://s3-media1.fl.yelpcdn.com/bphoto/Z1TGw0f6rFuOQErG51nLig/o.jpg",
        "is_closed": false,
        "location": {
         "address1": "4455 Lougheed Highway",
         "address2": "",
         "address3": null,
         "city": "Burnaby",
         "country": "CA",
         "display_address": [
          "4455 Lougheed Highway",
          "Burnaby, BC V5C 3Z2",
          "Canada"
         ],
         "state": "BC",
         "zip_code": "V5C 3Z2"
        },
        "name": "Sooda Korean BBQ",
        "phone": "+16044289227",
        "price": "$$",
        "rating": 4,
        "review_count": 70,
        "transactions": [],
        "url": "https://www.yelp.com/biz/sooda-korean-bbq-burnaby?adjust_creative=er8VerEY7YoTpPqoX4VVvg&utm_campaign=yelp_api_v3&utm_medium=api_v3_business_search&utm_source=er8VerEY7YoTpPqoX4VVvg"
       },
       {
        "alias": "88-palpal-noodle-house-burnaby",
        "categories": [
         {
          "alias": "korean",
          "title": "Korean"
         },
         {
          "alias": "chinese",
          "title": "Chinese"
         },
         {
          "alias": "asianfusion",
          "title": "Asian Fusion"
         }
        ],
        "coordinates": {
         "latitude": 49.22646,
         "longitude": -122.99195
        },
        "display_phone": "+1 604-558-4668",
        "distance": 2087.7594340663045,
        "id": "9sntXcjmEcujpXSnW18QpA",
        "image_url": "https://s3-media2.fl.yelpcdn.com/bphoto/wPf_z9tUtEn23JnvlRjeVw/o.jpg",
        "is_closed": false,
        "location": {
         "address1": "5021 Kingsway",
         "address2": "",
         "address3": null,
         "city": "Burnaby",
         "country": "CA",
         "display_address": [
          "5021 Kingsway",
          "Burnaby, BC V5H 4A5",
          "Canada"
         ],
         "state": "BC",
         "zip_code": "V5H 4A5"
        },
        "name": "88 PalPal Noodle House",
        "phone": "+16045584668",
        "price": "$$",
        "rating": 4.5,
        "review_count": 17,
        "transactions": [],
        "url": "https://www.yelp.com/biz/88-palpal-noodle-house-burnaby?adjust_creative=er8VerEY7YoTpPqoX4VVvg&utm_campaign=yelp_api_v3&utm_medium=api_v3_business_search&utm_source=er8VerEY7YoTpPqoX4VVvg"
       },
       {
        "alias": "chicko-chicken-korean-style-burnaby",
        "categories": [
         {
          "alias": "korean",
          "title": "Korean"
         },
         {
          "alias": "chickenshop",
          "title": "Chicken Shop"
         }
        ],
        "coordinates": {
         "latitude": 49.2191861,
         "longitude": -122.9505083
        },
        "display_phone": "+1 604-553-6144",
        "distance": 2766.9953090281856,
        "id": "D_TfocCVCmMKm0xPjk3Z4Q",
        "image_url": "https://s3-media1.fl.yelpcdn.com/bphoto/_yBtv6gfmr1pYDQvPMRPfA/o.jpg",
        "is_closed": false,
        "location": {
         "address1": "7343 Edmonds St",
         "address2": "",
         "address3": null,
         "city": "Burnaby",
         "country": "CA",
         "display_address": [
          "7343 Edmonds St",
          "Burnaby, BC V3N 4P2",
          "Canada"
         ],
         "state": "BC",
         "zip_code": "V3N 4P2"
        },
        "name": "Chicko Chicken Korean Style",
        "phone": "+16045536144",
        "rating": 4.5,
        "review_count": 40,
        "transactions": [],
        "url": "https://www.yelp.com/biz/chicko-chicken-korean-style-burnaby?adjust_creative=er8VerEY7YoTpPqoX4VVvg&utm_campaign=yelp_api_v3&utm_medium=api_v3_business_search&utm_source=er8VerEY7YoTpPqoX4VVvg"
       },
       {
        "alias": "aroma-eatery-burnaby",
        "categories": [
         {
          "alias": "taiwanese",
          "title": "Taiwanese"
         },
         {
          "alias": "chinese",
          "title": "Chinese"
         }
        ],
        "coordinates": {
         "latitude": 49.228417734136464,
         "longitude": -123.00491628393937
        },
        "display_phone": "+1 604-558-3958",
        "distance": 2711.411509873019,
        "id": "wZR7OxJJ3y6VDRm8iEu9_w",
        "image_url": "https://s3-media3.fl.yelpcdn.com/bphoto/NwWpfBBppofd3-9RUzJxrA/o.jpg",
        "is_closed": false,
        "location": {
         "address1": "1011-4500 Kingsway",
         "address2": "",
         "address3": null,
         "city": "Burnaby",
         "country": "CA",
         "display_address": [
          "1011-4500 Kingsway",
          "Burnaby, BC V5H 2A9",
          "Canada"
         ],
         "state": "BC",
         "zip_code": "V5H 2A9"
        },
        "name": "Aroma Eatery",
        "phone": "+16045583958",
        "rating": 4.5,
        "review_count": 11,
        "transactions": [],
        "url": "https://www.yelp.com/biz/aroma-eatery-burnaby?adjust_creative=er8VerEY7YoTpPqoX4VVvg&utm_campaign=yelp_api_v3&utm_medium=api_v3_business_search&utm_source=er8VerEY7YoTpPqoX4VVvg"
       },
       {
        "alias": "pearl-house-burnaby-burnaby",
        "categories": [
         {
          "alias": "taiwanese",
          "title": "Taiwanese"
         }
        ],
        "coordinates": {
         "latitude": 49.2234081267721,
         "longitude": -122.942928826824
        },
        "display_phone": "+1 604-553-3177",
        "distance": 2803.0913792496135,
        "id": "u-q3wex6rjHT9WH9LejTsg",
        "image_url": "https://s3-media4.fl.yelpcdn.com/bphoto/yWt3sUltkVRiTAwS2blC5w/o.jpg",
        "is_closed": false,
        "location": {
         "address1": "7625 Edmonds Street",
         "address2": "",
         "address3": null,
         "city": "Burnaby",
         "country": "CA",
         "display_address": [
          "7625 Edmonds Street",
          "Burnaby, BC V3N 1B6",
          "Canada"
         ],
         "state": "BC",
         "zip_code": "V3N 1B6"
        },
        "name": "Pearl House Burnaby",
        "phone": "+16045533177",
        "rating": 4.5,
        "review_count": 11,
        "transactions": [],
        "url": "https://www.yelp.com/biz/pearl-house-burnaby-burnaby?adjust_creative=er8VerEY7YoTpPqoX4VVvg&utm_campaign=yelp_api_v3&utm_medium=api_v3_business_search&utm_source=er8VerEY7YoTpPqoX4VVvg"
       },
       {
        "alias": "takara-sushi-burnaby-3",
        "categories": [
         {
          "alias": "sushi",
          "title": "Sushi Bars"
         },
         {
          "alias": "japanese",
          "title": "Japanese"
         }
        ],
        "coordinates": {
         "latitude": 49.2545851,
         "longitude": -123.0220016
        },
        "display_phone": "+1 604-439-0026",
        "distance": 4006.5307719315906,
        "id": "Znye-DqtLoBzeuM4A5n3jg",
        "image_url": "https://s3-media3.fl.yelpcdn.com/bphoto/mNNvsS5LcJdA2a-7DVVVZw/o.jpg",
        "is_closed": false,
        "location": {
         "address1": "3726 Canada Way",
         "address2": null,
         "address3": "",
         "city": "Burnaby",
         "country": "CA",
         "display_address": [
          "3726 Canada Way",
          "Burnaby, BC V5G 1G4",
          "Canada"
         ],
         "state": "BC",
         "zip_code": "V5G 1G4"
        },
        "name": "Takara Sushi",
        "phone": "+16044390026",
        "price": "$$",
        "rating": 4.5,
        "review_count": 66,
        "transactions": [],
        "url": "https://www.yelp.com/biz/takara-sushi-burnaby-3?adjust_creative=er8VerEY7YoTpPqoX4VVvg&utm_campaign=yelp_api_v3&utm_medium=api_v3_business_search&utm_source=er8VerEY7YoTpPqoX4VVvg"
       },
       {
        "alias": "wild-thyme-new-westminster",
        "categories": [
         {
          "alias": "lebanese",
          "title": "Lebanese"
         }
        ],
        "coordinates": {
         "latitude": 49.2092291,
         "longitude": -122.932308
        },
        "display_phone": "+1 604-276-8010",
        "distance": 4478.243369352014,
        "id": "rmGsHhx-Dn7z9i59VkIkjg",
        "image_url": "https://s3-media2.fl.yelpcdn.com/bphoto/pJouL7XlCQi_M0bJPFE4qQ/o.jpg",
        "is_closed": false,
        "location": {
         "address1": "705 12th Street",
         "address2": "",
         "address3": null,
         "city": "New Westminster",
         "country": "CA",
         "display_address": [
          "705 12th Street",
          "New Westminster, BC V3M 4J7",
          "Canada"
         ],
         "state": "BC",
         "zip_code": "V3M 4J7"
        },
        "name": "Wild Thyme",
        "phone": "+16042768010",
        "price": "$$",
        "rating": 4.5,
        "review_count": 311,
        "transactions": [],
        "url": "https://www.yelp.com/biz/wild-thyme-new-westminster?adjust_creative=er8VerEY7YoTpPqoX4VVvg&utm_campaign=yelp_api_v3&utm_medium=api_v3_business_search&utm_source=er8VerEY7YoTpPqoX4VVvg"
       },
       {
        "alias": "the-viet-noodle-guy-burnaby",
        "categories": [
         {
          "alias": "vietnamese",
          "title": "Vietnamese"
         }
        ],
        "coordinates": {
         "latitude": 49.267235948997,
         "longitude": -123.0057932809
        },
        "display_phone": "+1 604-336-4888",
        "distance": 3898.1396455489444,
        "id": "24gPFeyphGmg_pxiMT3eGA",
        "image_url": "https://s3-media1.fl.yelpcdn.com/bphoto/ZhZvyQcKCqvCNC4dn2WbKA/o.jpg",
        "is_closed": false,
        "location": {
         "address1": "1902 Rosser Avenue",
         "address2": "",
         "address3": null,
         "city": "Burnaby",
         "country": "CA",
         "display_address": [
          "1902 Rosser Avenue",
          "Burnaby, BC V5C 3Z2",
          "Canada"
         ],
         "state": "BC",
         "zip_code": "V5C 3Z2"
        },
        "name": "The Viet Noodle Guy",
        "phone": "+16043364888",
        "price": "$$",
        "rating": 4,
        "review_count": 150,
        "transactions": [],
        "url": "https://www.yelp.com/biz/the-viet-noodle-guy-burnaby?adjust_creative=er8VerEY7YoTpPqoX4VVvg&utm_campaign=yelp_api_v3&utm_medium=api_v3_business_search&utm_source=er8VerEY7YoTpPqoX4VVvg"
       },
       {
        "alias": "henrys-kitchen-pasta-and-grill-port-moody-2",
        "categories": [
         {
          "alias": "italian",
          "title": "Italian"
         },
         {
          "alias": "french",
          "title": "French"
         }
        ],
        "coordinates": {
         "latitude": 49.27694,
         "longitude": -122.85777
        },
        "display_phone": "+1 778-355-8787",
        "distance": 9255.706662646235,
        "id": "EC4hb3ie0NBoyw7zgrsnmA",
        "image_url": "https://s3-media1.fl.yelpcdn.com/bphoto/6CWquGPECvg-tory3XhYyg/o.jpg",
        "is_closed": false,
        "location": {
         "address1": "2410 Saint Johns Street",
         "address2": "",
         "address3": null,
         "city": "Port Moody",
         "country": "CA",
         "display_address": [
          "2410 Saint Johns Street",
          "Port Moody, BC V3H 2B1",
          "Canada"
         ],
         "state": "BC",
         "zip_code": "V3H 2B1"
        },
        "name": "Henry's Kitchen Pasta & Grill",
        "phone": "+17783558787",
        "price": "$$",
        "rating": 5,
        "review_count": 46,
        "transactions": [],
        "url": "https://www.yelp.com/biz/henrys-kitchen-pasta-and-grill-port-moody-2?adjust_creative=er8VerEY7YoTpPqoX4VVvg&utm_campaign=yelp_api_v3&utm_medium=api_v3_business_search&utm_source=er8VerEY7YoTpPqoX4VVvg"
       },
       {
        "alias": "atlas-steak-fish-burnaby",
        "categories": [
         {
          "alias": "steak",
          "title": "Steakhouses"
         },
         {
          "alias": "seafood",
          "title": "Seafood"
         },
         {
          "alias": "bars",
          "title": "Bars"
         }
        ],
        "coordinates": {
         "latitude": 49.2566565,
         "longitude": -123.0069826
        },
        "display_phone": "+1 604-453-0776",
        "distance": 3143.007127863199,
        "id": "C3u20h3WCXp5Ebkx70unQA",
        "image_url": "https://s3-media2.fl.yelpcdn.com/bphoto/KOYyqgsPxVVMdQArdveXWg/o.jpg",
        "is_closed": false,
        "location": {
         "address1": "4331 Dominion Street",
         "address2": null,
         "address3": "",
         "city": "Burnaby",
         "country": "CA",
         "display_address": [
          "4331 Dominion Street",
          "Burnaby, BC V5G 1C7",
          "Canada"
         ],
         "state": "BC",
         "zip_code": "V5G 1C7"
        },
        "name": "Atlas Steak + Fish",
        "phone": "+16044530776",
        "price": "$$$",
        "rating": 4,
        "review_count": 127,
        "transactions": [],
        "url": "https://www.yelp.com/biz/atlas-steak-fish-burnaby?adjust_creative=er8VerEY7YoTpPqoX4VVvg&utm_campaign=yelp_api_v3&utm_medium=api_v3_business_search&utm_source=er8VerEY7YoTpPqoX4VVvg"
       },
       {
        "alias": "marutama-ramen-burnaby",
        "categories": [
         {
          "alias": "ramen",
          "title": "Ramen"
         }
        ],
        "coordinates": {
         "latitude": 49.2244919,
         "longitude": -122.9878563
        },
        "display_phone": "+1 604-340-3343",
        "distance": 2072.8923863284467,
        "id": "Aft--QYr3Ba5Ceudg147mQ",
        "image_url": "https://s3-media2.fl.yelpcdn.com/bphoto/v8ZQG6DW34EyKonQzatNOQ/o.jpg",
        "is_closed": false,
        "location": {
         "address1": "5278 Kingsway",
         "address2": "",
         "address3": null,
         "city": "Burnaby",
         "country": "CA",
         "display_address": [
          "5278 Kingsway",
          "Burnaby, BC V5H 2E9",
          "Canada"
         ],
         "state": "BC",
         "zip_code": "V5H 2E9"
        },
        "name": "Marutama Ramen",
        "phone": "+16043403343",
        "price": "$$",
        "rating": 4,
        "review_count": 74,
        "transactions": [],
        "url": "https://www.yelp.com/biz/marutama-ramen-burnaby?adjust_creative=er8VerEY7YoTpPqoX4VVvg&utm_campaign=yelp_api_v3&utm_medium=api_v3_business_search&utm_source=er8VerEY7YoTpPqoX4VVvg"
       },
       {
        "alias": "time-and-place-burnaby",
        "categories": [
         {
          "alias": "bars",
          "title": "Bars"
         },
         {
          "alias": "newcanadian",
          "title": "Canadian (New)"
         }
        ],
        "coordinates": {
         "latitude": 49.22869,
         "longitude": -123.004102
        },
        "display_phone": "+1 604-639-3756",
        "distance": 2671.060149574304,
        "id": "wbowOyRiuWPNk2c47pXJCw",
        "image_url": "https://s3-media4.fl.yelpcdn.com/bphoto/2vOJ0zX0Op-rN_coiMr7sA/o.jpg",
        "is_closed": false,
        "location": {
         "address1": "6083 McKay Avenue",
         "address2": null,
         "address3": "",
         "city": "Burnaby",
         "country": "CA",
         "display_address": [
          "6083 McKay Avenue",
          "Burnaby, BC V5H 2W7",
          "Canada"
         ],
         "state": "BC",
         "zip_code": "V5H 2W7"
        },
        "name": "Time & Place",
        "phone": "+16046393756",
        "rating": 4,
        "review_count": 3,
        "transactions": [],
        "url": "https://www.yelp.com/biz/time-and-place-burnaby?adjust_creative=er8VerEY7YoTpPqoX4VVvg&utm_campaign=yelp_api_v3&utm_medium=api_v3_business_search&utm_source=er8VerEY7YoTpPqoX4VVvg"
       },
       {
        "alias": "hi-genki-burnaby",
        "categories": [
         {
          "alias": "japanese",
          "title": "Japanese"
         },
         {
          "alias": "asianfusion",
          "title": "Asian Fusion"
         }
        ],
        "coordinates": {
         "latitude": 49.21755,
         "longitude": -122.96512
        },
        "display_phone": "+1 604-777-0533",
        "distance": 2557.8282335721556,
        "id": "iUUwWMK-yqM2J3Nput5CAw",
        "image_url": "https://s3-media3.fl.yelpcdn.com/bphoto/dvuLOyxNrhKhdXDV3GuwDQ/o.jpg",
        "is_closed": false,
        "location": {
         "address1": "6680 Southoaks Crescent",
         "address2": "",
         "address3": "",
         "city": "Burnaby",
         "country": "CA",
         "display_address": [
          "6680 Southoaks Crescent",
          "Burnaby, BC V5E 4N3",
          "Canada"
         ],
         "state": "BC",
         "zip_code": "V5E 4N3"
        },
        "name": "Hi Genki",
        "phone": "+16047770533",
        "price": "$$",
        "rating": 4,
        "review_count": 178,
        "transactions": [],
        "url": "https://www.yelp.com/biz/hi-genki-burnaby?adjust_creative=er8VerEY7YoTpPqoX4VVvg&utm_campaign=yelp_api_v3&utm_medium=api_v3_business_search&utm_source=er8VerEY7YoTpPqoX4VVvg"
       },
       {
        "alias": "green-leaf-cafe-burnaby-5",
        "categories": [
         {
          "alias": "sushi",
          "title": "Sushi Bars"
         }
        ],
        "coordinates": {
         "latitude": 49.2533051,
         "longitude": -122.8982928
        },
        "display_phone": "+1 604-444-9802",
        "distance": 5545.683896717747,
        "id": "i7nUiW7bxJXV0XS7R-RahQ",
        "image_url": "https://s3-media2.fl.yelpcdn.com/bphoto/3GveXHR1YHlxfhhF7c-Z9A/o.jpg",
        "is_closed": false,
        "location": {
         "address1": "9604 Cameron Street",
         "address2": null,
         "address3": "",
         "city": "Burnaby",
         "country": "CA",
         "display_address": [
          "9604 Cameron Street",
          "Burnaby, BC V3J 1M2",
          "Canada"
         ],
         "state": "BC",
         "zip_code": "V3J 1M2"
        },
        "name": "Green Leaf Cafe",
        "phone": "+16044449802",
        "price": "$$",
        "rating": 4,
        "review_count": 194,
        "transactions": [],
        "url": "https://www.yelp.com/biz/green-leaf-cafe-burnaby-5?adjust_creative=er8VerEY7YoTpPqoX4VVvg&utm_campaign=yelp_api_v3&utm_medium=api_v3_business_search&utm_source=er8VerEY7YoTpPqoX4VVvg"
       },
       {
        "alias": "wonderffle-burnaby-3",
        "categories": [
         {
          "alias": "waffles",
          "title": "Waffles"
         },
         {
          "alias": "desserts",
          "title": "Desserts"
         },
         {
          "alias": "coffee",
          "title": "Coffee & Tea"
         }
        ],
        "coordinates": {
         "latitude": 49.265790329385325,
         "longitude": -122.98951088662658
        },
        "display_phone": "+1 778-899-4719",
        "distance": 3138.738523296878,
        "id": "QpFwCt9536fXHIz2FMv9Lw",
        "image_url": "https://s3-media4.fl.yelpcdn.com/bphoto/q0dkx2L0dRPxmBoqOXFnkA/o.jpg",
        "is_closed": false,
        "location": {
         "address1": "5063 Anola Drive",
         "address2": "",
         "address3": "",
         "city": "Burnaby",
         "country": "CA",
         "display_address": [
          "5063 Anola Drive",
          "Burnaby, BC V5B 4V7",
          "Canada"
         ],
         "state": "BC",
         "zip_code": "V5B 4V7"
        },
        "name": "Wonderffle",
        "phone": "+17788994719",
        "rating": 5,
        "review_count": 8,
        "transactions": [],
        "url": "https://www.yelp.com/biz/wonderffle-burnaby-3?adjust_creative=er8VerEY7YoTpPqoX4VVvg&utm_campaign=yelp_api_v3&utm_medium=api_v3_business_search&utm_source=er8VerEY7YoTpPqoX4VVvg"
       },
       {
        "alias": "gokudo-shabu-shabu-burnaby-burnaby",
        "categories": [
         {
          "alias": "hotpot",
          "title": "Hot Pot"
         }
        ],
        "coordinates": {
         "latitude": 49.23136,
         "longitude": -123.00955
        },
        "display_phone": "+1 604-438-5598",
        "distance": 2875.511601086771,
        "id": "VbUqjduasaOGjudjmc_dQw",
        "image_url": "https://s3-media2.fl.yelpcdn.com/bphoto/2SQSN5y7eq5jE8m_ngGV8A/o.jpg",
        "is_closed": false,
        "location": {
         "address1": "5-4250 Kingsway",
         "address2": null,
         "address3": "",
         "city": "Burnaby",
         "country": "CA",
         "display_address": [
          "5-4250 Kingsway",
          "Burnaby, BC V5H 4T7",
          "Canada"
         ],
         "state": "BC",
         "zip_code": "V5H 4T7"
        },
        "name": "Gokudo Shabu Shabu-Burnaby",
        "phone": "+16044385598",
        "rating": 4,
        "review_count": 44,
        "transactions": [],
        "url": "https://www.yelp.com/biz/gokudo-shabu-shabu-burnaby-burnaby?adjust_creative=er8VerEY7YoTpPqoX4VVvg&utm_campaign=yelp_api_v3&utm_medium=api_v3_business_search&utm_source=er8VerEY7YoTpPqoX4VVvg"
       },
       {
        "alias": "shanghai-dimsum-house-burnaby-2",
        "categories": [
         {
          "alias": "dimsum",
          "title": "Dim Sum"
         },
         {
          "alias": "dumplings",
          "title": "Dumplings"
         }
        ],
        "coordinates": {
         "latitude": 49.2294464,
         "longitude": -123.0044077
        },
        "display_phone": "+1 604-909-6688",
        "distance": 2625.9933310823612,
        "id": "Tdld3HghFd_PwivyA7OYSg",
        "image_url": "https://s3-media1.fl.yelpcdn.com/bphoto/gg-UjYRBWNH8o8yk9v5OFg/o.jpg",
        "is_closed": false,
        "location": {
         "address1": "4500 Kingsway",
         "address2": "",
         "address3": "",
         "city": "Burnaby",
         "country": "CA",
         "display_address": [
          "4500 Kingsway",
          "Burnaby, BC V5H 4V2",
          "Canada"
         ],
         "state": "BC",
         "zip_code": "V5H 4V2"
        },
        "name": "Shanghai Dimsum House",
        "phone": "+16049096688",
        "price": "$",
        "rating": 4,
        "review_count": 119,
        "transactions": [],
        "url": "https://www.yelp.com/biz/shanghai-dimsum-house-burnaby-2?adjust_creative=er8VerEY7YoTpPqoX4VVvg&utm_campaign=yelp_api_v3&utm_medium=api_v3_business_search&utm_source=er8VerEY7YoTpPqoX4VVvg"
       },
       {
        "alias": "the-gray-olive-cafeteria-burnaby",
        "categories": [
         {
          "alias": "breakfast_brunch",
          "title": "Breakfast & Brunch"
         },
         {
          "alias": "coffee",
          "title": "Coffee & Tea"
         },
         {
          "alias": "sandwiches",
          "title": "Sandwiches"
         }
        ],
        "coordinates": {
         "latitude": 49.2807699,
         "longitude": -123.01164
        },
        "display_phone": "+1 604-566-9664",
        "distance": 5385.7896185722375,
        "id": "vRzIRuOmxoqz0uSIDSYdfw",
        "image_url": "https://s3-media3.fl.yelpcdn.com/bphoto/dWNM6Nf7k8AS9gaIMcTz3A/o.jpg",
        "is_closed": false,
        "location": {
         "address1": "4190 Hastings Street",
         "address2": null,
         "address3": "",
         "city": "Burnaby",
         "country": "CA",
         "display_address": [
          "4190 Hastings Street",
          "Burnaby, BC V5C 2J4",
          "Canada"
         ],
         "state": "BC",
         "zip_code": "V5C 2J4"
        },
        "name": "The Gray Olive Cafeteria",
        "phone": "+16045669664",
        "price": "$$",
        "rating": 4,
        "review_count": 189,
        "transactions": [],
        "url": "https://www.yelp.com/biz/the-gray-olive-cafeteria-burnaby?adjust_creative=er8VerEY7YoTpPqoX4VVvg&utm_campaign=yelp_api_v3&utm_medium=api_v3_business_search&utm_source=er8VerEY7YoTpPqoX4VVvg"
       },
       {
        "alias": "fat-boy-kitchen-vancouver",
        "categories": [
         {
          "alias": "hkcafe",
          "title": "Hong Kong Style Cafe"
         }
        ],
        "coordinates": {
         "latitude": 49.2209419,
         "longitude": -123.0662599
        },
        "display_phone": "+1 604-321-8006",
        "distance": 7161.916026080693,
        "id": "lbWbqHHEXqWjb8mTVAN8WA",
        "image_url": "https://s3-media3.fl.yelpcdn.com/bphoto/yu5_pRvWe9RzqpDecJNT-Q/o.jpg",
        "is_closed": false,
        "location": {
         "address1": "6943 Victoria Drive",
         "address2": "",
         "address3": null,
         "city": "Vancouver",
         "country": "CA",
         "display_address": [
          "6943 Victoria Drive",
          "Vancouver, BC V5P 3Y7",
          "Canada"
         ],
         "state": "BC",
         "zip_code": "V5P 3Y7"
        },
        "name": "Fat Boy Kitchen",
        "phone": "+16043218006",
        "rating": 4.5,
        "review_count": 10,
        "transactions": [],
        "url": "https://www.yelp.com/biz/fat-boy-kitchen-vancouver?adjust_creative=er8VerEY7YoTpPqoX4VVvg&utm_campaign=yelp_api_v3&utm_medium=api_v3_business_search&utm_source=er8VerEY7YoTpPqoX4VVvg"
       },
       {
        "alias": "la-forchetta-burnaby",
        "categories": [
         {
          "alias": "italian",
          "title": "Italian"
         }
        ],
        "coordinates": {
         "latitude": 49.2804691698666,
         "longitude": -122.982101999223
        },
        "display_phone": "+1 604-294-1121",
        "distance": 4562.036262236531,
        "id": "t68Y5XIHYFyaAgBDzJ884A",
        "image_url": "https://s3-media1.fl.yelpcdn.com/bphoto/osf9MJeTFOoZRMcsU5GeCg/o.jpg",
        "is_closed": false,
        "location": {
         "address1": "5601 Hastings Street",
         "address2": "",
         "address3": null,
         "city": "Burnaby",
         "country": "CA",
         "display_address": [
          "5601 Hastings Street",
          "Burnaby, BC V5B 1R5",
          "Canada"
         ],
         "state": "BC",
         "zip_code": "V5B 1R5"
        },
        "name": "La Forchetta",
        "phone": "+16042941121",
        "rating": 4,
        "review_count": 17,
        "transactions": [],
        "url": "https://www.yelp.com/biz/la-forchetta-burnaby?adjust_creative=er8VerEY7YoTpPqoX4VVvg&utm_campaign=yelp_api_v3&utm_medium=api_v3_business_search&utm_source=er8VerEY7YoTpPqoX4VVvg"
       },
       {
        "alias": "don-oso-burnaby",
        "categories": [
         {
          "alias": "mexican",
          "title": "Mexican"
         }
        ],
        "coordinates": {
         "latitude": 49.281306,
         "longitude": -123.0051109
        },
        "display_phone": "+1 604-423-5525",
        "distance": 5175.123425767905,
        "id": "VCzzjdi1FU7gPOQsSReSXw",
        "image_url": "https://s3-media3.fl.yelpcdn.com/bphoto/xEXKHY4p0FwGY6oQ3OVqbw/o.jpg",
        "is_closed": false,
        "location": {
         "address1": "4421 Hastings St",
         "address2": "",
         "address3": null,
         "city": "Burnaby",
         "country": "CA",
         "display_address": [
          "4421 Hastings St",
          "Burnaby, BC V5C 2K1",
          "Canada"
         ],
         "state": "BC",
         "zip_code": "V5C 2K1"
        },
        "name": "Don Oso",
        "phone": "+16044235525",
        "rating": 4.5,
        "review_count": 14,
        "transactions": [],
        "url": "https://www.yelp.com/biz/don-oso-burnaby?adjust_creative=er8VerEY7YoTpPqoX4VVvg&utm_campaign=yelp_api_v3&utm_medium=api_v3_business_search&utm_source=er8VerEY7YoTpPqoX4VVvg"
       },
       {
        "alias": "white-lotus-cafe-burnaby",
        "categories": [
         {
          "alias": "vietnamese",
          "title": "Vietnamese"
         }
        ],
        "coordinates": {
         "latitude": 49.2656111504516,
         "longitude": -122.97883607144
        },
        "display_phone": "+1 604-428-7522",
        "distance": 2893.4479463104844,
        "id": "O2WwMsEgDpD8VYmUri3DPQ",
        "image_url": "https://s3-media1.fl.yelpcdn.com/bphoto/8lSIJ25YEwI0p6xMjQxsGQ/o.jpg",
        "is_closed": false,
        "location": {
         "address1": "1-5901 Broadway",
         "address2": "",
         "address3": null,
         "city": "Burnaby",
         "country": "CA",
         "display_address": [
          "1-5901 Broadway",
          "Burnaby, BC V5B 2Y1",
          "Canada"
         ],
         "state": "BC",
         "zip_code": "V5B 2Y1"
        },
        "name": "White Lotus Cafe",
        "phone": "+16044287522",
        "price": "$$",
        "rating": 4.5,
        "review_count": 70,
        "transactions": [],
        "url": "https://www.yelp.com/biz/white-lotus-cafe-burnaby?adjust_creative=er8VerEY7YoTpPqoX4VVvg&utm_campaign=yelp_api_v3&utm_medium=api_v3_business_search&utm_source=er8VerEY7YoTpPqoX4VVvg"
       },
       {
        "alias": "acqua-restaurant-and-bar-burnaby-2",
        "categories": [
         {
          "alias": "newcanadian",
          "title": "Canadian (New)"
         },
         {
          "alias": "bars",
          "title": "Bars"
         },
         {
          "alias": "seafood",
          "title": "Seafood"
         }
        ],
        "coordinates": {
         "latitude": 49.2665315,
         "longitude": -123.0105296
        },
        "display_phone": "+1 604-297-2118",
        "distance": 4160.826618316775,
        "id": "WyXO9hkBnh6oRjOlDAVxQw",
        "image_url": "https://s3-media2.fl.yelpcdn.com/bphoto/qBBTnDN0tIgaAVP03osgAg/o.jpg",
        "is_closed": false,
        "location": {
         "address1": "4201 Lougheed Hwy",
         "address2": "",
         "address3": null,
         "city": "Burnaby",
         "country": "CA",
         "display_address": [
          "4201 Lougheed Hwy",
          "Burnaby, BC V5C 3Y6",
          "Canada"
         ],
         "state": "BC",
         "zip_code": "V5C 3Y6"
        },
        "name": "Acqua Restaurant & Bar",
        "phone": "+16042972118",
        "rating": 4,
        "review_count": 10,
        "transactions": [],
        "url": "https://www.yelp.com/biz/acqua-restaurant-and-bar-burnaby-2?adjust_creative=er8VerEY7YoTpPqoX4VVvg&utm_campaign=yelp_api_v3&utm_medium=api_v3_business_search&utm_source=er8VerEY7YoTpPqoX4VVvg"
       },
       {
        "alias": "tenen-burnaby",
        "categories": [
         {
          "alias": "bbq",
          "title": "Barbeque"
         },
         {
          "alias": "modern_european",
          "title": "Modern European"
         },
         {
          "alias": "soup",
          "title": "Soup"
         }
        ],
        "coordinates": {
         "latitude": 49.21549,
         "longitude": -122.98895
        },
        "display_phone": "+1 604-336-6665",
        "distance": 2993.655621558843,
        "id": "c-WPBWkQ82pcO7eTkj-5MA",
        "image_url": "https://s3-media3.fl.yelpcdn.com/bphoto/PHZg1rsYsCeAOBAMY-1SWw/o.jpg",
        "is_closed": false,
        "location": {
         "address1": "7569 Royal Oak Avenue",
         "address2": "",
         "address3": "",
         "city": "Burnaby",
         "country": "CA",
         "display_address": [
          "7569 Royal Oak Avenue",
          "Burnaby, BC V5J 4J8",
          "Canada"
         ],
         "state": "BC",
         "zip_code": "V5J 4J8"
        },
        "name": "Tenen",
        "phone": "+16043366665",
        "price": "$$",
        "rating": 4,
        "review_count": 56,
        "transactions": [],
        "url": "https://www.yelp.com/biz/tenen-burnaby?adjust_creative=er8VerEY7YoTpPqoX4VVvg&utm_campaign=yelp_api_v3&utm_medium=api_v3_business_search&utm_source=er8VerEY7YoTpPqoX4VVvg"
       },
       {
        "alias": "the-dolar-shop-burnaby-burnaby-4",
        "categories": [
         {
          "alias": "hotpot",
          "title": "Hot Pot"
         },
         {
          "alias": "chinese",
          "title": "Chinese"
         },
         {
          "alias": "asianfusion",
          "title": "Asian Fusion"
         }
        ],
        "coordinates": {
         "latitude": 49.2277884925998,
         "longitude": -123.00316795158997
        },
        "display_phone": "+1 604-558-1606",
        "distance": 2635.6046103046265,
        "id": "eYuaH9z_bCDt5Kx7jGEacQ",
        "image_url": "https://s3-media4.fl.yelpcdn.com/bphoto/I9QEG6_2AH4ZoGs_AMZcNg/o.jpg",
        "is_closed": false,
        "location": {
         "address1": "6078 Silver Dr",
         "address2": null,
         "address3": "",
         "city": "Burnaby",
         "country": "CA",
         "display_address": [
          "6078 Silver Dr",
          "Burnaby, BC V5H 0H5",
          "Canada"
         ],
         "state": "BC",
         "zip_code": "V5H 0H5"
        },
        "name": "The Dolar Shop - Burnaby",
        "phone": "+16045581606",
        "price": "$$$$",
        "rating": 4,
        "review_count": 24,
        "transactions": [
         "restaurant_reservation"
        ],
        "url": "https://www.yelp.com/biz/the-dolar-shop-burnaby-burnaby-4?adjust_creative=er8VerEY7YoTpPqoX4VVvg&utm_campaign=yelp_api_v3&utm_medium=api_v3_business_search&utm_source=er8VerEY7YoTpPqoX4VVvg"
       },
       {
        "alias": "siam-le-bien-burnaby-3",
        "categories": [
         {
          "alias": "thai",
          "title": "Thai"
         }
        ],
        "coordinates": {
         "latitude": 49.2813,
         "longitude": -123.01068
        },
        "display_phone": "+1 604-293-1343",
        "distance": 5375.04496633772,
        "id": "i0RzLURwKzvNeac1X9ZN5w",
        "image_url": "https://s3-media1.fl.yelpcdn.com/bphoto/ACYJ63qfUGvZG6SWqireAg/o.jpg",
        "is_closed": false,
        "location": {
         "address1": "4217 Hastings St",
         "address2": "",
         "address3": null,
         "city": "Burnaby",
         "country": "CA",
         "display_address": [
          "4217 Hastings St",
          "Burnaby, BC V5C 2J5",
          "Canada"
         ],
         "state": "BC",
         "zip_code": "V5C 2J5"
        },
        "name": "Siam Le Bien",
        "phone": "+16042931343",
        "price": "$$",
        "rating": 4.5,
        "review_count": 47,
        "transactions": [],
        "url": "https://www.yelp.com/biz/siam-le-bien-burnaby-3?adjust_creative=er8VerEY7YoTpPqoX4VVvg&utm_campaign=yelp_api_v3&utm_medium=api_v3_business_search&utm_source=er8VerEY7YoTpPqoX4VVvg"
       },
       {
        "alias": "lhy-thai-restaurant-burnaby",
        "categories": [
         {
          "alias": "thai",
          "title": "Thai"
         }
        ],
        "coordinates": {
         "latitude": 49.2194941,
         "longitude": -122.9499264
        },
        "display_phone": "+1 604-526-8085",
        "distance": 2785.8629457305265,
        "id": "-3ZdiZIoGLrWvv3NK8-tsg",
        "image_url": "https://s3-media3.fl.yelpcdn.com/bphoto/nL6M20k736r_TqMZjhiu6Q/o.jpg",
        "is_closed": false,
        "location": {
         "address1": "7357 Edmonds Street",
         "address2": "",
         "address3": "",
         "city": "Burnaby",
         "country": "CA",
         "display_address": [
          "7357 Edmonds Street",
          "Burnaby, BC V3N 1A9",
          "Canada"
         ],
         "state": "BC",
         "zip_code": "V3N 1A9"
        },
        "name": "Lhy Thai Restaurant",
        "phone": "+16045268085",
        "price": "$$",
        "rating": 4,
        "review_count": 53,
        "transactions": [],
        "url": "https://www.yelp.com/biz/lhy-thai-restaurant-burnaby?adjust_creative=er8VerEY7YoTpPqoX4VVvg&utm_campaign=yelp_api_v3&utm_medium=api_v3_business_search&utm_source=er8VerEY7YoTpPqoX4VVvg"
       },
       {
        "alias": "bun-rieu-phuong-nam-burnaby-2",
        "categories": [
         {
          "alias": "vietnamese",
          "title": "Vietnamese"
         }
        ],
        "coordinates": {
         "latitude": 49.220189320893724,
         "longitude": -122.94861696660519
        },
        "display_phone": "+1 604-522-0500",
        "distance": 2780.1264396303086,
        "id": "AAuSMdq1IYtrR3gtg0GA-g",
        "image_url": "https://s3-media4.fl.yelpcdn.com/bphoto/IlZXwxa-jdXPTjBLzqDGaQ/o.jpg",
        "is_closed": false,
        "location": {
         "address1": "7405 Edmonds Street",
         "address2": null,
         "address3": null,
         "city": "Burnaby",
         "country": "CA",
         "display_address": [
          "7405 Edmonds Street",
          "Burnaby, BC V3N 1B1",
          "Canada"
         ],
         "state": "BC",
         "zip_code": "V3N 1B1"
        },
        "name": "Bun Rieu Phuong Nam",
        "phone": "+16045220500",
        "price": "$$",
        "rating": 4,
        "review_count": 12,
        "transactions": [],
        "url": "https://www.yelp.com/biz/bun-rieu-phuong-nam-burnaby-2?adjust_creative=er8VerEY7YoTpPqoX4VVvg&utm_campaign=yelp_api_v3&utm_medium=api_v3_business_search&utm_source=er8VerEY7YoTpPqoX4VVvg"
       },
       {
        "alias": "astros-kitchen-burnaby",
        "categories": [
         {
          "alias": "burgers",
          "title": "Burgers"
         }
        ],
        "coordinates": {
         "latitude": 49.25883,
         "longitude": -122.982748
        },
        "display_phone": "+1 604-299-6077",
        "distance": 2236.591350086072,
        "id": "NFfe18IdC24H0ILkDinfLg",
        "image_url": "https://s3-media2.fl.yelpcdn.com/bphoto/4eTqrMkbDP3W7pBcbrS5QQ/o.jpg",
        "is_closed": false,
        "location": {
         "address1": "2830 Douglas Road",
         "address2": "",
         "address3": "",
         "city": "Burnaby",
         "country": "CA",
         "display_address": [
          "2830 Douglas Road",
          "Burnaby, BC V5C 5B7",
          "Canada"
         ],
         "state": "BC",
         "zip_code": "V5C 5B7"
        },
        "name": "Astro's Kitchen",
        "phone": "+16042996077",
        "price": "$",
        "rating": 4.5,
        "review_count": 6,
        "transactions": [],
        "url": "https://www.yelp.com/biz/astros-kitchen-burnaby?adjust_creative=er8VerEY7YoTpPqoX4VVvg&utm_campaign=yelp_api_v3&utm_medium=api_v3_business_search&utm_source=er8VerEY7YoTpPqoX4VVvg"
       },
       {
        "alias": "el-comal-burnaby",
        "categories": [
         {
          "alias": "mexican",
          "title": "Mexican"
         }
        ],
        "coordinates": {
         "latitude": 49.247876818077,
         "longitude": -122.940112248954
        },
        "display_phone": "+1 604-420-1327",
        "distance": 2478.165580963046,
        "id": "mz7ngABxQqH2rYZb3_tQDQ",
        "image_url": "https://s3-media1.fl.yelpcdn.com/bphoto/JTeCIuOj6UPfwb8BYPFi3Q/o.jpg",
        "is_closed": false,
        "location": {
         "address1": "7650 Winston Street",
         "address2": "",
         "address3": "",
         "city": "Burnaby",
         "country": "CA",
         "display_address": [
          "7650 Winston Street",
          "Burnaby, BC V5A 2H4",
          "Canada"
         ],
         "state": "BC",
         "zip_code": "V5A 2H4"
        },
        "name": "El Comal",
        "phone": "+16044201327",
        "price": "$",
        "rating": 4,
        "review_count": 48,
        "transactions": [],
        "url": "https://www.yelp.com/biz/el-comal-burnaby?adjust_creative=er8VerEY7YoTpPqoX4VVvg&utm_campaign=yelp_api_v3&utm_medium=api_v3_business_search&utm_source=er8VerEY7YoTpPqoX4VVvg"
       },
       {
        "alias": "joojak-restaurant-vancouver",
        "categories": [
         {
          "alias": "chinese",
          "title": "Chinese"
         }
        ],
        "coordinates": {
         "latitude": 49.2334900680365,
         "longitude": -123.034767160936
        },
        "display_phone": "+1 604-563-8816",
        "distance": 4611.5271223456,
        "id": "ba7QMdfLHj2ayzssvKJ6-A",
        "image_url": "https://s3-media3.fl.yelpcdn.com/bphoto/1UQVOcdK9lsQukQiW4zFyA/o.jpg",
        "is_closed": false,
        "location": {
         "address1": "3337 Kingsway",
         "address2": "",
         "address3": "",
         "city": "Vancouver",
         "country": "CA",
         "display_address": [
          "3337 Kingsway",
          "Vancouver, BC V5R 5K6",
          "Canada"
         ],
         "state": "BC",
         "zip_code": "V5R 5K6"
        },
        "name": "Joojak Restaurant",
        "phone": "+16045638816",
        "price": "$$",
        "rating": 4.5,
        "review_count": 123,
        "transactions": [],
        "url": "https://www.yelp.com/biz/joojak-restaurant-vancouver?adjust_creative=er8VerEY7YoTpPqoX4VVvg&utm_campaign=yelp_api_v3&utm_medium=api_v3_business_search&utm_source=er8VerEY7YoTpPqoX4VVvg"
       },
       {
        "alias": "sushi-modo-burnaby-3",
        "categories": [
         {
          "alias": "sushi",
          "title": "Sushi Bars"
         },
         {
          "alias": "japanese",
          "title": "Japanese"
         }
        ],
        "coordinates": {
         "latitude": 49.225836,
         "longitude": -122.937422
        },
        "display_phone": "+1 604-553-0142",
        "distance": 2970.420328176069,
        "id": "epEzCF-8lFBScD2bH2JQAA",
        "image_url": "https://s3-media2.fl.yelpcdn.com/bphoto/cLIi_D1tFfgbhXKnHqS6yg/o.jpg",
        "is_closed": false,
        "location": {
         "address1": "7874 Edmonds Street",
         "address2": null,
         "address3": "",
         "city": "Burnaby",
         "country": "CA",
         "display_address": [
          "7874 Edmonds Street",
          "Burnaby, BC V3N 1B8",
          "Canada"
         ],
         "state": "BC",
         "zip_code": "V3N 1B8"
        },
        "name": "Sushi Modo",
        "phone": "+16045530142",
        "price": "$$",
        "rating": 4,
        "review_count": 88,
        "transactions": [],
        "url": "https://www.yelp.com/biz/sushi-modo-burnaby-3?adjust_creative=er8VerEY7YoTpPqoX4VVvg&utm_campaign=yelp_api_v3&utm_medium=api_v3_business_search&utm_source=er8VerEY7YoTpPqoX4VVvg"
       },
       {
        "alias": "it-char-burger-new-westminster-2",
        "categories": [
         {
          "alias": "burgers",
          "title": "Burgers"
         },
         {
          "alias": "breakfast_brunch",
          "title": "Breakfast & Brunch"
         }
        ],
        "coordinates": {
         "latitude": 49.2229148,
         "longitude": -122.9142552
        },
        "display_phone": "+1 604-521-8783",
        "distance": 4603.938416914975,
        "id": "1Ka2vC_502vd2lAs3eq3tw",
        "image_url": "https://s3-media4.fl.yelpcdn.com/bphoto/fEONfQhy1YZ8-Ec4KGMy3A/o.jpg",
        "is_closed": false,
        "location": {
         "address1": "800 McBride Boulevard",
         "address2": "Unit 29",
         "address3": "",
         "city": "New Westminster",
         "country": "CA",
         "display_address": [
          "800 McBride Boulevard",
          "Unit 29",
          "New Westminster, BC V3L 2B8",
          "Canada"
         ],
         "state": "BC",
         "zip_code": "V3L 2B8"
        },
        "name": "IT Char Burger",
        "phone": "+16045218783",
        "price": "$",
        "rating": 4.5,
        "review_count": 62,
        "transactions": [],
        "url": "https://www.yelp.com/biz/it-char-burger-new-westminster-2?adjust_creative=er8VerEY7YoTpPqoX4VVvg&utm_campaign=yelp_api_v3&utm_medium=api_v3_business_search&utm_source=er8VerEY7YoTpPqoX4VVvg"
       },
       {
        "alias": "morak-korean-restaurant-burnaby",
        "categories": [
         {
          "alias": "korean",
          "title": "Korean"
         }
        ],
        "coordinates": {
         "latitude": 49.2271215,
         "longitude": -122.9943107
        },
        "display_phone": "+1 604-437-8839",
        "distance": 2158.3882475569253,
        "id": "2oiG1VJq53D3-p3WqNCpow",
        "image_url": "https://s3-media3.fl.yelpcdn.com/bphoto/MDeg9odBbJeHr4RNkDUaoA/o.jpg",
        "is_closed": false,
        "location": {
         "address1": "6285 Nelson Avenue",
         "address2": "",
         "address3": "",
         "city": "Burnaby",
         "country": "CA",
         "display_address": [
          "6285 Nelson Avenue",
          "Burnaby, BC V5H 4T3",
          "Canada"
         ],
         "state": "BC",
         "zip_code": "V5H 4T3"
        },
        "name": "Morak Korean Restaurant",
        "phone": "+16044378839",
        "price": "$$",
        "rating": 3.5,
        "review_count": 112,
        "transactions": [],
        "url": "https://www.yelp.com/biz/morak-korean-restaurant-burnaby?adjust_creative=er8VerEY7YoTpPqoX4VVvg&utm_campaign=yelp_api_v3&utm_medium=api_v3_business_search&utm_source=er8VerEY7YoTpPqoX4VVvg"
       },
       {
        "alias": "dooboo-burnaby-2",
        "categories": [
         {
          "alias": "korean",
          "title": "Korean"
         }
        ],
        "coordinates": {
         "latitude": 49.2185949,
         "longitude": -122.9607043
        },
        "display_phone": "+1 604-522-9969",
        "distance": 2496.215648847343,
        "id": "F6kMlWj6EVo8PkxF0Iq4Gw",
        "image_url": "https://s3-media4.fl.yelpcdn.com/bphoto/qTfBFWItDmLEMXt2mp6qGw/o.jpg",
        "is_closed": false,
        "location": {
         "address1": "6907 Kingsway",
         "address2": "",
         "address3": null,
         "city": "Burnaby",
         "country": "CA",
         "display_address": [
          "6907 Kingsway",
          "Burnaby, BC V5E 1E5",
          "Canada"
         ],
         "state": "BC",
         "zip_code": "V5E 1E5"
        },
        "name": "DooBoo",
        "phone": "+16045229969",
        "rating": 4,
        "review_count": 52,
        "transactions": [],
        "url": "https://www.yelp.com/biz/dooboo-burnaby-2?adjust_creative=er8VerEY7YoTpPqoX4VVvg&utm_campaign=yelp_api_v3&utm_medium=api_v3_business_search&utm_source=er8VerEY7YoTpPqoX4VVvg"
       },
       {
        "alias": "olove-greek-kitchen-burnaby",
        "categories": [
         {
          "alias": "greek",
          "title": "Greek"
         }
        ],
        "coordinates": {
         "latitude": 49.2804849,
         "longitude": -122.9779067
        },
        "display_phone": "+1 604-620-3414",
        "distance": 4531.714089102211,
        "id": "_ZTIWy4L8cn7hwq4Kq_UGA",
        "image_url": "https://s3-media2.fl.yelpcdn.com/bphoto/6lI2KiRsYDliw9LRwY8V7Q/o.jpg",
        "is_closed": false,
        "location": {
         "address1": "5931 Hastings Street",
         "address2": null,
         "address3": "",
         "city": "Burnaby",
         "country": "CA",
         "display_address": [
          "5931 Hastings Street",
          "Burnaby, BC V5B 1R7",
          "Canada"
         ],
         "state": "BC",
         "zip_code": "V5B 1R7"
        },
        "name": "Olove Greek Kitchen",
        "phone": "+16046203414",
        "rating": 4,
        "review_count": 33,
        "transactions": [],
        "url": "https://www.yelp.com/biz/olove-greek-kitchen-burnaby?adjust_creative=er8VerEY7YoTpPqoX4VVvg&utm_campaign=yelp_api_v3&utm_medium=api_v3_business_search&utm_source=er8VerEY7YoTpPqoX4VVvg"
       },
       {
        "alias": "motonobu-udon-vancouver-3",
        "categories": [
         {
          "alias": "japanese",
          "title": "Japanese"
         },
         {
          "alias": "noodles",
          "title": "Noodles"
         }
        ],
        "coordinates": {
         "latitude": 49.2813968,
         "longitude": -123.0280718
        },
        "display_phone": "+1 604-293-1889",
        "distance": 6133.687676960909,
        "id": "CU4UQS9VG7J8joFTp_ZzCw",
        "image_url": "https://s3-media2.fl.yelpcdn.com/bphoto/rrpFUZx5vKrKttw2a71ZUw/o.jpg",
        "is_closed": false,
        "location": {
         "address1": "3501 E Hastings St",
         "address2": "",
         "address3": null,
         "city": "Vancouver",
         "country": "CA",
         "display_address": [
          "3501 E Hastings St",
          "Vancouver, BC V5K 5A6",
          "Canada"
         ],
         "state": "BC",
         "zip_code": "V5K 5A6"
        },
        "name": "Motonobu Udon",
        "phone": "+16042931889",
        "rating": 4,
        "review_count": 44,
        "transactions": [],
        "url": "https://www.yelp.com/biz/motonobu-udon-vancouver-3?adjust_creative=er8VerEY7YoTpPqoX4VVvg&utm_campaign=yelp_api_v3&utm_medium=api_v3_business_search&utm_source=er8VerEY7YoTpPqoX4VVvg"
       },
       {
        "alias": "linh-cafe-vancouver-2",
        "categories": [
         {
          "alias": "french",
          "title": "French"
         },
         {
          "alias": "vietnamese",
          "title": "Vietnamese"
         },
         {
          "alias": "bistros",
          "title": "Bistros"
         }
        ],
        "coordinates": {
         "latitude": 49.27463178413716,
         "longitude": -123.12970397622125
        },
        "display_phone": "+1 604-564-9668",
        "distance": 12074.388224114564,
        "id": "sDyUJf9TU0eMuW0jyPjR9Q",
        "image_url": "https://s3-media1.fl.yelpcdn.com/bphoto/poBFf2B7Ns2p_M7r1uamKA/o.jpg",
        "is_closed": false,
        "location": {
         "address1": "1428 Granville Street",
         "address2": "",
         "address3": null,
         "city": "Vancouver",
         "country": "CA",
         "display_address": [
          "1428 Granville Street",
          "Vancouver, BC V6K 1R2",
          "Canada"
         ],
         "state": "BC",
         "zip_code": "V6K 1R2"
        },
        "name": "Linh Cafe",
        "phone": "+16045649668",
        "rating": 4.5,
        "review_count": 11,
        "transactions": [],
        "url": "https://www.yelp.com/biz/linh-cafe-vancouver-2?adjust_creative=er8VerEY7YoTpPqoX4VVvg&utm_campaign=yelp_api_v3&utm_medium=api_v3_business_search&utm_source=er8VerEY7YoTpPqoX4VVvg"
       },
       {
        "alias": "onggi-korean-cusine-burnaby",
        "categories": [
         {
          "alias": "korean",
          "title": "Korean"
         },
         {
          "alias": "bbq",
          "title": "Barbeque"
         },
         {
          "alias": "hotpot",
          "title": "Hot Pot"
         }
        ],
        "coordinates": {
         "latitude": 49.24377273960674,
         "longitude": -122.8933061286807
        },
        "display_phone": "",
        "distance": 5730.648040913401,
        "id": "0VRQWXjPoIwxsCdMMF8QxA",
        "image_url": "https://s3-media2.fl.yelpcdn.com/bphoto/4FEpTUhwp-OHX5NzfGwdIg/o.jpg",
        "is_closed": false,
        "location": {
         "address1": "103 - 4501 North Road",
         "address2": "",
         "address3": null,
         "city": "Burnaby",
         "country": "CA",
         "display_address": [
          "103 - 4501 North Road",
          "Burnaby, BC V3N 4R7",
          "Canada"
         ],
         "state": "BC",
         "zip_code": "V3N 4R7"
        },
        "name": "Onggi Korean Cusine",
        "phone": "",
        "rating": 4.5,
        "review_count": 6,
        "transactions": [],
        "url": "https://www.yelp.com/biz/onggi-korean-cusine-burnaby?adjust_creative=er8VerEY7YoTpPqoX4VVvg&utm_campaign=yelp_api_v3&utm_medium=api_v3_business_search&utm_source=er8VerEY7YoTpPqoX4VVvg"
       },
       {
        "alias": "katsuya-coquitlam",
        "categories": [
         {
          "alias": "japanese",
          "title": "Japanese"
         }
        ],
        "coordinates": {
         "latitude": 49.26175,
         "longitude": -122.89038
        },
        "display_phone": "+1 604-931-4006",
        "distance": 6398.788329990458,
        "id": "JyLWxozP9PXSCa2Lo8Ubkw",
        "image_url": "https://s3-media2.fl.yelpcdn.com/bphoto/zkq7BdU7T-mBoWPN23jN7A/o.jpg",
        "is_closed": false,
        "location": {
         "address1": "555 Clarke Road",
         "address2": "Suite 8",
         "address3": null,
         "city": "Coquitlam",
         "country": "CA",
         "display_address": [
          "555 Clarke Road",
          "Suite 8",
          "Coquitlam, BC V3J 3X4",
          "Canada"
         ],
         "state": "BC",
         "zip_code": "V3J 3X4"
        },
        "name": "Katsuya",
        "phone": "+16049314006",
        "price": "$$",
        "rating": 4.5,
        "review_count": 105,
        "transactions": [],
        "url": "https://www.yelp.com/biz/katsuya-coquitlam?adjust_creative=er8VerEY7YoTpPqoX4VVvg&utm_campaign=yelp_api_v3&utm_medium=api_v3_business_search&utm_source=er8VerEY7YoTpPqoX4VVvg"
       },
       {
        "alias": "la-forêt-burnaby-3",
        "categories": [
         {
          "alias": "coffee",
          "title": "Coffee & Tea"
         },
         {
          "alias": "bakeries",
          "title": "Bakeries"
         },
         {
          "alias": "breakfast_brunch",
          "title": "Breakfast & Brunch"
         }
        ],
        "coordinates": {
         "latitude": 49.2212819390063,
         "longitude": -122.995836958493
        },
        "display_phone": "+1 604-428-8155",
        "distance": 2703.1571916811727,
        "id": "-8LdHGN1xVpmvfy0efwzqg",
        "image_url": "https://s3-media2.fl.yelpcdn.com/bphoto/_yS1d4CLVzBS1v6hmQ9yzQ/o.jpg",
        "is_closed": false,
        "location": {
         "address1": "6848 Jubilee Avenue",
         "address2": "",
         "address3": null,
         "city": "Burnaby",
         "country": "CA",
         "display_address": [
          "6848 Jubilee Avenue",
          "Burnaby, BC V5J 4B3",
          "Canada"
         ],
         "state": "BC",
         "zip_code": "V5J 4B3"
        },
        "name": "La Forêt",
        "phone": "+16044288155",
        "price": "$$",
        "rating": 3.5,
        "review_count": 417,
        "transactions": [],
        "url": "https://www.yelp.com/biz/la-for%C3%AAt-burnaby-3?adjust_creative=er8VerEY7YoTpPqoX4VVvg&utm_campaign=yelp_api_v3&utm_medium=api_v3_business_search&utm_source=er8VerEY7YoTpPqoX4VVvg"
       },
       {
        "alias": "viet-mama-cafe-vancouver",
        "categories": [
         {
          "alias": "vietnamese",
          "title": "Vietnamese"
         },
         {
          "alias": "noodles",
          "title": "Noodles"
         }
        ],
        "coordinates": {
         "latitude": 49.2379348,
         "longitude": -123.0652077
        },
        "display_phone": "+1 778-988-9257",
        "distance": 6768.985102167764,
        "id": "0ZQEW-RbbA35ZH6AdCu7zg",
        "image_url": "https://s3-media1.fl.yelpcdn.com/bphoto/S7XpRbkLxLG8svfN3vJ1fg/o.jpg",
        "is_closed": false,
        "location": {
         "address1": "5118 Victoria Drive",
         "address2": "",
         "address3": null,
         "city": "Vancouver",
         "country": "CA",
         "display_address": [
          "5118 Victoria Drive",
          "Vancouver, BC V5P 3V2",
          "Canada"
         ],
         "state": "BC",
         "zip_code": "V5P 3V2"
        },
        "name": "Viet Mama Cafe",
        "phone": "+17789889257",
        "rating": 4.5,
        "review_count": 48,
        "transactions": [],
        "url": "https://www.yelp.com/biz/viet-mama-cafe-vancouver?adjust_creative=er8VerEY7YoTpPqoX4VVvg&utm_campaign=yelp_api_v3&utm_medium=api_v3_business_search&utm_source=er8VerEY7YoTpPqoX4VVvg"
       }
      ],
      "text/plain": [
       "<IPython.core.display.JSON object>"
      ]
     },
     "execution_count": 16,
     "metadata": {
      "application/json": {
       "expanded": false,
       "root": "root"
      }
     },
     "output_type": "execute_result"
    }
   ],
   "source": [
    "JSON(yelp_req)"
   ]
  },
  {
   "cell_type": "code",
   "execution_count": 17,
   "metadata": {
    "slideshow": {
     "slide_type": "skip"
    }
   },
   "outputs": [],
   "source": [
    "# import pprint\n",
    "# pp = pprint.PrettyPrinter()\n",
    "# pp.pprint(yelp_req[0])"
   ]
  },
  {
   "cell_type": "code",
   "execution_count": 18,
   "metadata": {
    "slideshow": {
     "slide_type": "skip"
    }
   },
   "outputs": [],
   "source": [
    "yelp_loc = pd.DataFrame()\n",
    "yelp_cat = pd.DataFrame()"
   ]
  },
  {
   "cell_type": "code",
   "execution_count": 19,
   "metadata": {
    "slideshow": {
     "slide_type": "skip"
    }
   },
   "outputs": [
    {
     "name": "stdout",
     "output_type": "stream",
     "text": [
      "price missing\n",
      "price missing\n",
      "price missing\n",
      "price missing\n",
      "price missing\n",
      "price missing\n",
      "price missing\n",
      "price missing\n",
      "price missing\n",
      "price missing\n",
      "price missing\n",
      "price missing\n",
      "price missing\n",
      "price missing\n",
      "price missing\n",
      "price missing\n",
      "price missing\n",
      "price missing\n"
     ]
    }
   ],
   "source": [
    "# Same as before with the foursquare api\n",
    "for i in yelp_req:\n",
    "    yelp_id = i['id']\n",
    "    name = i['name']\n",
    "    lat = i['coordinates']['latitude']\n",
    "    lon = i['coordinates']['longitude']\n",
    "    distance = i['distance']\n",
    "    address = i['location']['address1']\n",
    "    phone = i['phone']\n",
    "    city = i['location']['city']\n",
    "    country = i['location']['country']\n",
    "    price = ''\n",
    "    try:\n",
    "        price = i['price']\n",
    "    except:\n",
    "        print('price missing')\n",
    "    rating = i['rating']\n",
    "    review_count = i['review_count']\n",
    "    yelp_loc = yelp_loc.append({'yelp_id': yelp_id, 'name': name, 'lat': lat, 'lon': lon,\n",
    "                                'distance': distance, 'address': address, 'phone': phone,\n",
    "                                'city': city, 'country': country, 'price': price,\n",
    "                                'rating': rating, 'review_count': review_count\n",
    "                                }, ignore_index=True)\n",
    "    for cat in i['categories']:\n",
    "        title = cat['alias']\n",
    "        yelp_cat = yelp_cat.append({'yelp_id': yelp_id, 'category': title}, \n",
    "                                    ignore_index=True)"
   ]
  },
  {
   "cell_type": "code",
   "execution_count": 20,
   "metadata": {
    "slideshow": {
     "slide_type": "skip"
    }
   },
   "outputs": [],
   "source": [
    "# save the data into sql\n",
    "# yelp_loc.to_sql('yelp_locations', engine)\n",
    "# yelp_cat.to_sql('yelp_categories', engine)"
   ]
  },
  {
   "cell_type": "markdown",
   "metadata": {
    "slideshow": {
     "slide_type": "slide"
    }
   },
   "source": [
    "## Gathering Data\n",
    "1. fetch restaurant info from each API\n",
    "2. unpack JSON data\n",
    "3. store data into SQL database"
   ]
  },
  {
   "cell_type": "markdown",
   "metadata": {
    "slideshow": {
     "slide_type": "slide"
    }
   },
   "source": [
    "## Comparing the two API's\n",
    "What data does each provide?"
   ]
  },
  {
   "cell_type": "markdown",
   "metadata": {
    "slideshow": {
     "slide_type": "slide"
    }
   },
   "source": [
    "## Data Types Comparison\n",
    "|Foursquare |Yelp |\n",
    "|---   |---   |\n",
    "|   Name  |Name   |\n",
    "| Address | Address |\n",
    "| Distance| Distance |\n",
    "| Coordinates | Coordinates |\n",
    "| country, province, city | country,province, city|\n",
    "| Categories | Categories |\n",
    "| Price   | Price  |\n",
    "| Ratings   | Ratings |\n",
    "| Phone Number  | Phone Number |\n",
    "| Review Count  | Review Count |"
   ]
  },
  {
   "cell_type": "markdown",
   "metadata": {
    "slideshow": {
     "slide_type": "slide"
    }
   },
   "source": [
    "## Top 10 Restaurants"
   ]
  },
  {
   "cell_type": "code",
   "execution_count": 21,
   "metadata": {
    "slideshow": {
     "slide_type": "skip"
    }
   },
   "outputs": [],
   "source": [
    "yelp_top10 = yelp_loc.sort_values('rating', ascending=False).head(10)"
   ]
  },
  {
   "cell_type": "code",
   "execution_count": 22,
   "metadata": {
    "slideshow": {
     "slide_type": "skip"
    }
   },
   "outputs": [],
   "source": [
    "fs_top10 = fs_locations.sort_values('rating', ascending=False).head(10)"
   ]
  },
  {
   "cell_type": "code",
   "execution_count": 23,
   "metadata": {
    "cell_style": "split",
    "scrolled": false,
    "slideshow": {
     "slide_type": "fragment"
    }
   },
   "outputs": [
    {
     "name": "stdout",
     "output_type": "stream",
     "text": [
      "Yelp\n"
     ]
    },
    {
     "data": {
      "text/html": [
       "<div>\n",
       "<style scoped>\n",
       "    .dataframe tbody tr th:only-of-type {\n",
       "        vertical-align: middle;\n",
       "    }\n",
       "\n",
       "    .dataframe tbody tr th {\n",
       "        vertical-align: top;\n",
       "    }\n",
       "\n",
       "    .dataframe thead th {\n",
       "        text-align: right;\n",
       "    }\n",
       "</style>\n",
       "<table border=\"1\" class=\"dataframe\">\n",
       "  <thead>\n",
       "    <tr style=\"text-align: right;\">\n",
       "      <th></th>\n",
       "      <th>name</th>\n",
       "      <th>rating</th>\n",
       "      <th>review_count</th>\n",
       "    </tr>\n",
       "  </thead>\n",
       "  <tbody>\n",
       "    <tr>\n",
       "      <th>22</th>\n",
       "      <td>Wonderffle</td>\n",
       "      <td>5.0</td>\n",
       "      <td>8.0</td>\n",
       "    </tr>\n",
       "    <tr>\n",
       "      <th>16</th>\n",
       "      <td>Henry's Kitchen Pasta &amp; Grill</td>\n",
       "      <td>5.0</td>\n",
       "      <td>46.0</td>\n",
       "    </tr>\n",
       "    <tr>\n",
       "      <th>12</th>\n",
       "      <td>Pearl House Burnaby</td>\n",
       "      <td>4.5</td>\n",
       "      <td>11.0</td>\n",
       "    </tr>\n",
       "    <tr>\n",
       "      <th>36</th>\n",
       "      <td>Astro's Kitchen</td>\n",
       "      <td>4.5</td>\n",
       "      <td>6.0</td>\n",
       "    </tr>\n",
       "    <tr>\n",
       "      <th>1</th>\n",
       "      <td>Little Minh's</td>\n",
       "      <td>4.5</td>\n",
       "      <td>101.0</td>\n",
       "    </tr>\n",
       "    <tr>\n",
       "      <th>38</th>\n",
       "      <td>Joojak Restaurant</td>\n",
       "      <td>4.5</td>\n",
       "      <td>123.0</td>\n",
       "    </tr>\n",
       "    <tr>\n",
       "      <th>26</th>\n",
       "      <td>Fat Boy Kitchen</td>\n",
       "      <td>4.5</td>\n",
       "      <td>10.0</td>\n",
       "    </tr>\n",
       "    <tr>\n",
       "      <th>40</th>\n",
       "      <td>IT Char Burger</td>\n",
       "      <td>4.5</td>\n",
       "      <td>62.0</td>\n",
       "    </tr>\n",
       "    <tr>\n",
       "      <th>33</th>\n",
       "      <td>Siam Le Bien</td>\n",
       "      <td>4.5</td>\n",
       "      <td>47.0</td>\n",
       "    </tr>\n",
       "    <tr>\n",
       "      <th>14</th>\n",
       "      <td>Wild Thyme</td>\n",
       "      <td>4.5</td>\n",
       "      <td>311.0</td>\n",
       "    </tr>\n",
       "  </tbody>\n",
       "</table>\n",
       "</div>"
      ],
      "text/plain": [
       "                             name  rating  review_count\n",
       "22                     Wonderffle     5.0           8.0\n",
       "16  Henry's Kitchen Pasta & Grill     5.0          46.0\n",
       "12            Pearl House Burnaby     4.5          11.0\n",
       "36                Astro's Kitchen     4.5           6.0\n",
       "1                   Little Minh's     4.5         101.0\n",
       "38              Joojak Restaurant     4.5         123.0\n",
       "26                Fat Boy Kitchen     4.5          10.0\n",
       "40                 IT Char Burger     4.5          62.0\n",
       "33                   Siam Le Bien     4.5          47.0\n",
       "14                     Wild Thyme     4.5         311.0"
      ]
     },
     "execution_count": 23,
     "metadata": {},
     "output_type": "execute_result"
    }
   ],
   "source": [
    "print('Yelp')\n",
    "yelp_top10[['name', 'rating', 'review_count']]"
   ]
  },
  {
   "cell_type": "code",
   "execution_count": 24,
   "metadata": {
    "cell_style": "split",
    "slideshow": {
     "slide_type": "fragment"
    }
   },
   "outputs": [
    {
     "name": "stdout",
     "output_type": "stream",
     "text": [
      "Foursquare\n"
     ]
    },
    {
     "data": {
      "text/html": [
       "<div>\n",
       "<style scoped>\n",
       "    .dataframe tbody tr th:only-of-type {\n",
       "        vertical-align: middle;\n",
       "    }\n",
       "\n",
       "    .dataframe tbody tr th {\n",
       "        vertical-align: top;\n",
       "    }\n",
       "\n",
       "    .dataframe thead th {\n",
       "        text-align: right;\n",
       "    }\n",
       "</style>\n",
       "<table border=\"1\" class=\"dataframe\">\n",
       "  <thead>\n",
       "    <tr style=\"text-align: right;\">\n",
       "      <th></th>\n",
       "      <th>name</th>\n",
       "      <th>rating</th>\n",
       "      <th>rating_count</th>\n",
       "    </tr>\n",
       "  </thead>\n",
       "  <tbody>\n",
       "    <tr>\n",
       "      <th>9</th>\n",
       "      <td>Camellia Tea &amp; Coffee</td>\n",
       "      <td>8.6</td>\n",
       "      <td>60.0</td>\n",
       "    </tr>\n",
       "    <tr>\n",
       "      <th>36</th>\n",
       "      <td>Mon Paris Patisserie Inc</td>\n",
       "      <td>8.6</td>\n",
       "      <td>19.0</td>\n",
       "    </tr>\n",
       "    <tr>\n",
       "      <th>17</th>\n",
       "      <td>Hi Genki Japanese Restaurant</td>\n",
       "      <td>8.4</td>\n",
       "      <td>90.0</td>\n",
       "    </tr>\n",
       "    <tr>\n",
       "      <th>24</th>\n",
       "      <td>Jinya Ramen Bar</td>\n",
       "      <td>8.3</td>\n",
       "      <td>28.0</td>\n",
       "    </tr>\n",
       "    <tr>\n",
       "      <th>8</th>\n",
       "      <td>Myst Asian Fusion</td>\n",
       "      <td>8.3</td>\n",
       "      <td>20.0</td>\n",
       "    </tr>\n",
       "    <tr>\n",
       "      <th>16</th>\n",
       "      <td>El Comal</td>\n",
       "      <td>8.2</td>\n",
       "      <td>13.0</td>\n",
       "    </tr>\n",
       "    <tr>\n",
       "      <th>23</th>\n",
       "      <td>Me-N-Ed's Pizza Parlor</td>\n",
       "      <td>8.2</td>\n",
       "      <td>40.0</td>\n",
       "    </tr>\n",
       "    <tr>\n",
       "      <th>22</th>\n",
       "      <td>Kea's Meats</td>\n",
       "      <td>8.0</td>\n",
       "      <td>12.0</td>\n",
       "    </tr>\n",
       "    <tr>\n",
       "      <th>43</th>\n",
       "      <td>Caritas 9 Coffee Roasters</td>\n",
       "      <td>8.0</td>\n",
       "      <td>9.0</td>\n",
       "    </tr>\n",
       "    <tr>\n",
       "      <th>30</th>\n",
       "      <td>Cactus Club Cafe Station Square</td>\n",
       "      <td>8.0</td>\n",
       "      <td>4.0</td>\n",
       "    </tr>\n",
       "  </tbody>\n",
       "</table>\n",
       "</div>"
      ],
      "text/plain": [
       "                               name  rating  rating_count\n",
       "9             Camellia Tea & Coffee     8.6          60.0\n",
       "36         Mon Paris Patisserie Inc     8.6          19.0\n",
       "17     Hi Genki Japanese Restaurant     8.4          90.0\n",
       "24                  Jinya Ramen Bar     8.3          28.0\n",
       "8                 Myst Asian Fusion     8.3          20.0\n",
       "16                         El Comal     8.2          13.0\n",
       "23           Me-N-Ed's Pizza Parlor     8.2          40.0\n",
       "22                      Kea's Meats     8.0          12.0\n",
       "43        Caritas 9 Coffee Roasters     8.0           9.0\n",
       "30  Cactus Club Cafe Station Square     8.0           4.0"
      ]
     },
     "execution_count": 24,
     "metadata": {},
     "output_type": "execute_result"
    }
   ],
   "source": [
    "print('Foursquare')\n",
    "fs_top10[['name', 'rating', 'rating_count']]"
   ]
  },
  {
   "cell_type": "markdown",
   "metadata": {
    "slideshow": {
     "slide_type": "slide"
    }
   },
   "source": [
    "## Ease of Use\n",
    "Both API's were of similar ease of use.\n",
    "- Decently written documentation\n",
    "- Provided examples\n",
    "- Testing within documentation\n",
    "- API functions were relatively easy to use"
   ]
  },
  {
   "cell_type": "markdown",
   "metadata": {
    "slideshow": {
     "slide_type": "slide"
    }
   },
   "source": [
    "## Options and Functionality\n",
    "- Yelp: Less functions, more comprehensive data\n",
    "- Yelp: Less options on what data to return\n",
    "- Foursquare: More options for more granular data\n",
    "- Foursquare: the options were a bit difficult to find"
   ]
  },
  {
   "cell_type": "markdown",
   "metadata": {
    "slideshow": {
     "slide_type": "slide"
    }
   },
   "source": [
    "## Data Quality\n",
    "- Foursquare: Some missing data\n",
    "    - Some missing data, different types\n",
    "    - Missing data is not passed through the API, can cause data read problems\n",
    "- Yelp: Few Errors with missing data\n",
    "    - Most missing data filled in with blanks\n",
    "    - Only missing price data caused issue"
   ]
  },
  {
   "cell_type": "markdown",
   "metadata": {
    "slideshow": {
     "slide_type": "slide"
    }
   },
   "source": [
    "## Which is better?\n",
    "I would choose the Foursquare API\n",
    "- Relatively simple API\n",
    "- Comprehensive options for fetching data\n",
    "- Somewhat less missing data"
   ]
  },
  {
   "cell_type": "markdown",
   "metadata": {
    "cell_style": "center",
    "slideshow": {
     "slide_type": "slide"
    }
   },
   "source": [
    "# The End!\n",
    "Questions?"
   ]
  }
 ],
 "metadata": {
  "celltoolbar": "Slideshow",
  "kernelspec": {
   "display_name": "Python 3",
   "language": "python",
   "name": "python3"
  },
  "language_info": {
   "codemirror_mode": {
    "name": "ipython",
    "version": 3
   },
   "file_extension": ".py",
   "mimetype": "text/x-python",
   "name": "python",
   "nbconvert_exporter": "python",
   "pygments_lexer": "ipython3",
   "version": "3.8.5"
  }
 },
 "nbformat": 4,
 "nbformat_minor": 4
}
